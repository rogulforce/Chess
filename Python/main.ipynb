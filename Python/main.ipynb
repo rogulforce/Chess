{
 "cells": [
  {
   "cell_type": "markdown",
   "metadata": {
    "collapsed": true,
    "pycharm": {
     "name": "#%% md\n"
    }
   },
   "source": [
    "# HWDP\n",
    "\n",
    "$ x = \\frac{\\sqrt{z}}{y} $"
   ]
  },
  {
   "cell_type": "code",
   "execution_count": 2,
   "outputs": [],
   "source": [
    "import pandas as pd\n",
    "import re\n",
    "import numpy as np"
   ],
   "metadata": {
    "collapsed": false,
    "pycharm": {
     "name": "#%%\n"
    }
   }
  },
  {
   "cell_type": "code",
   "execution_count": 3,
   "outputs": [],
   "source": [
    "db= pd.read_csv(r'filtered_data.csv')"
   ],
   "metadata": {
    "collapsed": false,
    "pycharm": {
     "name": "#%%\n"
    }
   }
  },
  {
   "cell_type": "code",
   "execution_count": 4,
   "outputs": [
    {
     "data": {
      "text/plain": "   Unnamed: 0                 Event Result  WhiteElo  BlackElo  \\\n0           0     Rated Bullet game    0-1      1079      1071   \n1           1      Rated Blitz game    0-1      1888      1796   \n2           2      Rated Rapid game    0-1      1090      1156   \n3           3     Rated Bullet game    0-1      1091      1184   \n4           4  Rated Classical game    1-0      1672      1699   \n\n   WhiteRatingDiff  BlackRatingDiff  ECO  \\\n0              -30               10  B00   \n1              -13               13  C62   \n2               -9               11  B20   \n3               -8                9  C20   \n4               11              -11  C64   \n\n                                             Opening TimeControl  \\\n0                                       Owen Defense        60+0   \n1                        Ruy Lopez: Steinitz Defense       300+0   \n2                                   Sicilian Defense       600+0   \n3  King's Pawn Game: Wayward Queen Attack, Kiddie...        60+0   \n4  Ruy Lopez: Classical Variation, Central Variation      900+15   \n\n    Termination                                               Game  \n0  Time forfeit  1. e4 { [%eval 0.12] [%clk 0:01:00] } 1... b6?...  \n1        Normal  1. e4 { [%eval 0.12] [%clk 0:05:00] } 1... e5 ...  \n2        Normal  1. e4 { [%eval 0.12] [%clk 0:10:00] } 1... c5 ...  \n3  Time forfeit  1. e4 { [%eval 0.12] [%clk 0:01:00] } 1... e5 ...  \n4        Normal  1. e4 { [%eval 0.12] [%clk 0:15:00] } 1... e5 ...  ",
      "text/html": "<div>\n<style scoped>\n    .dataframe tbody tr th:only-of-type {\n        vertical-align: middle;\n    }\n\n    .dataframe tbody tr th {\n        vertical-align: top;\n    }\n\n    .dataframe thead th {\n        text-align: right;\n    }\n</style>\n<table border=\"1\" class=\"dataframe\">\n  <thead>\n    <tr style=\"text-align: right;\">\n      <th></th>\n      <th>Unnamed: 0</th>\n      <th>Event</th>\n      <th>Result</th>\n      <th>WhiteElo</th>\n      <th>BlackElo</th>\n      <th>WhiteRatingDiff</th>\n      <th>BlackRatingDiff</th>\n      <th>ECO</th>\n      <th>Opening</th>\n      <th>TimeControl</th>\n      <th>Termination</th>\n      <th>Game</th>\n    </tr>\n  </thead>\n  <tbody>\n    <tr>\n      <th>0</th>\n      <td>0</td>\n      <td>Rated Bullet game</td>\n      <td>0-1</td>\n      <td>1079</td>\n      <td>1071</td>\n      <td>-30</td>\n      <td>10</td>\n      <td>B00</td>\n      <td>Owen Defense</td>\n      <td>60+0</td>\n      <td>Time forfeit</td>\n      <td>1. e4 { [%eval 0.12] [%clk 0:01:00] } 1... b6?...</td>\n    </tr>\n    <tr>\n      <th>1</th>\n      <td>1</td>\n      <td>Rated Blitz game</td>\n      <td>0-1</td>\n      <td>1888</td>\n      <td>1796</td>\n      <td>-13</td>\n      <td>13</td>\n      <td>C62</td>\n      <td>Ruy Lopez: Steinitz Defense</td>\n      <td>300+0</td>\n      <td>Normal</td>\n      <td>1. e4 { [%eval 0.12] [%clk 0:05:00] } 1... e5 ...</td>\n    </tr>\n    <tr>\n      <th>2</th>\n      <td>2</td>\n      <td>Rated Rapid game</td>\n      <td>0-1</td>\n      <td>1090</td>\n      <td>1156</td>\n      <td>-9</td>\n      <td>11</td>\n      <td>B20</td>\n      <td>Sicilian Defense</td>\n      <td>600+0</td>\n      <td>Normal</td>\n      <td>1. e4 { [%eval 0.12] [%clk 0:10:00] } 1... c5 ...</td>\n    </tr>\n    <tr>\n      <th>3</th>\n      <td>3</td>\n      <td>Rated Bullet game</td>\n      <td>0-1</td>\n      <td>1091</td>\n      <td>1184</td>\n      <td>-8</td>\n      <td>9</td>\n      <td>C20</td>\n      <td>King's Pawn Game: Wayward Queen Attack, Kiddie...</td>\n      <td>60+0</td>\n      <td>Time forfeit</td>\n      <td>1. e4 { [%eval 0.12] [%clk 0:01:00] } 1... e5 ...</td>\n    </tr>\n    <tr>\n      <th>4</th>\n      <td>4</td>\n      <td>Rated Classical game</td>\n      <td>1-0</td>\n      <td>1672</td>\n      <td>1699</td>\n      <td>11</td>\n      <td>-11</td>\n      <td>C64</td>\n      <td>Ruy Lopez: Classical Variation, Central Variation</td>\n      <td>900+15</td>\n      <td>Normal</td>\n      <td>1. e4 { [%eval 0.12] [%clk 0:15:00] } 1... e5 ...</td>\n    </tr>\n  </tbody>\n</table>\n</div>"
     },
     "execution_count": 4,
     "metadata": {},
     "output_type": "execute_result"
    }
   ],
   "source": [
    "db.head()"
   ],
   "metadata": {
    "collapsed": false,
    "pycharm": {
     "name": "#%%\n"
    }
   }
  },
  {
   "cell_type": "code",
   "execution_count": 5,
   "outputs": [
    {
     "data": {
      "text/plain": "         Unnamed: 0      WhiteElo      BlackElo  WhiteRatingDiff  \\\ncount  31461.000000  31461.000000  31461.000000     31461.000000   \nmean   15730.000000   1503.446903   1503.921967         4.022536   \nstd     9082.152746    321.223393    320.695908        30.933538   \nmin        0.000000    800.000000    800.000000      -437.000000   \n25%     7865.000000   1266.000000   1267.000000       -10.000000   \n50%    15730.000000   1500.000000   1500.000000         3.000000   \n75%    23595.000000   1725.000000   1724.000000        11.000000   \nmax    31460.000000   2748.000000   2667.000000       460.000000   \n\n       BlackRatingDiff  \ncount     31461.000000  \nmean          2.654684  \nstd          29.354305  \nmin        -615.000000  \n25%         -10.000000  \n50%          -2.000000  \n75%          11.000000  \nmax         598.000000  ",
      "text/html": "<div>\n<style scoped>\n    .dataframe tbody tr th:only-of-type {\n        vertical-align: middle;\n    }\n\n    .dataframe tbody tr th {\n        vertical-align: top;\n    }\n\n    .dataframe thead th {\n        text-align: right;\n    }\n</style>\n<table border=\"1\" class=\"dataframe\">\n  <thead>\n    <tr style=\"text-align: right;\">\n      <th></th>\n      <th>Unnamed: 0</th>\n      <th>WhiteElo</th>\n      <th>BlackElo</th>\n      <th>WhiteRatingDiff</th>\n      <th>BlackRatingDiff</th>\n    </tr>\n  </thead>\n  <tbody>\n    <tr>\n      <th>count</th>\n      <td>31461.000000</td>\n      <td>31461.000000</td>\n      <td>31461.000000</td>\n      <td>31461.000000</td>\n      <td>31461.000000</td>\n    </tr>\n    <tr>\n      <th>mean</th>\n      <td>15730.000000</td>\n      <td>1503.446903</td>\n      <td>1503.921967</td>\n      <td>4.022536</td>\n      <td>2.654684</td>\n    </tr>\n    <tr>\n      <th>std</th>\n      <td>9082.152746</td>\n      <td>321.223393</td>\n      <td>320.695908</td>\n      <td>30.933538</td>\n      <td>29.354305</td>\n    </tr>\n    <tr>\n      <th>min</th>\n      <td>0.000000</td>\n      <td>800.000000</td>\n      <td>800.000000</td>\n      <td>-437.000000</td>\n      <td>-615.000000</td>\n    </tr>\n    <tr>\n      <th>25%</th>\n      <td>7865.000000</td>\n      <td>1266.000000</td>\n      <td>1267.000000</td>\n      <td>-10.000000</td>\n      <td>-10.000000</td>\n    </tr>\n    <tr>\n      <th>50%</th>\n      <td>15730.000000</td>\n      <td>1500.000000</td>\n      <td>1500.000000</td>\n      <td>3.000000</td>\n      <td>-2.000000</td>\n    </tr>\n    <tr>\n      <th>75%</th>\n      <td>23595.000000</td>\n      <td>1725.000000</td>\n      <td>1724.000000</td>\n      <td>11.000000</td>\n      <td>11.000000</td>\n    </tr>\n    <tr>\n      <th>max</th>\n      <td>31460.000000</td>\n      <td>2748.000000</td>\n      <td>2667.000000</td>\n      <td>460.000000</td>\n      <td>598.000000</td>\n    </tr>\n  </tbody>\n</table>\n</div>"
     },
     "execution_count": 5,
     "metadata": {},
     "output_type": "execute_result"
    }
   ],
   "source": [
    "db.describe()"
   ],
   "metadata": {
    "collapsed": false,
    "pycharm": {
     "name": "#%%\n"
    }
   }
  },
  {
   "cell_type": "code",
   "execution_count": 4,
   "outputs": [
    {
     "data": {
      "text/plain": "0        1. e4 { [%eval 0.12] [%clk 0:01:00] } 1... b6?...\n1        1. e4 { [%eval 0.12] [%clk 0:05:00] } 1... e5 ...\n2        1. e4 { [%eval 0.12] [%clk 0:10:00] } 1... c5 ...\n3        1. e4 { [%eval 0.12] [%clk 0:01:00] } 1... e5 ...\n4        1. e4 { [%eval 0.12] [%clk 0:15:00] } 1... e5 ...\n                               ...                        \n31456    1. d4 { [%eval 0.25] [%clk 0:05:00] } 1... d5 ...\n31457    1. e4 { [%eval 0.12] [%clk 0:10:00] } 1... e5 ...\n31458    1. e4 { [%eval 0.12] [%clk 0:10:00] } 1... e5 ...\n31459    1. e4 { [%eval 0.12] [%clk 0:10:00] } 1... e5 ...\n31460    1. c4 { [%eval 0.1] [%clk 0:02:00] } 1... e5 {...\nName: Game, Length: 31461, dtype: object"
     },
     "execution_count": 4,
     "metadata": {},
     "output_type": "execute_result"
    }
   ],
   "source": [
    "# domyślnie bez [:5]\n",
    "a = db.Game\n",
    "a"
   ],
   "metadata": {
    "collapsed": false,
    "pycharm": {
     "name": "#%%\n"
    }
   }
  },
  {
   "cell_type": "code",
   "execution_count": 16,
   "outputs": [],
   "source": [
    "def time_to_sec(hhmmss):\n",
    "    return sum(x * int(t) for x, t in zip([3600, 60, 1], hhmmss.split(\":\")))\n",
    "\n",
    "def derivative(value_list, step=1, reversed=False):\n",
    "    v_copy = [it for it in value_list]\n",
    "    for i in range(len(v_copy)-1, -1, -1):\n",
    "        if i in np.arange(step):\n",
    "            v_copy[i] = 0\n",
    "        if i >= step:\n",
    "            try:\n",
    "                v_copy[i] = round(v_copy[i] - v_copy[i-step], 2)\n",
    "            except TypeError:\n",
    "                pass\n",
    "    if reversed:\n",
    "        v_copy = [-1 * it for it in v_copy]\n",
    "    return v_copy"
   ],
   "metadata": {
    "collapsed": false,
    "pycharm": {
     "name": "#%%\n"
    }
   }
  },
  {
   "cell_type": "code",
   "execution_count": 17,
   "outputs": [
    {
     "name": "stdout",
     "output_type": "stream",
     "text": [
      "0\n",
      "1000\n",
      "2000\n",
      "3000\n",
      "4000\n",
      "5000\n",
      "6000\n",
      "7000\n",
      "8000\n",
      "9000\n",
      "10000\n",
      "11000\n",
      "12000\n",
      "13000\n",
      "14000\n",
      "15000\n",
      "16000\n",
      "17000\n",
      "18000\n",
      "19000\n",
      "20000\n",
      "21000\n",
      "22000\n",
      "23000\n",
      "24000\n",
      "25000\n",
      "26000\n",
      "27000\n",
      "28000\n",
      "29000\n",
      "30000\n",
      "31000\n"
     ]
    }
   ],
   "source": [
    "# na razie na a[0] -> zrobić fora dla wszystkich\n",
    "# ev = re.findall(r\"\\%eval (.*?)\\]\",a[0])\n",
    "# ev = [float(it) for it in ev]\n",
    "#\n",
    "# t_left = re.findall(r\"\\%clk (.*?)\\]\",a[0])\n",
    "# t_left = [time_to_sec(it) for it in t_left]\n",
    "#\n",
    "# d_t = derivative(t_left, step=2, reversed=True)\n",
    "# d_ev = [round(it,2) for it in derivative(ev, step=1, reversed=False)]\n",
    "# ev\n",
    "all_ev = []\n",
    "all_d_ev = []\n",
    "all_t_left = []\n",
    "all_d_t = []\n",
    "for j in range(len(a)):\n",
    "    if j % 1000 == 0:\n",
    "        print(j)\n",
    "    ev = re.findall(r\"\\%eval (.*?)\\]\",a[j])\n",
    "    for i in range(len(ev)):\n",
    "        try:\n",
    "            ev[i] = round(float(ev[i]),2)\n",
    "        except ValueError:\n",
    "            pass\n",
    "    all_ev.append(ev)\n",
    "    t_left = re.findall(r\"\\%clk (.*?)\\]\",a[j])\n",
    "    t_left = [time_to_sec(it) for it in t_left]\n",
    "    all_t_left.append(t_left)\n",
    "    all_d_t.append(derivative(t_left, step=2, reversed=True))\n",
    "    all_d_ev.append(derivative(ev, step=1, reversed=False))"
   ],
   "metadata": {
    "collapsed": false,
    "pycharm": {
     "name": "#%%\n"
    }
   }
  },
  {
   "cell_type": "code",
   "execution_count": 8,
   "outputs": [
    {
     "data": {
      "text/plain": "[3, 2, 1, 0]"
     },
     "execution_count": 8,
     "metadata": {},
     "output_type": "execute_result"
    }
   ],
   "source": [],
   "metadata": {
    "collapsed": false,
    "pycharm": {
     "name": "#%%\n"
    }
   }
  },
  {
   "cell_type": "code",
   "execution_count": 18,
   "outputs": [],
   "source": [
    "db['Eval'] = all_ev\n",
    "db['Eval_change'] = all_d_ev\n",
    "db['Time'] = all_t_left\n",
    "db['Time_change'] = all_d_t"
   ],
   "metadata": {
    "collapsed": false,
    "pycharm": {
     "name": "#%%\n"
    }
   }
  },
  {
   "cell_type": "code",
   "execution_count": 19,
   "outputs": [
    {
     "data": {
      "text/plain": "   Unnamed: 0              Event Result  WhiteElo  BlackElo  WhiteRatingDiff  \\\n0           0  Rated Bullet game    0-1      1079      1071              -30   \n\n   BlackRatingDiff  ECO       Opening TimeControl   Termination  \\\n0               10  B00  Owen Defense        60+0  Time forfeit   \n\n                                                Game  \\\n0  1. e4 { [%eval 0.12] [%clk 0:01:00] } 1... b6?...   \n\n                                                Eval  \\\n0  [0.12, 0.62, 0.64, 0.62, 0.47, 0.54, 0.27, 0.6...   \n\n                                         Eval_change  \\\n0  [0, 0.5, 0.02, -0.02, -0.15, 0.07, -0.27, 0.41...   \n\n                                                Time  \\\n0  [60, 60, 57, 60, 57, 60, 55, 57, 51, 55, 48, 5...   \n\n                                         Time_change  \n0  [0, 0, 3, 0, 0, 0, 2, 3, 4, 2, 3, 1, 2, 1, 1, ...  ",
      "text/html": "<div>\n<style scoped>\n    .dataframe tbody tr th:only-of-type {\n        vertical-align: middle;\n    }\n\n    .dataframe tbody tr th {\n        vertical-align: top;\n    }\n\n    .dataframe thead th {\n        text-align: right;\n    }\n</style>\n<table border=\"1\" class=\"dataframe\">\n  <thead>\n    <tr style=\"text-align: right;\">\n      <th></th>\n      <th>Unnamed: 0</th>\n      <th>Event</th>\n      <th>Result</th>\n      <th>WhiteElo</th>\n      <th>BlackElo</th>\n      <th>WhiteRatingDiff</th>\n      <th>BlackRatingDiff</th>\n      <th>ECO</th>\n      <th>Opening</th>\n      <th>TimeControl</th>\n      <th>Termination</th>\n      <th>Game</th>\n      <th>Eval</th>\n      <th>Eval_change</th>\n      <th>Time</th>\n      <th>Time_change</th>\n    </tr>\n  </thead>\n  <tbody>\n    <tr>\n      <th>0</th>\n      <td>0</td>\n      <td>Rated Bullet game</td>\n      <td>0-1</td>\n      <td>1079</td>\n      <td>1071</td>\n      <td>-30</td>\n      <td>10</td>\n      <td>B00</td>\n      <td>Owen Defense</td>\n      <td>60+0</td>\n      <td>Time forfeit</td>\n      <td>1. e4 { [%eval 0.12] [%clk 0:01:00] } 1... b6?...</td>\n      <td>[0.12, 0.62, 0.64, 0.62, 0.47, 0.54, 0.27, 0.6...</td>\n      <td>[0, 0.5, 0.02, -0.02, -0.15, 0.07, -0.27, 0.41...</td>\n      <td>[60, 60, 57, 60, 57, 60, 55, 57, 51, 55, 48, 5...</td>\n      <td>[0, 0, 3, 0, 0, 0, 2, 3, 4, 2, 3, 1, 2, 1, 1, ...</td>\n    </tr>\n  </tbody>\n</table>\n</div>"
     },
     "execution_count": 19,
     "metadata": {},
     "output_type": "execute_result"
    }
   ],
   "source": [
    "db.head(1)\n"
   ],
   "metadata": {
    "collapsed": false,
    "pycharm": {
     "name": "#%%\n"
    }
   }
  },
  {
   "cell_type": "code",
   "execution_count": 21,
   "outputs": [
    {
     "data": {
      "text/plain": "[0,\n -0.1,\n 0.11,\n 0.13,\n -0.19,\n 0.58,\n -0.26,\n 0.19,\n -0.19,\n -0.04,\n 0.29,\n -0.09,\n -0.41,\n 0.34,\n -0.15,\n 0.07,\n -0.09,\n 1.92,\n -2.11,\n 3.45,\n -3.32,\n 1.28,\n 0.02,\n -0.03,\n 0.14,\n -0.26,\n 0.27,\n -0.06,\n -0.03,\n 0.77,\n -0.58,\n 0.9,\n -0.39,\n 1.74,\n -1.13,\n 0.23,\n -1.01,\n 0.02,\n -0.16,\n 0.53,\n -0.02,\n -0.04,\n -0.21,\n 0.16,\n -0.59,\n 0.55,\n -0.06,\n 1.52,\n -3.03,\n 1.41,\n -0.15,\n 9.61,\n -0.7,\n '#2',\n '#1',\n '#1']"
     },
     "execution_count": 21,
     "metadata": {},
     "output_type": "execute_result"
    }
   ],
   "source": [
    "db.iloc[10,-3]"
   ],
   "metadata": {
    "collapsed": false,
    "pycharm": {
     "name": "#%%\n"
    }
   }
  },
  {
   "cell_type": "code",
   "execution_count": 24,
   "outputs": [],
   "source": [
    "db.to_csv(r'C:\\Users\\piotr\\OneDrive\\Documents\\GitHub\\Chess\\Python\\filtered_data_wt_eval.csv', mode='w')"
   ],
   "metadata": {
    "collapsed": false,
    "pycharm": {
     "name": "#%%\n"
    }
   }
  },
  {
   "cell_type": "code",
   "execution_count": null,
   "outputs": [],
   "source": [],
   "metadata": {
    "collapsed": false,
    "pycharm": {
     "name": "#%%\n"
    }
   }
  }
 ],
 "metadata": {
  "kernelspec": {
   "display_name": "Python 3",
   "language": "python",
   "name": "python3"
  },
  "language_info": {
   "codemirror_mode": {
    "name": "ipython",
    "version": 2
   },
   "file_extension": ".py",
   "mimetype": "text/x-python",
   "name": "python",
   "nbconvert_exporter": "python",
   "pygments_lexer": "ipython2",
   "version": "2.7.6"
  }
 },
 "nbformat": 4,
 "nbformat_minor": 0
}