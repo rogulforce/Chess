{
 "cells": [
  {
   "cell_type": "markdown",
   "metadata": {
    "collapsed": true,
    "pycharm": {
     "name": "#%% md\n"
    }
   },
   "source": [
    "# HWDP\n",
    "\n",
    "$ x = \\frac{\\sqrt{z}}{y} $"
   ]
  },
  {
   "cell_type": "code",
   "execution_count": 1,
   "outputs": [],
   "source": [
    "import pandas as pd\n",
    "import re\n",
    "import numpy as np"
   ],
   "metadata": {
    "collapsed": false,
    "pycharm": {
     "name": "#%%\n"
    }
   }
  },
  {
   "cell_type": "code",
   "execution_count": 2,
   "outputs": [],
   "source": [
    "db= pd.read_csv(r'filtered_data.csv')"
   ],
   "metadata": {
    "collapsed": false,
    "pycharm": {
     "name": "#%%\n"
    }
   }
  },
  {
   "cell_type": "code",
   "execution_count": 3,
   "outputs": [
    {
     "data": {
      "text/plain": "   Unnamed: 0                 Event Result  WhiteElo  BlackElo  \\\n0           0     Rated Bullet game    0-1      1079      1071   \n1           1      Rated Blitz game    0-1      1888      1796   \n2           2      Rated Rapid game    0-1      1090      1156   \n3           3     Rated Bullet game    0-1      1091      1184   \n4           4  Rated Classical game    1-0      1672      1699   \n\n   WhiteRatingDiff  BlackRatingDiff  ECO  \\\n0              -30               10  B00   \n1              -13               13  C62   \n2               -9               11  B20   \n3               -8                9  C20   \n4               11              -11  C64   \n\n                                             Opening TimeControl  \\\n0                                       Owen Defense        60+0   \n1                        Ruy Lopez: Steinitz Defense       300+0   \n2                                   Sicilian Defense       600+0   \n3  King's Pawn Game: Wayward Queen Attack, Kiddie...        60+0   \n4  Ruy Lopez: Classical Variation, Central Variation      900+15   \n\n    Termination                                               Game  \n0  Time forfeit  1. e4 { [%eval 0.12] [%clk 0:01:00] } 1... b6?...  \n1        Normal  1. e4 { [%eval 0.12] [%clk 0:05:00] } 1... e5 ...  \n2        Normal  1. e4 { [%eval 0.12] [%clk 0:10:00] } 1... c5 ...  \n3  Time forfeit  1. e4 { [%eval 0.12] [%clk 0:01:00] } 1... e5 ...  \n4        Normal  1. e4 { [%eval 0.12] [%clk 0:15:00] } 1... e5 ...  ",
      "text/html": "<div>\n<style scoped>\n    .dataframe tbody tr th:only-of-type {\n        vertical-align: middle;\n    }\n\n    .dataframe tbody tr th {\n        vertical-align: top;\n    }\n\n    .dataframe thead th {\n        text-align: right;\n    }\n</style>\n<table border=\"1\" class=\"dataframe\">\n  <thead>\n    <tr style=\"text-align: right;\">\n      <th></th>\n      <th>Unnamed: 0</th>\n      <th>Event</th>\n      <th>Result</th>\n      <th>WhiteElo</th>\n      <th>BlackElo</th>\n      <th>WhiteRatingDiff</th>\n      <th>BlackRatingDiff</th>\n      <th>ECO</th>\n      <th>Opening</th>\n      <th>TimeControl</th>\n      <th>Termination</th>\n      <th>Game</th>\n    </tr>\n  </thead>\n  <tbody>\n    <tr>\n      <th>0</th>\n      <td>0</td>\n      <td>Rated Bullet game</td>\n      <td>0-1</td>\n      <td>1079</td>\n      <td>1071</td>\n      <td>-30</td>\n      <td>10</td>\n      <td>B00</td>\n      <td>Owen Defense</td>\n      <td>60+0</td>\n      <td>Time forfeit</td>\n      <td>1. e4 { [%eval 0.12] [%clk 0:01:00] } 1... b6?...</td>\n    </tr>\n    <tr>\n      <th>1</th>\n      <td>1</td>\n      <td>Rated Blitz game</td>\n      <td>0-1</td>\n      <td>1888</td>\n      <td>1796</td>\n      <td>-13</td>\n      <td>13</td>\n      <td>C62</td>\n      <td>Ruy Lopez: Steinitz Defense</td>\n      <td>300+0</td>\n      <td>Normal</td>\n      <td>1. e4 { [%eval 0.12] [%clk 0:05:00] } 1... e5 ...</td>\n    </tr>\n    <tr>\n      <th>2</th>\n      <td>2</td>\n      <td>Rated Rapid game</td>\n      <td>0-1</td>\n      <td>1090</td>\n      <td>1156</td>\n      <td>-9</td>\n      <td>11</td>\n      <td>B20</td>\n      <td>Sicilian Defense</td>\n      <td>600+0</td>\n      <td>Normal</td>\n      <td>1. e4 { [%eval 0.12] [%clk 0:10:00] } 1... c5 ...</td>\n    </tr>\n    <tr>\n      <th>3</th>\n      <td>3</td>\n      <td>Rated Bullet game</td>\n      <td>0-1</td>\n      <td>1091</td>\n      <td>1184</td>\n      <td>-8</td>\n      <td>9</td>\n      <td>C20</td>\n      <td>King's Pawn Game: Wayward Queen Attack, Kiddie...</td>\n      <td>60+0</td>\n      <td>Time forfeit</td>\n      <td>1. e4 { [%eval 0.12] [%clk 0:01:00] } 1... e5 ...</td>\n    </tr>\n    <tr>\n      <th>4</th>\n      <td>4</td>\n      <td>Rated Classical game</td>\n      <td>1-0</td>\n      <td>1672</td>\n      <td>1699</td>\n      <td>11</td>\n      <td>-11</td>\n      <td>C64</td>\n      <td>Ruy Lopez: Classical Variation, Central Variation</td>\n      <td>900+15</td>\n      <td>Normal</td>\n      <td>1. e4 { [%eval 0.12] [%clk 0:15:00] } 1... e5 ...</td>\n    </tr>\n  </tbody>\n</table>\n</div>"
     },
     "execution_count": 3,
     "metadata": {},
     "output_type": "execute_result"
    }
   ],
   "source": [
    "db.head()"
   ],
   "metadata": {
    "collapsed": false,
    "pycharm": {
     "name": "#%%\n"
    }
   }
  },
  {
   "cell_type": "code",
   "execution_count": 4,
   "outputs": [
    {
     "data": {
      "text/plain": "         Unnamed: 0      WhiteElo      BlackElo  WhiteRatingDiff  \\\ncount  31461.000000  31461.000000  31461.000000     31461.000000   \nmean   15730.000000   1503.446903   1503.921967         4.022536   \nstd     9082.152746    321.223393    320.695908        30.933538   \nmin        0.000000    800.000000    800.000000      -437.000000   \n25%     7865.000000   1266.000000   1267.000000       -10.000000   \n50%    15730.000000   1500.000000   1500.000000         3.000000   \n75%    23595.000000   1725.000000   1724.000000        11.000000   \nmax    31460.000000   2748.000000   2667.000000       460.000000   \n\n       BlackRatingDiff  \ncount     31461.000000  \nmean          2.654684  \nstd          29.354305  \nmin        -615.000000  \n25%         -10.000000  \n50%          -2.000000  \n75%          11.000000  \nmax         598.000000  ",
      "text/html": "<div>\n<style scoped>\n    .dataframe tbody tr th:only-of-type {\n        vertical-align: middle;\n    }\n\n    .dataframe tbody tr th {\n        vertical-align: top;\n    }\n\n    .dataframe thead th {\n        text-align: right;\n    }\n</style>\n<table border=\"1\" class=\"dataframe\">\n  <thead>\n    <tr style=\"text-align: right;\">\n      <th></th>\n      <th>Unnamed: 0</th>\n      <th>WhiteElo</th>\n      <th>BlackElo</th>\n      <th>WhiteRatingDiff</th>\n      <th>BlackRatingDiff</th>\n    </tr>\n  </thead>\n  <tbody>\n    <tr>\n      <th>count</th>\n      <td>31461.000000</td>\n      <td>31461.000000</td>\n      <td>31461.000000</td>\n      <td>31461.000000</td>\n      <td>31461.000000</td>\n    </tr>\n    <tr>\n      <th>mean</th>\n      <td>15730.000000</td>\n      <td>1503.446903</td>\n      <td>1503.921967</td>\n      <td>4.022536</td>\n      <td>2.654684</td>\n    </tr>\n    <tr>\n      <th>std</th>\n      <td>9082.152746</td>\n      <td>321.223393</td>\n      <td>320.695908</td>\n      <td>30.933538</td>\n      <td>29.354305</td>\n    </tr>\n    <tr>\n      <th>min</th>\n      <td>0.000000</td>\n      <td>800.000000</td>\n      <td>800.000000</td>\n      <td>-437.000000</td>\n      <td>-615.000000</td>\n    </tr>\n    <tr>\n      <th>25%</th>\n      <td>7865.000000</td>\n      <td>1266.000000</td>\n      <td>1267.000000</td>\n      <td>-10.000000</td>\n      <td>-10.000000</td>\n    </tr>\n    <tr>\n      <th>50%</th>\n      <td>15730.000000</td>\n      <td>1500.000000</td>\n      <td>1500.000000</td>\n      <td>3.000000</td>\n      <td>-2.000000</td>\n    </tr>\n    <tr>\n      <th>75%</th>\n      <td>23595.000000</td>\n      <td>1725.000000</td>\n      <td>1724.000000</td>\n      <td>11.000000</td>\n      <td>11.000000</td>\n    </tr>\n    <tr>\n      <th>max</th>\n      <td>31460.000000</td>\n      <td>2748.000000</td>\n      <td>2667.000000</td>\n      <td>460.000000</td>\n      <td>598.000000</td>\n    </tr>\n  </tbody>\n</table>\n</div>"
     },
     "execution_count": 4,
     "metadata": {},
     "output_type": "execute_result"
    }
   ],
   "source": [
    "db.describe()"
   ],
   "metadata": {
    "collapsed": false,
    "pycharm": {
     "name": "#%%\n"
    }
   }
  },
  {
   "cell_type": "code",
   "execution_count": 24,
   "outputs": [
    {
     "data": {
      "text/plain": "'1. e4 { [%eval 0.12] [%clk 0:01:00] } 1... b6?! { [%eval 0.62] [%clk 0:01:00] } 2. d4 { [%eval 0.64] [%clk 0:00:57] } 2... Bb7 { [%eval 0.62] [%clk 0:01:00] } 3. Bd3 { [%eval 0.47] [%clk 0:00:57] } 3... g6 { [%eval 0.54] [%clk 0:01:00] } 4. c3 { [%eval 0.27] [%clk 0:00:55] } 4... Bg7 { [%eval 0.68] [%clk 0:00:57] } 5. h3 { [%eval 0.62] [%clk 0:00:51] } 5... e6 { [%eval 0.8] [%clk 0:00:55] } 6. f4?! { [%eval -0.15] [%clk 0:00:48] } 6... Ne7 { [%eval 0.27] [%clk 0:00:54] } 7. Nf3 { [%eval 0.46] [%clk 0:00:46] } 7... d5 { [%eval 0.58] [%clk 0:00:53] } 8. O-O?? { [%eval -5.28] [%clk 0:00:45] } 8... dxe4 { [%eval -5.27] [%clk 0:00:52] } 9. Bxe4 { [%eval -5.76] [%clk 0:00:41] } 9... Bxe4 { [%eval -5.78] [%clk 0:00:51] } 10. Ng5?! { [%eval -6.37] [%clk 0:00:40] } 10... Bb7 { [%eval -6.42] [%clk 0:00:47] } 11. Nxf7? { [%eval -8.64] [%clk 0:00:38] } 11... Kxf7 { [%eval -8.5] [%clk 0:00:45] } 12. Qg4?! { [%eval -9.21] [%clk 0:00:33] } 12... Qd6 { [%eval -8.83] [%clk 0:00:42] } 13. Nd2 { [%eval -8.84] [%clk 0:00:29] } 13... Qc6 { [%eval -8.39] [%clk 0:00:40] } 14. Rf2 { [%eval -8.62] [%clk 0:00:24] } 14... h5 { [%eval -8.45] [%clk 0:00:37] } 15. Qg3 { [%eval -8.77] [%clk 0:00:21] } 15... Nf5 { [%eval -8.75] [%clk 0:00:36] } 16. Qd3 { [%eval -8.8] [%clk 0:00:18] } 16... Nd7 { [%eval -8.73] [%clk 0:00:27] } 17. Ne4? { [%eval -14.19] [%clk 0:00:14] } 17... Nf6? { [%eval -8.87] [%clk 0:00:24] } 18. Ng5+ { [%eval -8.84] [%clk 0:00:12] } 18... Ke7?! { [%eval -8.12] [%clk 0:00:20] } 19. Bd2?! { [%eval -8.99] [%clk 0:00:08] } 19... Rad8?! { [%eval -8.3] [%clk 0:00:15] } 20. Re1 { [%eval -8.23] [%clk 0:00:06] } 20... Kf8?! { [%eval -7.32] [%clk 0:00:12] } 21. Nxe6+ { [%eval -7.3] [%clk 0:00:04] } 21... Kf7 { [%eval -6.56] [%clk 0:00:10] } 22. Nxd8+? { [%eval -7.87] [%clk 0:00:02] } 22... Rxd8 { [%eval -7.81] [%clk 0:00:08] } 0-1\\n'"
     },
     "execution_count": 24,
     "metadata": {},
     "output_type": "execute_result"
    }
   ],
   "source": [
    "# domyślnie bez [:5]\n",
    "a = db.Game.loc[:5]\n",
    "a[0]"
   ],
   "metadata": {
    "collapsed": false,
    "pycharm": {
     "name": "#%%\n"
    }
   }
  },
  {
   "cell_type": "code",
   "execution_count": 25,
   "outputs": [
    {
     "data": {
      "text/plain": "[0,\n 0.5,\n 0.02,\n -0.02,\n -0.15,\n 0.07,\n -0.27,\n 0.41,\n -0.06,\n 0.18,\n -0.95,\n 0.42,\n 0.19,\n 0.12,\n -5.86,\n 0.01,\n -0.49,\n -0.02,\n -0.59,\n -0.05,\n -2.22,\n 0.14,\n -0.71,\n 0.38,\n -0.01,\n 0.45,\n -0.23,\n 0.17,\n -0.32,\n 0.02,\n -0.05,\n 0.07,\n -5.46,\n 5.32,\n 0.03,\n 0.72,\n -0.87,\n 0.69,\n 0.07,\n 0.91,\n 0.02,\n 0.74,\n -1.31,\n 0.06]"
     },
     "execution_count": 25,
     "metadata": {},
     "output_type": "execute_result"
    }
   ],
   "source": [
    "def time_to_sec(hhmmss):\n",
    "    return sum(x * int(t) for x, t in zip([3600, 60, 1], hhmmss.split(\":\")))\n",
    "\n",
    "def derivative(value_list, step=1, reversed=False):\n",
    "    v_copy = [it for it in value_list]\n",
    "    for i in range(len(v_copy)-1, -1, -1):\n",
    "        if i in np.arange(step):\n",
    "            v_copy[i] = 0\n",
    "        if i >= step:\n",
    "            v_copy[i] = v_copy[i] - v_copy[i-step]\n",
    "    if reversed:\n",
    "        v_copy = [-1 * it for it in v_copy]\n",
    "    return v_copy\n",
    "\n",
    "# na razie na a[0] -> zrobić fora dla wszystkich\n",
    "ev = re.findall(r\"\\%eval (.*?)\\]\",a[0])\n",
    "ev = [float(it) for it in ev]\n",
    "\n",
    "t_left = re.findall(r\"\\%clk (.*?)\\]\",a[0])\n",
    "t_left = [time_to_sec(it) for it in t_left]\n",
    "\n",
    "d_t = derivative(t_left, step=2, reversed=True)\n",
    "d_ev = [round(it,2) for it in derivative(ev, step=1, reversed=False)]\n",
    "d_ev"
   ],
   "metadata": {
    "collapsed": false,
    "pycharm": {
     "name": "#%%\n"
    }
   }
  },
  {
   "cell_type": "code",
   "execution_count": 57,
   "outputs": [
    {
     "data": {
      "text/plain": "[3, 2, 1, 0]"
     },
     "execution_count": 57,
     "metadata": {},
     "output_type": "execute_result"
    }
   ],
   "source": [
    "x = range(3,-1,-1)\n",
    "[it for it in x]\n"
   ],
   "metadata": {
    "collapsed": false,
    "pycharm": {
     "name": "#%%\n"
    }
   }
  }
 ],
 "metadata": {
  "kernelspec": {
   "display_name": "Python 3",
   "language": "python",
   "name": "python3"
  },
  "language_info": {
   "codemirror_mode": {
    "name": "ipython",
    "version": 2
   },
   "file_extension": ".py",
   "mimetype": "text/x-python",
   "name": "python",
   "nbconvert_exporter": "python",
   "pygments_lexer": "ipython2",
   "version": "2.7.6"
  }
 },
 "nbformat": 4,
 "nbformat_minor": 0
}