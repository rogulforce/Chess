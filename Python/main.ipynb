{
 "cells": [
  {
   "cell_type": "markdown",
   "metadata": {
    "collapsed": true,
    "pycharm": {
     "name": "#%% md\n"
    }
   },
   "source": [
    "# HWDP\n",
    "\n",
    "$ x = \\frac{\\sqrt{z}}{y} $"
   ]
  },
  {
   "cell_type": "code",
   "execution_count": 4,
   "metadata": {},
   "outputs": [
    {
     "name": "stdout",
     "output_type": "stream",
     "text": [
      "Requirement already satisfied: numpy in c:\\users\\piotr\\projekty\\chess\\venv\\lib\\site-packages (1.22.1)\n",
      "Collecting tqdm\n",
      "  Downloading tqdm-4.62.3-py2.py3-none-any.whl (76 kB)\n",
      "Collecting matplotlib\n",
      "  Using cached matplotlib-3.5.1-cp39-cp39-win_amd64.whl (7.2 MB)\n",
      "Requirement already satisfied: colorama in c:\\users\\piotr\\projekty\\chess\\venv\\lib\\site-packages (from tqdm) (0.4.4)\n",
      "Requirement already satisfied: pyparsing>=2.2.1 in c:\\users\\piotr\\projekty\\chess\\venv\\lib\\site-packages (from matplotlib) (3.0.7)\n",
      "Requirement already satisfied: python-dateutil>=2.7 in c:\\users\\piotr\\projekty\\chess\\venv\\lib\\site-packages (from matplotlib) (2.8.2)\n",
      "Collecting fonttools>=4.22.0\n",
      "  Downloading fonttools-4.29.0-py3-none-any.whl (895 kB)\n",
      "Collecting kiwisolver>=1.0.1\n",
      "  Using cached kiwisolver-1.3.2-cp39-cp39-win_amd64.whl (52 kB)\n",
      "Collecting cycler>=0.10\n",
      "  Using cached cycler-0.11.0-py3-none-any.whl (6.4 kB)\n",
      "Requirement already satisfied: packaging>=20.0 in c:\\users\\piotr\\projekty\\chess\\venv\\lib\\site-packages (from matplotlib) (21.3)\n",
      "Collecting pillow>=6.2.0\n",
      "  Using cached Pillow-9.0.0-cp39-cp39-win_amd64.whl (3.2 MB)\n",
      "Requirement already satisfied: six>=1.5 in c:\\users\\piotr\\projekty\\chess\\venv\\lib\\site-packages (from python-dateutil>=2.7->matplotlib) (1.16.0)\n",
      "Installing collected packages: pillow, kiwisolver, fonttools, cycler, tqdm, matplotlib\n",
      "Successfully installed cycler-0.11.0 fonttools-4.29.0 kiwisolver-1.3.2 matplotlib-3.5.1 pillow-9.0.0 tqdm-4.62.3\n",
      "Note: you may need to restart the kernel to use updated packages.\n"
     ]
    },
    {
     "name": "stderr",
     "output_type": "stream",
     "text": [
      "WARNING: You are using pip version 21.1.2; however, version 21.3.1 is available.\n",
      "You should consider upgrading via the 'c:\\users\\piotr\\projekty\\chess\\venv\\scripts\\python.exe -m pip install --upgrade pip' command.\n"
     ]
    }
   ],
   "source": [
    "pip install numpy tqdm matplotlib\n"
   ]
  },
  {
   "cell_type": "code",
   "execution_count": 1,
   "metadata": {
    "pycharm": {
     "name": "#%%\n"
    }
   },
   "outputs": [
    {
     "ename": "ModuleNotFoundError",
     "evalue": "No module named 'pandas'",
     "output_type": "error",
     "traceback": [
      "\u001b[1;31m---------------------------------------------------------------------------\u001b[0m",
      "\u001b[1;31mModuleNotFoundError\u001b[0m                       Traceback (most recent call last)",
      "Input \u001b[1;32mIn [1]\u001b[0m, in \u001b[0;36m<module>\u001b[1;34m\u001b[0m\n\u001b[1;32m----> 1\u001b[0m \u001b[38;5;28;01mimport\u001b[39;00m \u001b[38;5;21;01mpandas\u001b[39;00m \u001b[38;5;28;01mas\u001b[39;00m \u001b[38;5;21;01mpd\u001b[39;00m\n\u001b[0;32m      2\u001b[0m \u001b[38;5;28;01mimport\u001b[39;00m \u001b[38;5;21;01mre\u001b[39;00m\n\u001b[0;32m      3\u001b[0m \u001b[38;5;28;01mimport\u001b[39;00m \u001b[38;5;21;01mnumpy\u001b[39;00m \u001b[38;5;28;01mas\u001b[39;00m \u001b[38;5;21;01mnp\u001b[39;00m\n",
      "\u001b[1;31mModuleNotFoundError\u001b[0m: No module named 'pandas'"
     ]
    }
   ],
   "source": [
    "import pandas as pd\n",
    "import re\n",
    "import numpy as np\n",
    "import matplotlib.pyplot as plt\n",
    "from tqdm import tqdm"
   ]
  },
  {
   "cell_type": "code",
   "execution_count": 2,
   "metadata": {
    "pycharm": {
     "name": "#%%\n"
    }
   },
   "outputs": [],
   "source": [
    "db= pd.read_csv(r'E:\\bigdata\\filtered_data_300600.csv')"
   ]
  },
  {
   "cell_type": "code",
   "execution_count": 3,
   "metadata": {
    "pycharm": {
     "name": "#%%\n"
    }
   },
   "outputs": [
    {
     "data": {
      "text/html": [
       "<div>\n",
       "<style scoped>\n",
       "    .dataframe tbody tr th:only-of-type {\n",
       "        vertical-align: middle;\n",
       "    }\n",
       "\n",
       "    .dataframe tbody tr th {\n",
       "        vertical-align: top;\n",
       "    }\n",
       "\n",
       "    .dataframe thead th {\n",
       "        text-align: right;\n",
       "    }\n",
       "</style>\n",
       "<table border=\"1\" class=\"dataframe\">\n",
       "  <thead>\n",
       "    <tr style=\"text-align: right;\">\n",
       "      <th></th>\n",
       "      <th>Unnamed: 0</th>\n",
       "      <th>Result</th>\n",
       "      <th>WhiteElo</th>\n",
       "      <th>BlackElo</th>\n",
       "      <th>TimeControl</th>\n",
       "      <th>Game</th>\n",
       "    </tr>\n",
       "  </thead>\n",
       "  <tbody>\n",
       "    <tr>\n",
       "      <th>0</th>\n",
       "      <td>0</td>\n",
       "      <td>0-1</td>\n",
       "      <td>1888</td>\n",
       "      <td>1796</td>\n",
       "      <td>300+0</td>\n",
       "      <td>1. e4 { [%eval 0.12] [%clk 0:05:00] } 1... e5 ...</td>\n",
       "    </tr>\n",
       "    <tr>\n",
       "      <th>1</th>\n",
       "      <td>1</td>\n",
       "      <td>0-1</td>\n",
       "      <td>1090</td>\n",
       "      <td>1156</td>\n",
       "      <td>600+0</td>\n",
       "      <td>1. e4 { [%eval 0.12] [%clk 0:10:00] } 1... c5 ...</td>\n",
       "    </tr>\n",
       "    <tr>\n",
       "      <th>2</th>\n",
       "      <td>2</td>\n",
       "      <td>1-0</td>\n",
       "      <td>1428</td>\n",
       "      <td>1358</td>\n",
       "      <td>600+0</td>\n",
       "      <td>1. d4 { [%eval 0.25] [%clk 0:10:00] } 1... d5 ...</td>\n",
       "    </tr>\n",
       "    <tr>\n",
       "      <th>3</th>\n",
       "      <td>3</td>\n",
       "      <td>1-0</td>\n",
       "      <td>1926</td>\n",
       "      <td>1909</td>\n",
       "      <td>600+0</td>\n",
       "      <td>1. e4 { [%eval 0.12] [%clk 0:10:00] } 1... e5 ...</td>\n",
       "    </tr>\n",
       "    <tr>\n",
       "      <th>4</th>\n",
       "      <td>4</td>\n",
       "      <td>0-1</td>\n",
       "      <td>1312</td>\n",
       "      <td>1296</td>\n",
       "      <td>300+0</td>\n",
       "      <td>1. e4 { [%eval 0.12] [%clk 0:05:00] } 1... e5 ...</td>\n",
       "    </tr>\n",
       "  </tbody>\n",
       "</table>\n",
       "</div>"
      ],
      "text/plain": [
       "   Unnamed: 0 Result  WhiteElo  BlackElo TimeControl  \\\n",
       "0           0    0-1      1888      1796       300+0   \n",
       "1           1    0-1      1090      1156       600+0   \n",
       "2           2    1-0      1428      1358       600+0   \n",
       "3           3    1-0      1926      1909       600+0   \n",
       "4           4    0-1      1312      1296       300+0   \n",
       "\n",
       "                                                Game  \n",
       "0  1. e4 { [%eval 0.12] [%clk 0:05:00] } 1... e5 ...  \n",
       "1  1. e4 { [%eval 0.12] [%clk 0:10:00] } 1... c5 ...  \n",
       "2  1. d4 { [%eval 0.25] [%clk 0:10:00] } 1... d5 ...  \n",
       "3  1. e4 { [%eval 0.12] [%clk 0:10:00] } 1... e5 ...  \n",
       "4  1. e4 { [%eval 0.12] [%clk 0:05:00] } 1... e5 ...  "
      ]
     },
     "execution_count": 3,
     "metadata": {},
     "output_type": "execute_result"
    }
   ],
   "source": [
    "db.head()"
   ]
  },
  {
   "cell_type": "code",
   "execution_count": 4,
   "metadata": {
    "pycharm": {
     "name": "#%%\n"
    }
   },
   "outputs": [
    {
     "data": {
      "text/html": [
       "<div>\n",
       "<style scoped>\n",
       "    .dataframe tbody tr th:only-of-type {\n",
       "        vertical-align: middle;\n",
       "    }\n",
       "\n",
       "    .dataframe tbody tr th {\n",
       "        vertical-align: top;\n",
       "    }\n",
       "\n",
       "    .dataframe thead th {\n",
       "        text-align: right;\n",
       "    }\n",
       "</style>\n",
       "<table border=\"1\" class=\"dataframe\">\n",
       "  <thead>\n",
       "    <tr style=\"text-align: right;\">\n",
       "      <th></th>\n",
       "      <th>Unnamed: 0</th>\n",
       "      <th>WhiteElo</th>\n",
       "      <th>BlackElo</th>\n",
       "    </tr>\n",
       "  </thead>\n",
       "  <tbody>\n",
       "    <tr>\n",
       "      <th>count</th>\n",
       "      <td>473207.000000</td>\n",
       "      <td>473207.000000</td>\n",
       "      <td>473207.000000</td>\n",
       "    </tr>\n",
       "    <tr>\n",
       "      <th>mean</th>\n",
       "      <td>236603.000000</td>\n",
       "      <td>1478.040471</td>\n",
       "      <td>1478.561925</td>\n",
       "    </tr>\n",
       "    <tr>\n",
       "      <th>std</th>\n",
       "      <td>136603.238754</td>\n",
       "      <td>310.822899</td>\n",
       "      <td>310.862666</td>\n",
       "    </tr>\n",
       "    <tr>\n",
       "      <th>min</th>\n",
       "      <td>0.000000</td>\n",
       "      <td>800.000000</td>\n",
       "      <td>766.000000</td>\n",
       "    </tr>\n",
       "    <tr>\n",
       "      <th>25%</th>\n",
       "      <td>118301.500000</td>\n",
       "      <td>1247.000000</td>\n",
       "      <td>1247.000000</td>\n",
       "    </tr>\n",
       "    <tr>\n",
       "      <th>50%</th>\n",
       "      <td>236603.000000</td>\n",
       "      <td>1477.000000</td>\n",
       "      <td>1476.000000</td>\n",
       "    </tr>\n",
       "    <tr>\n",
       "      <th>75%</th>\n",
       "      <td>354904.500000</td>\n",
       "      <td>1697.000000</td>\n",
       "      <td>1697.000000</td>\n",
       "    </tr>\n",
       "    <tr>\n",
       "      <th>max</th>\n",
       "      <td>473206.000000</td>\n",
       "      <td>2624.000000</td>\n",
       "      <td>2655.000000</td>\n",
       "    </tr>\n",
       "  </tbody>\n",
       "</table>\n",
       "</div>"
      ],
      "text/plain": [
       "          Unnamed: 0       WhiteElo       BlackElo\n",
       "count  473207.000000  473207.000000  473207.000000\n",
       "mean   236603.000000    1478.040471    1478.561925\n",
       "std    136603.238754     310.822899     310.862666\n",
       "min         0.000000     800.000000     766.000000\n",
       "25%    118301.500000    1247.000000    1247.000000\n",
       "50%    236603.000000    1477.000000    1476.000000\n",
       "75%    354904.500000    1697.000000    1697.000000\n",
       "max    473206.000000    2624.000000    2655.000000"
      ]
     },
     "execution_count": 4,
     "metadata": {},
     "output_type": "execute_result"
    }
   ],
   "source": [
    "db.describe()"
   ]
  },
  {
   "cell_type": "code",
   "execution_count": 5,
   "metadata": {
    "pycharm": {
     "name": "#%%\n"
    }
   },
   "outputs": [
    {
     "data": {
      "text/plain": [
       "0         1. e4 { [%eval 0.12] [%clk 0:05:00] } 1... e5 ...\n",
       "1         1. e4 { [%eval 0.12] [%clk 0:10:00] } 1... c5 ...\n",
       "2         1. d4 { [%eval 0.25] [%clk 0:10:00] } 1... d5 ...\n",
       "3         1. e4 { [%eval 0.12] [%clk 0:10:00] } 1... e5 ...\n",
       "4         1. e4 { [%eval 0.12] [%clk 0:05:00] } 1... e5 ...\n",
       "                                ...                        \n",
       "473202    1. e4 { [%eval 0.24] [%clk 0:05:00] } 1... e6 ...\n",
       "473203    1. d4 { [%eval 0.25] [%clk 0:05:00] } 1... d5 ...\n",
       "473204    1. f4 { [%eval -0.1] [%clk 0:10:00] } 1... e6 ...\n",
       "473205    1. e4 { [%eval 0.24] [%clk 0:05:00] } 1... c6 ...\n",
       "473206    1. e4 { [%eval 0.24] [%clk 0:05:00] } 1... e5 ...\n",
       "Name: Game, Length: 473207, dtype: object"
      ]
     },
     "execution_count": 5,
     "metadata": {},
     "output_type": "execute_result"
    }
   ],
   "source": [
    "# domyślnie bez [:5]\n",
    "a = db.Game\n",
    "# a.to_csv('file.csv', encoding='utf-8')\n",
    "a\n",
    "# TODO: find good, bad moves in notation\n",
    "# https://en.wikipedia.org/wiki/Chess_annotation_symbols"
   ]
  },
  {
   "cell_type": "code",
   "execution_count": 6,
   "metadata": {
    "pycharm": {
     "name": "#%%\n"
    }
   },
   "outputs": [],
   "source": [
    "def time_to_sec(hhmmss):\n",
    "    return sum(x * int(t) for x, t in zip([3600, 60, 1], hhmmss.split(\":\")))\n",
    "\n",
    "def derivative(value_list, step=1, reversed=False):\n",
    "    v_copy = [it for it in value_list]\n",
    "    for i in range(len(v_copy)-1, -1, -1):\n",
    "        if i in np.arange(step):\n",
    "            v_copy[i] = 0\n",
    "        if i >= step:\n",
    "            try:\n",
    "                v_copy[i] = round(v_copy[i] - v_copy[i-step], 2)\n",
    "            except TypeError:\n",
    "                pass\n",
    "    if reversed:\n",
    "        v_copy = [-1 * it for it in v_copy]\n",
    "    return v_copy\n",
    "\n",
    "def score_name(string: str) -> str:\n",
    "    if '??' in string:\n",
    "        return 'blunder'\n",
    "    elif '?!' in string:\n",
    "        return 'dubious move'\n",
    "    elif '!?' in string:\n",
    "        return 'interesting move'\n",
    "    elif '!!' in string:\n",
    "        return 'brilliant move'\n",
    "    elif '?' in string:\n",
    "        return 'mistake'\n",
    "    elif '!' in string:\n",
    "        return 'good move'\n",
    "    else:\n",
    "        return '0'"
   ]
  },
  {
   "cell_type": "code",
   "execution_count": 7,
   "metadata": {
    "pycharm": {
     "name": "#%%\n"
    }
   },
   "outputs": [
    {
     "name": "stderr",
     "output_type": "stream",
     "text": [
      "100%|██████████| 473207/473207 [04:05<00:00, 1926.81it/s]\n"
     ]
    }
   ],
   "source": [
    "# na razie na a[0] -> zrobić fora dla wszystkich\n",
    "# ev = re.findall(r\"\\%eval (.*?)\\]\",a[0])\n",
    "# ev = [float(it) for it in ev]\n",
    "#\n",
    "# t_left = re.findall(r\"\\%clk (.*?)\\]\",a[0])\n",
    "# t_left = [time_to_sec(it) for it in t_left]\n",
    "#\n",
    "# d_t = derivative(t_left, step=2, reversed=True)\n",
    "# d_ev = [round(it,2) for it in derivative(ev, step=1, reversed=False)]\n",
    "# ev\n",
    "all_ev = []\n",
    "all_d_ev = []\n",
    "all_t_left = []\n",
    "all_d_t = []\n",
    "score = []\n",
    "\n",
    "for j in tqdm(range(len(a))):\n",
    "\n",
    "    # score find\n",
    "    sc = re.findall(r\"\\. (.*?)\\] }\",a[j])\n",
    "    for i in range(len(sc)):\n",
    "        sc[i] = score_name(sc[i])\n",
    "    # eval find\n",
    "    # ev = re.findall(r\"\\%eval (.*?)\\]\",a[j])\n",
    "    # for i in range(len(ev)):\n",
    "    #     try:\n",
    "    #         ev[i] = round(float(ev[i]),2)\n",
    "    #     except ValueError:\n",
    "    #         pass\n",
    "    score.append(sc)\n",
    "    # all_ev.append(ev)\n",
    "    # time find\n",
    "    t_left = re.findall(r\"\\%clk (.*?)\\]\",a[j])\n",
    "    t_left = [time_to_sec(it) for it in t_left]\n",
    "    all_t_left.append(t_left)\n",
    "    all_d_t.append(derivative(t_left, step=2, reversed=True))\n",
    "    # all_d_ev.append(derivative(ev, step=1, reversed=False))\n"
   ]
  },
  {
   "cell_type": "code",
   "execution_count": 8,
   "metadata": {
    "pycharm": {
     "name": "#%%\n"
    }
   },
   "outputs": [],
   "source": [
    "# db['Eval'] = all_ev\n",
    "# db['Eval_change'] = all_d_ev\n",
    "db['Time'] = all_t_left\n",
    "db['Time_change'] = all_d_t\n",
    "db['Score'] = score"
   ]
  },
  {
   "cell_type": "code",
   "execution_count": 9,
   "metadata": {
    "pycharm": {
     "name": "#%%\n"
    }
   },
   "outputs": [
    {
     "data": {
      "text/html": [
       "<div>\n",
       "<style scoped>\n",
       "    .dataframe tbody tr th:only-of-type {\n",
       "        vertical-align: middle;\n",
       "    }\n",
       "\n",
       "    .dataframe tbody tr th {\n",
       "        vertical-align: top;\n",
       "    }\n",
       "\n",
       "    .dataframe thead th {\n",
       "        text-align: right;\n",
       "    }\n",
       "</style>\n",
       "<table border=\"1\" class=\"dataframe\">\n",
       "  <thead>\n",
       "    <tr style=\"text-align: right;\">\n",
       "      <th></th>\n",
       "      <th>Unnamed: 0</th>\n",
       "      <th>Result</th>\n",
       "      <th>WhiteElo</th>\n",
       "      <th>BlackElo</th>\n",
       "      <th>TimeControl</th>\n",
       "      <th>Game</th>\n",
       "      <th>Time</th>\n",
       "      <th>Time_change</th>\n",
       "      <th>Score</th>\n",
       "    </tr>\n",
       "  </thead>\n",
       "  <tbody>\n",
       "    <tr>\n",
       "      <th>0</th>\n",
       "      <td>0</td>\n",
       "      <td>0-1</td>\n",
       "      <td>1888</td>\n",
       "      <td>1796</td>\n",
       "      <td>300+0</td>\n",
       "      <td>1. e4 { [%eval 0.12] [%clk 0:05:00] } 1... e5 ...</td>\n",
       "      <td>[300, 300, 298, 299, 297, 297, 296, 296, 289, ...</td>\n",
       "      <td>[0, 0, 2, 1, 1, 2, 1, 1, 7, 1, 2, 2, 0, 1, 1, ...</td>\n",
       "      <td>[0, 0, 0, 0, 0, 0, 0, 0, 0, 0, 0, 0, 0, dubiou...</td>\n",
       "    </tr>\n",
       "  </tbody>\n",
       "</table>\n",
       "</div>"
      ],
      "text/plain": [
       "   Unnamed: 0 Result  WhiteElo  BlackElo TimeControl  \\\n",
       "0           0    0-1      1888      1796       300+0   \n",
       "\n",
       "                                                Game  \\\n",
       "0  1. e4 { [%eval 0.12] [%clk 0:05:00] } 1... e5 ...   \n",
       "\n",
       "                                                Time  \\\n",
       "0  [300, 300, 298, 299, 297, 297, 296, 296, 289, ...   \n",
       "\n",
       "                                         Time_change  \\\n",
       "0  [0, 0, 2, 1, 1, 2, 1, 1, 7, 1, 2, 2, 0, 1, 1, ...   \n",
       "\n",
       "                                               Score  \n",
       "0  [0, 0, 0, 0, 0, 0, 0, 0, 0, 0, 0, 0, 0, dubiou...  "
      ]
     },
     "execution_count": 9,
     "metadata": {},
     "output_type": "execute_result"
    }
   ],
   "source": [
    "db.head(1)"
   ]
  },
  {
   "cell_type": "code",
   "execution_count": 14,
   "metadata": {
    "pycharm": {
     "name": "#%%\n"
    }
   },
   "outputs": [
    {
     "name": "stderr",
     "output_type": "stream",
     "text": [
      "100%|██████████| 100000/100000 [3:27:52<00:00,  8.02it/s] \n"
     ]
    }
   ],
   "source": [
    "# TODO: zmienić: prawdopodobieństwo wykonania ruchu danego typu\n",
    "# czyli zostawić nieblundery też, usunąć if it[0] != '0'\n",
    "# dodać informacje o wyniku gry i kolorze osoby\n",
    "# dodać numer ruchu\n",
    "db_2 = db.iloc[116820+59175+5:,:]\n",
    "moves = pd.DataFrame()\n",
    "ID = 116820+59175\n",
    "m = len(db)\n",
    "for i in tqdm(range(100000)):\n",
    "    zip_values = [ it for it in zip(db_2.iloc[i,-1],db_2.iloc[i,-2])] #  if it[0] != '0'\n",
    "    n = len(zip_values)\n",
    "    color = ['w','b'] * int(np.ceil(n/2))\n",
    "    moves = pd.concat([moves,\n",
    "                       pd.DataFrame(\n",
    "                       {'game_ID': [ID] * n,\n",
    "                        'score': [it[0] for it in zip_values],\n",
    "                        'delta_time': [it[1] for it in zip_values],\n",
    "                        'WhiteElo': [int(db_2.iloc[i,2])] * n,\n",
    "                        'BlackElo': [int(db_2.iloc[i,3])] * n,\n",
    "                        'TimeControl': [db_2.iloc[i,4]] * n,\n",
    "                        'color': color[:n],\n",
    "                        'move': [int(v) for v in ((np.arange(n, dtype='int') ) - (np.arange(n, dtype='int') )% 2 ) / 2 + 1],\n",
    "                        'Result': [db_2.iloc[i,1]] * n\n",
    "                        })]\n",
    "                      ,ignore_index=True)\n",
    "    ID+=1"
   ]
  },
  {
   "cell_type": "code",
   "execution_count": 11,
   "metadata": {
    "pycharm": {
     "name": "#%%\n"
    }
   },
   "outputs": [],
   "source": [
    "moves.to_csv(r'C:\\Users\\piotr\\OneDrive\\Documents\\GitHub\\Chess\\dane\\moves300600v3.csv', mode='w')"
   ]
  },
  {
   "cell_type": "code",
   "execution_count": 15,
   "metadata": {
    "pycharm": {
     "name": "#%%\n"
    }
   },
   "outputs": [],
   "source": [
    "moves.to_csv(r'C:\\Users\\piotr\\OneDrive\\Documents\\GitHub\\Chess\\dane\\moves300600_noindexv3.csv', mode='w', index=False)"
   ]
  },
  {
   "cell_type": "code",
   "execution_count": 14,
   "metadata": {
    "pycharm": {
     "name": "#%%\n"
    }
   },
   "outputs": [],
   "source": [
    "db.to_csv(r'C:\\Users\\piotr\\OneDrive\\Documents\\GitHub\\Chess\\dane\\filtered_data300600_wt_eval.csv', mode='w')"
   ]
  },
  {
   "cell_type": "code",
   "execution_count": 27,
   "metadata": {
    "pycharm": {
     "name": "#%%\n"
    }
   },
   "outputs": [
    {
     "data": {
      "text/plain": [
       "1722.0"
      ]
     },
     "execution_count": 27,
     "metadata": {},
     "output_type": "execute_result"
    }
   ],
   "source": [
    "db.WhiteElo.quantile(.75)"
   ]
  },
  {
   "cell_type": "code",
   "execution_count": 6,
   "metadata": {
    "pycharm": {
     "name": "#%%\n"
    }
   },
   "outputs": [
    {
     "data": {
      "image/png": "[encoded data removed]",
      "text/plain": [
       "<Figure size 432x288 with 1 Axes>"
      ]
     },
     "metadata": {
      "needs_background": "light"
     },
     "output_type": "display_data"
    }
   ],
   "source": [
    "plt.figure()\n",
    "db.WhiteElo.hist(bins=50, density=True)\n",
    "# db.WhiteElo.plot(kind=\"kde\")\n",
    "\n",
    "plt.plot([db.WhiteElo.quantile(.25),db.WhiteElo.quantile(.25)],[0,0.0002], color='red')\n",
    "plt.plot([db.WhiteElo.quantile(.5),db.WhiteElo.quantile(.5)],[0,0.0002], color='red')\n",
    "plt.plot([db.WhiteElo.quantile(.75),db.WhiteElo.quantile(.75)],[0,0.0002], color='red')\n",
    "plt.text(db.WhiteElo.quantile(.25)-100, 0.00025,'  q1\\n1267',color='red')\n",
    "plt.text(db.WhiteElo.quantile(.5)-100, 0.00025,'  q2\\n1500',color='red')\n",
    "plt.text(db.WhiteElo.quantile(.75)-100, 0.00025,'  q3\\n1722',color='red')\n",
    "plt.legend(['kwartyle rozkładu:\\n1267, 1500, 1722'])\n",
    "plt.title('rozkład rankingu zawodników')\n",
    "plt.xlabel('ranking')\n",
    "plt.ylabel('p')\n",
    "plt.savefig('graph.svg')"
   ]
  },
  {
   "cell_type": "code",
   "execution_count": 13,
   "metadata": {
    "pycharm": {
     "name": "#%%\n"
    }
   },
   "outputs": [
    {
     "data": {
      "text/plain": [
       "<AxesSubplot:>"
      ]
     },
     "execution_count": 13,
     "metadata": {},
     "output_type": "execute_result"
    },
    {
     "data": {
      "image/png": "[encoded data removed]",
      "text/plain": [
       "<Figure size 432x288 with 1 Axes>"
      ]
     },
     "metadata": {
      "needs_background": "light"
     },
     "output_type": "display_data"
    }
   ],
   "source": [
    "db.WhiteRatingDiff[(db.WhiteRatingDiff > -100) & (db.WhiteRatingDiff <100)].hist(bins=201)"
   ]
  },
  {
   "cell_type": "code",
   "execution_count": 14,
   "metadata": {
    "pycharm": {
     "name": "#%%\n"
    }
   },
   "outputs": [
    {
     "data": {
      "text/plain": [
       "<AxesSubplot:>"
      ]
     },
     "execution_count": 14,
     "metadata": {},
     "output_type": "execute_result"
    },
    {
     "data": {
      "image/png": "[encoded data removed]",
      "text/plain": [
       "<Figure size 432x288 with 1 Axes>"
      ]
     },
     "metadata": {
      "needs_background": "light"
     },
     "output_type": "display_data"
    }
   ],
   "source": [
    "db.Result.hist(bins=3)"
   ]
  },
  {
   "cell_type": "code",
   "execution_count": 15,
   "metadata": {
    "pycharm": {
     "name": "#%%\n"
    }
   },
   "outputs": [
    {
     "data": {
      "text/plain": [
       "3"
      ]
     },
     "execution_count": 15,
     "metadata": {},
     "output_type": "execute_result"
    }
   ],
   "source": [
    "a = 'asd1 asd alsd ;asdf'\n",
    "a.count('asd')"
   ]
  },
  {
   "cell_type": "code",
   "execution_count": 16,
   "metadata": {
    "pycharm": {
     "name": "#%%\n"
    }
   },
   "outputs": [
    {
     "name": "stdout",
     "output_type": "stream",
     "text": [
      "[0, 0.25, -0.14, -0.08, 0.28, 0.01, -0.07, -0.07, 0.23, 0.19, -0.21, 0.06, -0.2, 0.62, 0.45, 0.1, -1.03, -0.03, -0.06, 0.09, -0.07, -0.02, -0.19, 0.46, 0.11, -0.07, -0.17, 0.04, -1.05, 0.45, -0.37, -0.17, -0.12, 0.97, -0.84, 0.04, -1.0, 0.18, -0.92, 0.21, -1.79, 0.19, -0.26, 0.07, 0.04, 0.07, -1.95, 1.17, -5.16, 0.0, 0.04, 0.03, 0.02, 0.05, 0.03, 0.2]\n",
      "[0, 0.25, -0.14, -0.08, 0.06, 0.25, -0.1, 0.02, 0.1, -0.12, 0.02, 0.2, -0.04, -0.22, 0.28, 0.65, -0.59, 0.02, -0.38, 0.04, 0.03, -0.07, -0.51, 0.19, -0.39, 0.58, 0.06, 0.2, 0.12, 0.97, -0.1, 0.53, -1.95, 2.13, -2.04, 0.02, -0.11, 0.0, 0.0, -0.29, -1.71, 0.1, -2.57, 0.18, -6.71, 0.29, 0.88, 2.8, -0.42, 4.4, -57.74, 53.06, -5.38, 10.75, '#-12', '#-11', '#-11', '#-10', '#-6', '#-10', '#-10', -7.39, '#-7', '#-6', '#-2', '#-1', '#-1']\n"
     ]
    }
   ],
   "source": [
    "# 5+0 format\n",
    "format_5 = db[db['TimeControl'] == '300+0']\n",
    "for item in format_5.loc[:30,'Eval_change']:\n",
    "    print(item)"
   ]
  },
  {
   "cell_type": "code",
   "execution_count": 17,
   "metadata": {
    "pycharm": {
     "name": "#%%\n"
    }
   },
   "outputs": [
    {
     "name": "stdout",
     "output_type": "stream",
     "text": [
      "[0, 0, 2, 1, 1, 2, 1, 1, 7, 1, 2, 2, 0, 1, 1, 1, 2, 1, 1, 3, 7, 0, 3, 1, 10, 4, 9, 2, 20, 5, 7, 2, 51, 20, 7, 11, 47, 59, 50, 8, 22, 2, 0, 13, 13, 17, 7, 7, 7, 16, 5, 2, 1, 0, 1, 1]\n",
      "[0, 0, 1, 1, 0, 1, 1, 3, 5, 5, 2, 8, 8, 0, 6, 18, 2, 0, 2, 5, 11, 0, 10, 4, 7, 16, 9, 2, 5, 7, 8, 5, 14, 3, 2, 4, 3, 7, 12, 15, 4, 2, 8, 13, 20, 4, 2, 2, 3, 46, 8, 7, 23, 2, 16, 7, 4, 16, 8, 4, 5, 6, 3, 3, 22, 2, 4, 3]\n"
     ]
    }
   ],
   "source": [
    "for item in format_5.loc[:30,'Time_change']:\n",
    "    print(item)"
   ]
  },
  {
   "cell_type": "code",
   "execution_count": 18,
   "metadata": {
    "pycharm": {
     "name": "#%%\n"
    }
   },
   "outputs": [
    {
     "data": {
      "text/plain": [
       "1     [0, 0, 2, 1, 1, 2, 1, 1, 7, 1, 2, 2, 0, 1, 1, ...\n",
       "20    [0, 0, 1, 1, 0, 1, 1, 3, 5, 5, 2, 8, 8, 0, 6, ...\n",
       "Name: Time_change, dtype: object"
      ]
     },
     "execution_count": 18,
     "metadata": {},
     "output_type": "execute_result"
    }
   ],
   "source": [
    "format_5.loc[:30,'Time_change']\n"
   ]
  },
  {
   "cell_type": "code",
   "execution_count": 4,
   "metadata": {
    "pycharm": {
     "name": "#%%\n"
    }
   },
   "outputs": [],
   "source": [
    "a = db[db['TimeControl'].isin(['300+0','600+0'])]\n",
    "a ="
   ]
  },
  {
   "cell_type": "code",
   "execution_count": null,
   "metadata": {
    "pycharm": {
     "name": "#%%\n"
    }
   },
   "outputs": [],
   "source": []
  }
 ],
 "metadata": {
  "kernelspec": {
   "display_name": "Python 3 (ipykernel)",
   "language": "python",
   "name": "python3"
  },
  "language_info": {
   "codemirror_mode": {
    "name": "ipython",
    "version": 3
   },
   "file_extension": ".py",
   "mimetype": "text/x-python",
   "name": "python",
   "nbconvert_exporter": "python",
   "pygments_lexer": "ipython3",
   "version": "3.9.7"
  }
 },
 "nbformat": 4,
 "nbformat_minor": 1
}
