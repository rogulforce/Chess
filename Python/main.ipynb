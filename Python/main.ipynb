{
 "cells": [
  {
   "cell_type": "markdown",
   "metadata": {
    "collapsed": true,
    "pycharm": {
     "name": "#%% md\n"
    }
   },
   "source": [
    "# HWDP\n",
    "\n",
    "$ x = \\frac{\\sqrt{z}}{y} $"
   ]
  },
  {
   "cell_type": "code",
   "execution_count": 1,
   "outputs": [],
   "source": [
    "import pandas as pd\n",
    "import re\n",
    "import numpy as np"
   ],
   "metadata": {
    "collapsed": false,
    "pycharm": {
     "name": "#%%\n"
    }
   }
  },
  {
   "cell_type": "code",
   "execution_count": 2,
   "outputs": [],
   "source": [
    "db= pd.read_csv(r'filtered_data.csv')"
   ],
   "metadata": {
    "collapsed": false,
    "pycharm": {
     "name": "#%%\n"
    }
   }
  },
  {
   "cell_type": "code",
   "execution_count": 3,
   "outputs": [
    {
     "data": {
      "text/plain": "   Unnamed: 0                 Event Result  WhiteElo  BlackElo  \\\n0           0     Rated Bullet game    0-1      1079      1071   \n1           1      Rated Blitz game    0-1      1888      1796   \n2           2      Rated Rapid game    0-1      1090      1156   \n3           3     Rated Bullet game    0-1      1091      1184   \n4           4  Rated Classical game    1-0      1672      1699   \n\n   WhiteRatingDiff  BlackRatingDiff  ECO  \\\n0              -30               10  B00   \n1              -13               13  C62   \n2               -9               11  B20   \n3               -8                9  C20   \n4               11              -11  C64   \n\n                                             Opening TimeControl  \\\n0                                       Owen Defense        60+0   \n1                        Ruy Lopez: Steinitz Defense       300+0   \n2                                   Sicilian Defense       600+0   \n3  King's Pawn Game: Wayward Queen Attack, Kiddie...        60+0   \n4  Ruy Lopez: Classical Variation, Central Variation      900+15   \n\n    Termination                                               Game  \n0  Time forfeit  1. e4 { [%eval 0.12] [%clk 0:01:00] } 1... b6?...  \n1        Normal  1. e4 { [%eval 0.12] [%clk 0:05:00] } 1... e5 ...  \n2        Normal  1. e4 { [%eval 0.12] [%clk 0:10:00] } 1... c5 ...  \n3  Time forfeit  1. e4 { [%eval 0.12] [%clk 0:01:00] } 1... e5 ...  \n4        Normal  1. e4 { [%eval 0.12] [%clk 0:15:00] } 1... e5 ...  ",
      "text/html": "<div>\n<style scoped>\n    .dataframe tbody tr th:only-of-type {\n        vertical-align: middle;\n    }\n\n    .dataframe tbody tr th {\n        vertical-align: top;\n    }\n\n    .dataframe thead th {\n        text-align: right;\n    }\n</style>\n<table border=\"1\" class=\"dataframe\">\n  <thead>\n    <tr style=\"text-align: right;\">\n      <th></th>\n      <th>Unnamed: 0</th>\n      <th>Event</th>\n      <th>Result</th>\n      <th>WhiteElo</th>\n      <th>BlackElo</th>\n      <th>WhiteRatingDiff</th>\n      <th>BlackRatingDiff</th>\n      <th>ECO</th>\n      <th>Opening</th>\n      <th>TimeControl</th>\n      <th>Termination</th>\n      <th>Game</th>\n    </tr>\n  </thead>\n  <tbody>\n    <tr>\n      <th>0</th>\n      <td>0</td>\n      <td>Rated Bullet game</td>\n      <td>0-1</td>\n      <td>1079</td>\n      <td>1071</td>\n      <td>-30</td>\n      <td>10</td>\n      <td>B00</td>\n      <td>Owen Defense</td>\n      <td>60+0</td>\n      <td>Time forfeit</td>\n      <td>1. e4 { [%eval 0.12] [%clk 0:01:00] } 1... b6?...</td>\n    </tr>\n    <tr>\n      <th>1</th>\n      <td>1</td>\n      <td>Rated Blitz game</td>\n      <td>0-1</td>\n      <td>1888</td>\n      <td>1796</td>\n      <td>-13</td>\n      <td>13</td>\n      <td>C62</td>\n      <td>Ruy Lopez: Steinitz Defense</td>\n      <td>300+0</td>\n      <td>Normal</td>\n      <td>1. e4 { [%eval 0.12] [%clk 0:05:00] } 1... e5 ...</td>\n    </tr>\n    <tr>\n      <th>2</th>\n      <td>2</td>\n      <td>Rated Rapid game</td>\n      <td>0-1</td>\n      <td>1090</td>\n      <td>1156</td>\n      <td>-9</td>\n      <td>11</td>\n      <td>B20</td>\n      <td>Sicilian Defense</td>\n      <td>600+0</td>\n      <td>Normal</td>\n      <td>1. e4 { [%eval 0.12] [%clk 0:10:00] } 1... c5 ...</td>\n    </tr>\n    <tr>\n      <th>3</th>\n      <td>3</td>\n      <td>Rated Bullet game</td>\n      <td>0-1</td>\n      <td>1091</td>\n      <td>1184</td>\n      <td>-8</td>\n      <td>9</td>\n      <td>C20</td>\n      <td>King's Pawn Game: Wayward Queen Attack, Kiddie...</td>\n      <td>60+0</td>\n      <td>Time forfeit</td>\n      <td>1. e4 { [%eval 0.12] [%clk 0:01:00] } 1... e5 ...</td>\n    </tr>\n    <tr>\n      <th>4</th>\n      <td>4</td>\n      <td>Rated Classical game</td>\n      <td>1-0</td>\n      <td>1672</td>\n      <td>1699</td>\n      <td>11</td>\n      <td>-11</td>\n      <td>C64</td>\n      <td>Ruy Lopez: Classical Variation, Central Variation</td>\n      <td>900+15</td>\n      <td>Normal</td>\n      <td>1. e4 { [%eval 0.12] [%clk 0:15:00] } 1... e5 ...</td>\n    </tr>\n  </tbody>\n</table>\n</div>"
     },
     "execution_count": 3,
     "metadata": {},
     "output_type": "execute_result"
    }
   ],
   "source": [
    "db.head()"
   ],
   "metadata": {
    "collapsed": false,
    "pycharm": {
     "name": "#%%\n"
    }
   }
  },
  {
   "cell_type": "code",
   "execution_count": 4,
   "outputs": [
    {
     "data": {
      "text/plain": "         Unnamed: 0      WhiteElo      BlackElo  WhiteRatingDiff  \\\ncount  31461.000000  31461.000000  31461.000000     31461.000000   \nmean   15730.000000   1503.446903   1503.921967         4.022536   \nstd     9082.152746    321.223393    320.695908        30.933538   \nmin        0.000000    800.000000    800.000000      -437.000000   \n25%     7865.000000   1266.000000   1267.000000       -10.000000   \n50%    15730.000000   1500.000000   1500.000000         3.000000   \n75%    23595.000000   1725.000000   1724.000000        11.000000   \nmax    31460.000000   2748.000000   2667.000000       460.000000   \n\n       BlackRatingDiff  \ncount     31461.000000  \nmean          2.654684  \nstd          29.354305  \nmin        -615.000000  \n25%         -10.000000  \n50%          -2.000000  \n75%          11.000000  \nmax         598.000000  ",
      "text/html": "<div>\n<style scoped>\n    .dataframe tbody tr th:only-of-type {\n        vertical-align: middle;\n    }\n\n    .dataframe tbody tr th {\n        vertical-align: top;\n    }\n\n    .dataframe thead th {\n        text-align: right;\n    }\n</style>\n<table border=\"1\" class=\"dataframe\">\n  <thead>\n    <tr style=\"text-align: right;\">\n      <th></th>\n      <th>Unnamed: 0</th>\n      <th>WhiteElo</th>\n      <th>BlackElo</th>\n      <th>WhiteRatingDiff</th>\n      <th>BlackRatingDiff</th>\n    </tr>\n  </thead>\n  <tbody>\n    <tr>\n      <th>count</th>\n      <td>31461.000000</td>\n      <td>31461.000000</td>\n      <td>31461.000000</td>\n      <td>31461.000000</td>\n      <td>31461.000000</td>\n    </tr>\n    <tr>\n      <th>mean</th>\n      <td>15730.000000</td>\n      <td>1503.446903</td>\n      <td>1503.921967</td>\n      <td>4.022536</td>\n      <td>2.654684</td>\n    </tr>\n    <tr>\n      <th>std</th>\n      <td>9082.152746</td>\n      <td>321.223393</td>\n      <td>320.695908</td>\n      <td>30.933538</td>\n      <td>29.354305</td>\n    </tr>\n    <tr>\n      <th>min</th>\n      <td>0.000000</td>\n      <td>800.000000</td>\n      <td>800.000000</td>\n      <td>-437.000000</td>\n      <td>-615.000000</td>\n    </tr>\n    <tr>\n      <th>25%</th>\n      <td>7865.000000</td>\n      <td>1266.000000</td>\n      <td>1267.000000</td>\n      <td>-10.000000</td>\n      <td>-10.000000</td>\n    </tr>\n    <tr>\n      <th>50%</th>\n      <td>15730.000000</td>\n      <td>1500.000000</td>\n      <td>1500.000000</td>\n      <td>3.000000</td>\n      <td>-2.000000</td>\n    </tr>\n    <tr>\n      <th>75%</th>\n      <td>23595.000000</td>\n      <td>1725.000000</td>\n      <td>1724.000000</td>\n      <td>11.000000</td>\n      <td>11.000000</td>\n    </tr>\n    <tr>\n      <th>max</th>\n      <td>31460.000000</td>\n      <td>2748.000000</td>\n      <td>2667.000000</td>\n      <td>460.000000</td>\n      <td>598.000000</td>\n    </tr>\n  </tbody>\n</table>\n</div>"
     },
     "execution_count": 4,
     "metadata": {},
     "output_type": "execute_result"
    }
   ],
   "source": [
    "db.describe()"
   ],
   "metadata": {
    "collapsed": false,
    "pycharm": {
     "name": "#%%\n"
    }
   }
  },
  {
   "cell_type": "code",
   "execution_count": 34,
   "outputs": [
    {
     "data": {
      "text/plain": "0        1. e4 { [%eval 0.12] [%clk 0:01:00] } 1... b6?...\n1        1. e4 { [%eval 0.12] [%clk 0:05:00] } 1... e5 ...\n2        1. e4 { [%eval 0.12] [%clk 0:10:00] } 1... c5 ...\n3        1. e4 { [%eval 0.12] [%clk 0:01:00] } 1... e5 ...\n4        1. e4 { [%eval 0.12] [%clk 0:15:00] } 1... e5 ...\n                               ...                        \n31456    1. d4 { [%eval 0.25] [%clk 0:05:00] } 1... d5 ...\n31457    1. e4 { [%eval 0.12] [%clk 0:10:00] } 1... e5 ...\n31458    1. e4 { [%eval 0.12] [%clk 0:10:00] } 1... e5 ...\n31459    1. e4 { [%eval 0.12] [%clk 0:10:00] } 1... e5 ...\n31460    1. c4 { [%eval 0.1] [%clk 0:02:00] } 1... e5 {...\nName: Game, Length: 31461, dtype: object"
     },
     "execution_count": 34,
     "metadata": {},
     "output_type": "execute_result"
    }
   ],
   "source": [
    "# domyślnie bez [:5]\n",
    "a = db.Game\n",
    "# a.to_csv('file.csv', encoding='utf-8')\n",
    "a\n",
    "# TODO: find good, bad moves in notation\n",
    "# https://en.wikipedia.org/wiki/Chess_annotation_symbols"
   ],
   "metadata": {
    "collapsed": false,
    "pycharm": {
     "name": "#%%\n"
    }
   }
  },
  {
   "cell_type": "code",
   "execution_count": 30,
   "outputs": [],
   "source": [
    "def time_to_sec(hhmmss):\n",
    "    return sum(x * int(t) for x, t in zip([3600, 60, 1], hhmmss.split(\":\")))\n",
    "\n",
    "def derivative(value_list, step=1, reversed=False):\n",
    "    v_copy = [it for it in value_list]\n",
    "    for i in range(len(v_copy)-1, -1, -1):\n",
    "        if i in np.arange(step):\n",
    "            v_copy[i] = 0\n",
    "        if i >= step:\n",
    "            try:\n",
    "                v_copy[i] = round(v_copy[i] - v_copy[i-step], 2)\n",
    "            except TypeError:\n",
    "                pass\n",
    "    if reversed:\n",
    "        v_copy = [-1 * it for it in v_copy]\n",
    "    return v_copy\n",
    "\n",
    "def score_name(string: str) -> str:\n",
    "    if '??' in string:\n",
    "        return 'blunder'\n",
    "    elif '?!' in string:\n",
    "        return 'dubious move'\n",
    "    elif '!?' in string:\n",
    "        return 'interesting move'\n",
    "    elif '!!' in string:\n",
    "        return 'brilliant move'\n",
    "    elif '?' in string:\n",
    "        return 'mistake'\n",
    "    elif '!' in string:\n",
    "        return 'good move'\n",
    "    else:\n",
    "        return '0'"
   ],
   "metadata": {
    "collapsed": false,
    "pycharm": {
     "name": "#%%\n"
    }
   }
  },
  {
   "cell_type": "code",
   "execution_count": 38,
   "outputs": [
    {
     "name": "stdout",
     "output_type": "stream",
     "text": [
      "0.0\n",
      "1.0\n",
      "2.0\n",
      "3.0\n",
      "4.0\n",
      "5.0\n",
      "6.0\n",
      "7.0\n",
      "8.0\n",
      "9.0\n",
      "10.0\n",
      "11.0\n",
      "12.0\n",
      "13.0\n",
      "14.0\n",
      "15.0\n",
      "16.0\n",
      "17.0\n",
      "18.0\n",
      "19.0\n",
      "20.0\n",
      "21.0\n",
      "22.0\n",
      "23.0\n",
      "24.0\n",
      "25.0\n",
      "26.0\n",
      "27.0\n",
      "28.0\n",
      "29.0\n",
      "30.0\n",
      "31.0\n"
     ]
    }
   ],
   "source": [
    "# na razie na a[0] -> zrobić fora dla wszystkich\n",
    "# ev = re.findall(r\"\\%eval (.*?)\\]\",a[0])\n",
    "# ev = [float(it) for it in ev]\n",
    "#\n",
    "# t_left = re.findall(r\"\\%clk (.*?)\\]\",a[0])\n",
    "# t_left = [time_to_sec(it) for it in t_left]\n",
    "#\n",
    "# d_t = derivative(t_left, step=2, reversed=True)\n",
    "# d_ev = [round(it,2) for it in derivative(ev, step=1, reversed=False)]\n",
    "# ev\n",
    "all_ev = []\n",
    "all_d_ev = []\n",
    "all_t_left = []\n",
    "all_d_t = []\n",
    "score = []\n",
    "\n",
    "for j in range(len(a)):\n",
    "    if j % 1000 == 0:\n",
    "        print(j / 1000)\n",
    "    # score find\n",
    "    sc = re.findall(r\"\\. (.*?)\\] }\",a[j])\n",
    "    for i in range(len(sc)):\n",
    "        sc[i] = score_name(sc[i])\n",
    "    # eval find\n",
    "    # ev = re.findall(r\"\\%eval (.*?)\\]\",a[j])\n",
    "    # for i in range(len(ev)):\n",
    "    #     try:\n",
    "    #         ev[i] = round(float(ev[i]),2)\n",
    "    #     except ValueError:\n",
    "    #         pass\n",
    "    score.append(sc)\n",
    "    # all_ev.append(ev)\n",
    "    # time find\n",
    "    t_left = re.findall(r\"\\%clk (.*?)\\]\",a[j])\n",
    "    t_left = [time_to_sec(it) for it in t_left]\n",
    "    all_t_left.append(t_left)\n",
    "    all_d_t.append(derivative(t_left, step=2, reversed=True))\n",
    "    # all_d_ev.append(derivative(ev, step=1, reversed=False))\n"
   ],
   "metadata": {
    "collapsed": false,
    "pycharm": {
     "name": "#%%\n"
    }
   }
  },
  {
   "cell_type": "code",
   "execution_count": 32,
   "outputs": [
    {
     "name": "stdout",
     "output_type": "stream",
     "text": [
      "[['0', 'dubious move', '0', '0', '0', '0', '0', '0', '0', '0', 'dubious move', '0', '0', '0', 'blunder', '0', '0', '0', 'dubious move', '0', 'mistake', '0', 'dubious move', '0', '0', '0', '0', '0', '0', '0', '0', '0', 'mistake', 'mistake', '0', 'dubious move', 'dubious move', 'dubious move', '0', 'dubious move', '0', '0', 'mistake', '0'], ['0', '0', '0', '0', '0', '0', '0', '0', '0', '0', '0', '0', '0', 'dubious move', '0', '0', 'mistake', '0', '0', '0', '0', '0', '0', '0', '0', '0', '0', '0', 'mistake', '0', '0', '0', '0', 'dubious move', 'dubious move', '0', 'mistake', '0', 'dubious move', '0', 'mistake', '0', '0', '0', '0', '0', 'mistake', '0', 'blunder', '0', '0', '0', '0', '0', '0', '0'], ['0', '0', '0', '0', '0', '0', '0', '0', '0', '0', '0', '0', '0', '0', '0', '0', '0', '0', '0', '0', '0', '0', 'dubious move', '0', '0', '0', '0', '0', '0', 'mistake', '0', '0', 'dubious move', '0', '0', '0', 'blunder', '0', 'mistake', '0', '0', '0', '0', 'mistake', 'mistake', '0', 'mistake', '0', 'mistake', '0', '0', '0', '0', 'mistake', 'mistake', '0', 'dubious move', '0', '0', '0', '0', '0'], ['0', '0', 'dubious move', '0', '0', '0', '0', '0', 'dubious move', '0', '0', 'mistake', 'dubious move', '0', '0', 'dubious move', 'mistake', 'dubious move', 'blunder', '0', '0', '0', '0', '0', 'dubious move', 'dubious move', '0', '0', 'dubious move', 'dubious move', 'dubious move', '0', '0', 'dubious move', '0', '0', '0', '0', '0', 'dubious move', '0', 'dubious move'], ['0', '0', '0', '0', '0', '0', '0', 'dubious move', '0', '0', '0', '0', 'dubious move', '0', '0', '0', '0', 'mistake', '0', 'blunder', '0', '0', '0', '0', '0', 'mistake', '0', '0', '0', 'mistake', '0', '0', '0', '0', 'mistake', 'mistake', 'blunder', 'blunder', '0']]\n"
     ]
    }
   ],
   "source": [],
   "metadata": {
    "collapsed": false,
    "pycharm": {
     "name": "#%%\n"
    }
   }
  },
  {
   "cell_type": "code",
   "execution_count": 39,
   "outputs": [],
   "source": [
    "# db['Eval'] = all_ev\n",
    "# db['Eval_change'] = all_d_ev\n",
    "db['Time'] = all_t_left\n",
    "db['Time_change'] = all_d_t\n",
    "db['Score'] = score"
   ],
   "metadata": {
    "collapsed": false,
    "pycharm": {
     "name": "#%%\n"
    }
   }
  },
  {
   "cell_type": "code",
   "execution_count": 37,
   "outputs": [
    {
     "data": {
      "text/plain": "   Unnamed: 0              Event Result  WhiteElo  BlackElo  WhiteRatingDiff  \\\n0           0  Rated Bullet game    0-1      1079      1071              -30   \n\n   BlackRatingDiff  ECO       Opening TimeControl   Termination  \\\n0               10  B00  Owen Defense        60+0  Time forfeit   \n\n                                                Game  \\\n0  1. e4 { [%eval 0.12] [%clk 0:01:00] } 1... b6?...   \n\n                                                Eval  \\\n0  [0.12, 0.62, 0.64, 0.62, 0.47, 0.54, 0.27, 0.6...   \n\n                                         Eval_change  \\\n0  [0, 0.5, 0.02, -0.02, -0.15, 0.07, -0.27, 0.41...   \n\n                                                Time  \\\n0  [60, 60, 57, 60, 57, 60, 55, 57, 51, 55, 48, 5...   \n\n                                         Time_change  \\\n0  [0, 0, 3, 0, 0, 0, 2, 3, 4, 2, 3, 1, 2, 1, 1, ...   \n\n                                               Score  \n0  [0, dubious move, 0, 0, 0, 0, 0, 0, 0, 0, dubi...  ",
      "text/html": "<div>\n<style scoped>\n    .dataframe tbody tr th:only-of-type {\n        vertical-align: middle;\n    }\n\n    .dataframe tbody tr th {\n        vertical-align: top;\n    }\n\n    .dataframe thead th {\n        text-align: right;\n    }\n</style>\n<table border=\"1\" class=\"dataframe\">\n  <thead>\n    <tr style=\"text-align: right;\">\n      <th></th>\n      <th>Unnamed: 0</th>\n      <th>Event</th>\n      <th>Result</th>\n      <th>WhiteElo</th>\n      <th>BlackElo</th>\n      <th>WhiteRatingDiff</th>\n      <th>BlackRatingDiff</th>\n      <th>ECO</th>\n      <th>Opening</th>\n      <th>TimeControl</th>\n      <th>Termination</th>\n      <th>Game</th>\n      <th>Eval</th>\n      <th>Eval_change</th>\n      <th>Time</th>\n      <th>Time_change</th>\n      <th>Score</th>\n    </tr>\n  </thead>\n  <tbody>\n    <tr>\n      <th>0</th>\n      <td>0</td>\n      <td>Rated Bullet game</td>\n      <td>0-1</td>\n      <td>1079</td>\n      <td>1071</td>\n      <td>-30</td>\n      <td>10</td>\n      <td>B00</td>\n      <td>Owen Defense</td>\n      <td>60+0</td>\n      <td>Time forfeit</td>\n      <td>1. e4 { [%eval 0.12] [%clk 0:01:00] } 1... b6?...</td>\n      <td>[0.12, 0.62, 0.64, 0.62, 0.47, 0.54, 0.27, 0.6...</td>\n      <td>[0, 0.5, 0.02, -0.02, -0.15, 0.07, -0.27, 0.41...</td>\n      <td>[60, 60, 57, 60, 57, 60, 55, 57, 51, 55, 48, 5...</td>\n      <td>[0, 0, 3, 0, 0, 0, 2, 3, 4, 2, 3, 1, 2, 1, 1, ...</td>\n      <td>[0, dubious move, 0, 0, 0, 0, 0, 0, 0, 0, dubi...</td>\n    </tr>\n  </tbody>\n</table>\n</div>"
     },
     "execution_count": 37,
     "metadata": {},
     "output_type": "execute_result"
    }
   ],
   "source": [
    "db.head(1)\n"
   ],
   "metadata": {
    "collapsed": false,
    "pycharm": {
     "name": "#%%\n"
    }
   }
  },
  {
   "cell_type": "code",
   "execution_count": null,
   "outputs": [
    {
     "name": "stdout",
     "output_type": "stream",
     "text": [
      "0.0\n",
      "1.0\n",
      "2.0\n",
      "3.0\n",
      "4.0\n",
      "5.0\n",
      "6.0\n",
      "7.0\n",
      "8.0\n",
      "9.0\n",
      "10.0\n",
      "11.0\n",
      "12.0\n",
      "13.0\n",
      "14.0\n",
      "15.0\n",
      "16.0\n",
      "17.0\n",
      "18.0\n",
      "19.0\n",
      "20.0\n",
      "21.0\n"
     ]
    }
   ],
   "source": [
    "# TODO: zmienić: prawdopodobieństwo wykonania ruchu danego typu\n",
    "# czyli zostawić nieblundery też, usunąć if it[0] != '0'\n",
    "\n",
    "\n",
    "\n",
    "moves = pd.DataFrame()\n",
    "for i in range(len(db)):\n",
    "    if i % 1000 == 0:\n",
    "        print(i / 1000)\n",
    "    zip_values = [ it for it in zip(db.iloc[i,-1],db.iloc[i,-2])] #  if it[0] != '0'\n",
    "    n = len(zip_values)\n",
    "    moves = pd.concat([moves,\n",
    "                       pd.DataFrame(\n",
    "                       {'score': [it[0] for it in zip_values],\n",
    "                        'delta_time': [it[1] for it in zip_values],\n",
    "                        'WhiteElo': [db.iloc[i,3]] * n,\n",
    "                        'BlackElo': [db.iloc[i,4]] * n,\n",
    "                        'WhiteRatingDiff': [db.iloc[i,5]] * n,\n",
    "                        'TimeControl': [db.iloc[i,9]] * n\n",
    "                        })]\n",
    "                      ,ignore_index=True)"
   ],
   "metadata": {
    "collapsed": false,
    "pycharm": {
     "name": "#%%\n",
     "is_executing": true
    }
   }
  },
  {
   "cell_type": "code",
   "execution_count": null,
   "outputs": [],
   "source": [
    "moves.to_csv(r'C:\\Users\\piotr\\OneDrive\\Documents\\GitHub\\Chess\\dane\\moves.csv', mode='w')"
   ],
   "metadata": {
    "collapsed": false,
    "pycharm": {
     "name": "#%%\n",
     "is_executing": true
    }
   }
  },
  {
   "cell_type": "code",
   "execution_count": 11,
   "outputs": [],
   "source": [
    "db.to_csv(r'C:\\Users\\piotr\\OneDrive\\Documents\\GitHub\\Chess\\dane\\filtered_data_wt_eval.csv', mode='w')"
   ],
   "metadata": {
    "collapsed": false,
    "pycharm": {
     "name": "#%%\n"
    }
   }
  },
  {
   "cell_type": "code",
   "execution_count": 12,
   "outputs": [
    {
     "data": {
      "text/plain": "<AxesSubplot:>"
     },
     "execution_count": 12,
     "metadata": {},
     "output_type": "execute_result"
    },
    {
     "data": {
      "text/plain": "<Figure size 432x288 with 1 Axes>",
      "image/png": "[encoded data removed]"
     },
     "metadata": {
      "needs_background": "light"
     },
     "output_type": "display_data"
    }
   ],
   "source": [
    "db.WhiteElo.hist(bins=49)"
   ],
   "metadata": {
    "collapsed": false,
    "pycharm": {
     "name": "#%%\n"
    }
   }
  },
  {
   "cell_type": "code",
   "execution_count": 13,
   "outputs": [
    {
     "data": {
      "text/plain": "<AxesSubplot:>"
     },
     "execution_count": 13,
     "metadata": {},
     "output_type": "execute_result"
    },
    {
     "data": {
      "text/plain": "<Figure size 432x288 with 1 Axes>",
      "image/png": "[encoded data removed]"
     },
     "metadata": {
      "needs_background": "light"
     },
     "output_type": "display_data"
    }
   ],
   "source": [
    "db.WhiteRatingDiff[(db.WhiteRatingDiff > -100) & (db.WhiteRatingDiff <100)].hist(bins=201)"
   ],
   "metadata": {
    "collapsed": false,
    "pycharm": {
     "name": "#%%\n"
    }
   }
  },
  {
   "cell_type": "code",
   "execution_count": 14,
   "outputs": [
    {
     "data": {
      "text/plain": "<AxesSubplot:>"
     },
     "execution_count": 14,
     "metadata": {},
     "output_type": "execute_result"
    },
    {
     "data": {
      "text/plain": "<Figure size 432x288 with 1 Axes>",
      "image/png": "[encoded data removed]"
     },
     "metadata": {
      "needs_background": "light"
     },
     "output_type": "display_data"
    }
   ],
   "source": [
    "db.Result.hist(bins=3)"
   ],
   "metadata": {
    "collapsed": false,
    "pycharm": {
     "name": "#%%\n"
    }
   }
  },
  {
   "cell_type": "code",
   "execution_count": 15,
   "outputs": [
    {
     "data": {
      "text/plain": "3"
     },
     "execution_count": 15,
     "metadata": {},
     "output_type": "execute_result"
    }
   ],
   "source": [
    "a = 'asd1 asd alsd ;asdf'\n",
    "a.count('asd')"
   ],
   "metadata": {
    "collapsed": false,
    "pycharm": {
     "name": "#%%\n"
    }
   }
  },
  {
   "cell_type": "code",
   "source": [
    "# 5+0 format\n",
    "format_5 = db[db['TimeControl'] == '300+0']\n",
    "for item in format_5.loc[:30,'Eval_change']:\n",
    "    print(item)"
   ],
   "metadata": {
    "collapsed": false,
    "pycharm": {
     "name": "#%%\n"
    }
   },
   "execution_count": 16,
   "outputs": [
    {
     "name": "stdout",
     "output_type": "stream",
     "text": [
      "[0, 0.25, -0.14, -0.08, 0.28, 0.01, -0.07, -0.07, 0.23, 0.19, -0.21, 0.06, -0.2, 0.62, 0.45, 0.1, -1.03, -0.03, -0.06, 0.09, -0.07, -0.02, -0.19, 0.46, 0.11, -0.07, -0.17, 0.04, -1.05, 0.45, -0.37, -0.17, -0.12, 0.97, -0.84, 0.04, -1.0, 0.18, -0.92, 0.21, -1.79, 0.19, -0.26, 0.07, 0.04, 0.07, -1.95, 1.17, -5.16, 0.0, 0.04, 0.03, 0.02, 0.05, 0.03, 0.2]\n",
      "[0, 0.25, -0.14, -0.08, 0.06, 0.25, -0.1, 0.02, 0.1, -0.12, 0.02, 0.2, -0.04, -0.22, 0.28, 0.65, -0.59, 0.02, -0.38, 0.04, 0.03, -0.07, -0.51, 0.19, -0.39, 0.58, 0.06, 0.2, 0.12, 0.97, -0.1, 0.53, -1.95, 2.13, -2.04, 0.02, -0.11, 0.0, 0.0, -0.29, -1.71, 0.1, -2.57, 0.18, -6.71, 0.29, 0.88, 2.8, -0.42, 4.4, -57.74, 53.06, -5.38, 10.75, '#-12', '#-11', '#-11', '#-10', '#-6', '#-10', '#-10', -7.39, '#-7', '#-6', '#-2', '#-1', '#-1']\n"
     ]
    }
   ]
  },
  {
   "cell_type": "code",
   "execution_count": 17,
   "outputs": [
    {
     "name": "stdout",
     "output_type": "stream",
     "text": [
      "[0, 0, 2, 1, 1, 2, 1, 1, 7, 1, 2, 2, 0, 1, 1, 1, 2, 1, 1, 3, 7, 0, 3, 1, 10, 4, 9, 2, 20, 5, 7, 2, 51, 20, 7, 11, 47, 59, 50, 8, 22, 2, 0, 13, 13, 17, 7, 7, 7, 16, 5, 2, 1, 0, 1, 1]\n",
      "[0, 0, 1, 1, 0, 1, 1, 3, 5, 5, 2, 8, 8, 0, 6, 18, 2, 0, 2, 5, 11, 0, 10, 4, 7, 16, 9, 2, 5, 7, 8, 5, 14, 3, 2, 4, 3, 7, 12, 15, 4, 2, 8, 13, 20, 4, 2, 2, 3, 46, 8, 7, 23, 2, 16, 7, 4, 16, 8, 4, 5, 6, 3, 3, 22, 2, 4, 3]\n"
     ]
    }
   ],
   "source": [
    "for item in format_5.loc[:30,'Time_change']:\n",
    "    print(item)"
   ],
   "metadata": {
    "collapsed": false,
    "pycharm": {
     "name": "#%%\n"
    }
   }
  },
  {
   "cell_type": "code",
   "execution_count": 18,
   "outputs": [
    {
     "data": {
      "text/plain": "1     [0, 0, 2, 1, 1, 2, 1, 1, 7, 1, 2, 2, 0, 1, 1, ...\n20    [0, 0, 1, 1, 0, 1, 1, 3, 5, 5, 2, 8, 8, 0, 6, ...\nName: Time_change, dtype: object"
     },
     "execution_count": 18,
     "metadata": {},
     "output_type": "execute_result"
    }
   ],
   "source": [
    "format_5.loc[:30,'Time_change']\n"
   ],
   "metadata": {
    "collapsed": false,
    "pycharm": {
     "name": "#%%\n"
    }
   }
  },
  {
   "cell_type": "code",
   "execution_count": 44,
   "outputs": [
    {
     "data": {
      "text/plain": "[(1, 'a'), (2, 'b'), (3, 'a'), (4, 'b')]"
     },
     "execution_count": 44,
     "metadata": {},
     "output_type": "execute_result"
    }
   ],
   "source": [],
   "metadata": {
    "collapsed": false,
    "pycharm": {
     "name": "#%%\n"
    }
   }
  },
  {
   "cell_type": "code",
   "execution_count": null,
   "outputs": [],
   "source": [],
   "metadata": {
    "collapsed": false,
    "pycharm": {
     "name": "#%%\n"
    }
   }
  }
 ],
 "metadata": {
  "kernelspec": {
   "display_name": "Python 3",
   "language": "python",
   "name": "python3"
  },
  "language_info": {
   "codemirror_mode": {
    "name": "ipython",
    "version": 2
   },
   "file_extension": ".py",
   "mimetype": "text/x-python",
   "name": "python",
   "nbconvert_exporter": "python",
   "pygments_lexer": "ipython2",
   "version": "2.7.6"
  }
 },
 "nbformat": 4,
 "nbformat_minor": 0
}