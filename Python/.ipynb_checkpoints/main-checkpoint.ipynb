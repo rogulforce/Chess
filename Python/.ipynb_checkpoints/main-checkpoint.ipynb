{
 "cells": [
  {
   "cell_type": "markdown",
   "metadata": {
    "collapsed": true,
    "pycharm": {
     "name": "#%% md\n"
    }
   },
   "source": [
    "# HWDP\n",
    "\n",
    "$ x = \\frac{\\sqrt{z}}{y} $"
   ]
  },
  {
   "cell_type": "code",
   "execution_count": 16,
   "metadata": {
    "pycharm": {
     "name": "#%%\n"
    }
   },
   "outputs": [],
   "source": [
    "import pandas as pd\n",
    "import re\n",
    "import numpy as np\n",
    "import matplotlib.pyplot as plt"
   ]
  },
  {
   "cell_type": "code",
   "execution_count": 2,
   "metadata": {
    "pycharm": {
     "name": "#%%\n"
    }
   },
   "outputs": [
    {
     "name": "stderr",
     "output_type": "stream",
     "text": [
      "c:\\users\\piotr\\appdata\\local\\programs\\python\\python39\\lib\\site-packages\\IPython\\core\\interactiveshell.py:3165: DtypeWarning: Columns (5,6) have mixed types.Specify dtype option on import or set low_memory=False.\n",
      "  has_raised = await self.run_ast_nodes(code_ast.body, cell_name,\n"
     ]
    }
   ],
   "source": [
    "db= pd.read_csv(r'E:\\bigdata\\filtered_data.csv')"
   ]
  },
  {
   "cell_type": "code",
   "execution_count": 3,
   "metadata": {
    "pycharm": {
     "name": "#%%\n"
    }
   },
   "outputs": [
    {
     "data": {
      "text/html": [
       "<div>\n",
       "<style scoped>\n",
       "    .dataframe tbody tr th:only-of-type {\n",
       "        vertical-align: middle;\n",
       "    }\n",
       "\n",
       "    .dataframe tbody tr th {\n",
       "        vertical-align: top;\n",
       "    }\n",
       "\n",
       "    .dataframe thead th {\n",
       "        text-align: right;\n",
       "    }\n",
       "</style>\n",
       "<table border=\"1\" class=\"dataframe\">\n",
       "  <thead>\n",
       "    <tr style=\"text-align: right;\">\n",
       "      <th></th>\n",
       "      <th>Unnamed: 0</th>\n",
       "      <th>Event</th>\n",
       "      <th>Result</th>\n",
       "      <th>WhiteElo</th>\n",
       "      <th>BlackElo</th>\n",
       "      <th>WhiteRatingDiff</th>\n",
       "      <th>BlackRatingDiff</th>\n",
       "      <th>ECO</th>\n",
       "      <th>Opening</th>\n",
       "      <th>TimeControl</th>\n",
       "      <th>Termination</th>\n",
       "      <th>Game</th>\n",
       "    </tr>\n",
       "  </thead>\n",
       "  <tbody>\n",
       "    <tr>\n",
       "      <th>0</th>\n",
       "      <td>0</td>\n",
       "      <td>Rated Bullet game</td>\n",
       "      <td>0-1</td>\n",
       "      <td>1079</td>\n",
       "      <td>1071</td>\n",
       "      <td>-30</td>\n",
       "      <td>+10</td>\n",
       "      <td>B00</td>\n",
       "      <td>Owen Defense</td>\n",
       "      <td>60+0</td>\n",
       "      <td>Time forfeit</td>\n",
       "      <td>1. e4 { [%eval 0.12] [%clk 0:01:00] } 1... b6?...</td>\n",
       "    </tr>\n",
       "    <tr>\n",
       "      <th>1</th>\n",
       "      <td>1</td>\n",
       "      <td>Rated Blitz game</td>\n",
       "      <td>0-1</td>\n",
       "      <td>1888</td>\n",
       "      <td>1796</td>\n",
       "      <td>-13</td>\n",
       "      <td>+13</td>\n",
       "      <td>C62</td>\n",
       "      <td>Ruy Lopez: Steinitz Defense</td>\n",
       "      <td>300+0</td>\n",
       "      <td>Normal</td>\n",
       "      <td>1. e4 { [%eval 0.12] [%clk 0:05:00] } 1... e5 ...</td>\n",
       "    </tr>\n",
       "    <tr>\n",
       "      <th>2</th>\n",
       "      <td>2</td>\n",
       "      <td>Rated Rapid game</td>\n",
       "      <td>0-1</td>\n",
       "      <td>1090</td>\n",
       "      <td>1156</td>\n",
       "      <td>-9</td>\n",
       "      <td>+11</td>\n",
       "      <td>B20</td>\n",
       "      <td>Sicilian Defense</td>\n",
       "      <td>600+0</td>\n",
       "      <td>Normal</td>\n",
       "      <td>1. e4 { [%eval 0.12] [%clk 0:10:00] } 1... c5 ...</td>\n",
       "    </tr>\n",
       "    <tr>\n",
       "      <th>3</th>\n",
       "      <td>3</td>\n",
       "      <td>Rated Bullet game</td>\n",
       "      <td>0-1</td>\n",
       "      <td>1091</td>\n",
       "      <td>1184</td>\n",
       "      <td>-8</td>\n",
       "      <td>+9</td>\n",
       "      <td>C20</td>\n",
       "      <td>King's Pawn Game: Wayward Queen Attack, Kiddie...</td>\n",
       "      <td>60+0</td>\n",
       "      <td>Time forfeit</td>\n",
       "      <td>1. e4 { [%eval 0.12] [%clk 0:01:00] } 1... e5 ...</td>\n",
       "    </tr>\n",
       "    <tr>\n",
       "      <th>4</th>\n",
       "      <td>4</td>\n",
       "      <td>Rated Classical game</td>\n",
       "      <td>1-0</td>\n",
       "      <td>1672</td>\n",
       "      <td>1699</td>\n",
       "      <td>+11</td>\n",
       "      <td>-11</td>\n",
       "      <td>C64</td>\n",
       "      <td>Ruy Lopez: Classical Variation, Central Variation</td>\n",
       "      <td>900+15</td>\n",
       "      <td>Normal</td>\n",
       "      <td>1. e4 { [%eval 0.12] [%clk 0:15:00] } 1... e5 ...</td>\n",
       "    </tr>\n",
       "  </tbody>\n",
       "</table>\n",
       "</div>"
      ],
      "text/plain": [
       "   Unnamed: 0                 Event Result  WhiteElo  BlackElo  \\\n",
       "0           0     Rated Bullet game    0-1      1079      1071   \n",
       "1           1      Rated Blitz game    0-1      1888      1796   \n",
       "2           2      Rated Rapid game    0-1      1090      1156   \n",
       "3           3     Rated Bullet game    0-1      1091      1184   \n",
       "4           4  Rated Classical game    1-0      1672      1699   \n",
       "\n",
       "  WhiteRatingDiff BlackRatingDiff  ECO  \\\n",
       "0             -30             +10  B00   \n",
       "1             -13             +13  C62   \n",
       "2              -9             +11  B20   \n",
       "3              -8              +9  C20   \n",
       "4             +11             -11  C64   \n",
       "\n",
       "                                             Opening TimeControl  \\\n",
       "0                                       Owen Defense        60+0   \n",
       "1                        Ruy Lopez: Steinitz Defense       300+0   \n",
       "2                                   Sicilian Defense       600+0   \n",
       "3  King's Pawn Game: Wayward Queen Attack, Kiddie...        60+0   \n",
       "4  Ruy Lopez: Classical Variation, Central Variation      900+15   \n",
       "\n",
       "    Termination                                               Game  \n",
       "0  Time forfeit  1. e4 { [%eval 0.12] [%clk 0:01:00] } 1... b6?...  \n",
       "1        Normal  1. e4 { [%eval 0.12] [%clk 0:05:00] } 1... e5 ...  \n",
       "2        Normal  1. e4 { [%eval 0.12] [%clk 0:10:00] } 1... c5 ...  \n",
       "3  Time forfeit  1. e4 { [%eval 0.12] [%clk 0:01:00] } 1... e5 ...  \n",
       "4        Normal  1. e4 { [%eval 0.12] [%clk 0:15:00] } 1... e5 ...  "
      ]
     },
     "execution_count": 3,
     "metadata": {},
     "output_type": "execute_result"
    }
   ],
   "source": [
    "db.head()"
   ]
  },
  {
   "cell_type": "code",
   "execution_count": 4,
   "metadata": {
    "pycharm": {
     "name": "#%%\n"
    }
   },
   "outputs": [
    {
     "data": {
      "text/html": [
       "<div>\n",
       "<style scoped>\n",
       "    .dataframe tbody tr th:only-of-type {\n",
       "        vertical-align: middle;\n",
       "    }\n",
       "\n",
       "    .dataframe tbody tr th {\n",
       "        vertical-align: top;\n",
       "    }\n",
       "\n",
       "    .dataframe thead th {\n",
       "        text-align: right;\n",
       "    }\n",
       "</style>\n",
       "<table border=\"1\" class=\"dataframe\">\n",
       "  <thead>\n",
       "    <tr style=\"text-align: right;\">\n",
       "      <th></th>\n",
       "      <th>Unnamed: 0</th>\n",
       "      <th>WhiteElo</th>\n",
       "      <th>BlackElo</th>\n",
       "    </tr>\n",
       "  </thead>\n",
       "  <tbody>\n",
       "    <tr>\n",
       "      <th>count</th>\n",
       "      <td>154981.000000</td>\n",
       "      <td>154981.000000</td>\n",
       "      <td>154981.000000</td>\n",
       "    </tr>\n",
       "    <tr>\n",
       "      <th>mean</th>\n",
       "      <td>77490.000000</td>\n",
       "      <td>1501.748589</td>\n",
       "      <td>1501.858105</td>\n",
       "    </tr>\n",
       "    <tr>\n",
       "      <th>std</th>\n",
       "      <td>44739.305372</td>\n",
       "      <td>318.479926</td>\n",
       "      <td>318.607224</td>\n",
       "    </tr>\n",
       "    <tr>\n",
       "      <th>min</th>\n",
       "      <td>0.000000</td>\n",
       "      <td>791.000000</td>\n",
       "      <td>800.000000</td>\n",
       "    </tr>\n",
       "    <tr>\n",
       "      <th>25%</th>\n",
       "      <td>38745.000000</td>\n",
       "      <td>1267.000000</td>\n",
       "      <td>1266.000000</td>\n",
       "    </tr>\n",
       "    <tr>\n",
       "      <th>50%</th>\n",
       "      <td>77490.000000</td>\n",
       "      <td>1500.000000</td>\n",
       "      <td>1499.000000</td>\n",
       "    </tr>\n",
       "    <tr>\n",
       "      <th>75%</th>\n",
       "      <td>116235.000000</td>\n",
       "      <td>1722.000000</td>\n",
       "      <td>1722.000000</td>\n",
       "    </tr>\n",
       "    <tr>\n",
       "      <th>max</th>\n",
       "      <td>154980.000000</td>\n",
       "      <td>2805.000000</td>\n",
       "      <td>2804.000000</td>\n",
       "    </tr>\n",
       "  </tbody>\n",
       "</table>\n",
       "</div>"
      ],
      "text/plain": [
       "          Unnamed: 0       WhiteElo       BlackElo\n",
       "count  154981.000000  154981.000000  154981.000000\n",
       "mean    77490.000000    1501.748589    1501.858105\n",
       "std     44739.305372     318.479926     318.607224\n",
       "min         0.000000     791.000000     800.000000\n",
       "25%     38745.000000    1267.000000    1266.000000\n",
       "50%     77490.000000    1500.000000    1499.000000\n",
       "75%    116235.000000    1722.000000    1722.000000\n",
       "max    154980.000000    2805.000000    2804.000000"
      ]
     },
     "execution_count": 4,
     "metadata": {},
     "output_type": "execute_result"
    }
   ],
   "source": [
    "db.describe()"
   ]
  },
  {
   "cell_type": "code",
   "execution_count": 5,
   "metadata": {
    "pycharm": {
     "name": "#%%\n"
    }
   },
   "outputs": [
    {
     "data": {
      "text/plain": [
       "0         1. e4 { [%eval 0.12] [%clk 0:01:00] } 1... b6?...\n",
       "1         1. e4 { [%eval 0.12] [%clk 0:05:00] } 1... e5 ...\n",
       "2         1. e4 { [%eval 0.12] [%clk 0:10:00] } 1... c5 ...\n",
       "3         1. e4 { [%eval 0.12] [%clk 0:01:00] } 1... e5 ...\n",
       "4         1. e4 { [%eval 0.12] [%clk 0:15:00] } 1... e5 ...\n",
       "                                ...                        \n",
       "154976    1. d4 { [%eval 0.25] [%clk 0:10:00] } 1... d5 ...\n",
       "154977    1. e4 { [%eval 0.12] [%clk 0:01:00] } 1... d5 ...\n",
       "154978    1. e4 { [%eval 0.12] [%clk 0:05:00] } 1... c5 ...\n",
       "154979    1. e4 { [%eval 0.12] [%clk 0:03:00] } 1... d5 ...\n",
       "154980    1. e3 { [%eval -0.03] [%clk 0:05:00] } 1... d5...\n",
       "Name: Game, Length: 154981, dtype: object"
      ]
     },
     "execution_count": 5,
     "metadata": {},
     "output_type": "execute_result"
    }
   ],
   "source": [
    "# domyślnie bez [:5]\n",
    "a = db.Game\n",
    "# a.to_csv('file.csv', encoding='utf-8')\n",
    "a\n",
    "# TODO: find good, bad moves in notation\n",
    "# https://en.wikipedia.org/wiki/Chess_annotation_symbols"
   ]
  },
  {
   "cell_type": "code",
   "execution_count": 6,
   "metadata": {
    "pycharm": {
     "name": "#%%\n"
    }
   },
   "outputs": [],
   "source": [
    "def time_to_sec(hhmmss):\n",
    "    return sum(x * int(t) for x, t in zip([3600, 60, 1], hhmmss.split(\":\")))\n",
    "\n",
    "def derivative(value_list, step=1, reversed=False):\n",
    "    v_copy = [it for it in value_list]\n",
    "    for i in range(len(v_copy)-1, -1, -1):\n",
    "        if i in np.arange(step):\n",
    "            v_copy[i] = 0\n",
    "        if i >= step:\n",
    "            try:\n",
    "                v_copy[i] = round(v_copy[i] - v_copy[i-step], 2)\n",
    "            except TypeError:\n",
    "                pass\n",
    "    if reversed:\n",
    "        v_copy = [-1 * it for it in v_copy]\n",
    "    return v_copy\n",
    "\n",
    "def score_name(string: str) -> str:\n",
    "    if '??' in string:\n",
    "        return 'blunder'\n",
    "    elif '?!' in string:\n",
    "        return 'dubious move'\n",
    "    elif '!?' in string:\n",
    "        return 'interesting move'\n",
    "    elif '!!' in string:\n",
    "        return 'brilliant move'\n",
    "    elif '?' in string:\n",
    "        return 'mistake'\n",
    "    elif '!' in string:\n",
    "        return 'good move'\n",
    "    else:\n",
    "        return '0'"
   ]
  },
  {
   "cell_type": "code",
   "execution_count": 7,
   "metadata": {
    "pycharm": {
     "name": "#%%\n"
    }
   },
   "outputs": [
    {
     "name": "stdout",
     "output_type": "stream",
     "text": [
      "0.0\n",
      "1.0\n",
      "2.0\n",
      "3.0\n",
      "4.0\n",
      "5.0\n",
      "6.0\n",
      "7.0\n",
      "8.0\n",
      "9.0\n",
      "10.0\n",
      "11.0\n",
      "12.0\n",
      "13.0\n",
      "14.0\n",
      "15.0\n",
      "16.0\n",
      "17.0\n",
      "18.0\n",
      "19.0\n",
      "20.0\n",
      "21.0\n",
      "22.0\n",
      "23.0\n",
      "24.0\n",
      "25.0\n",
      "26.0\n",
      "27.0\n",
      "28.0\n",
      "29.0\n",
      "30.0\n",
      "31.0\n",
      "32.0\n",
      "33.0\n",
      "34.0\n",
      "35.0\n",
      "36.0\n",
      "37.0\n",
      "38.0\n",
      "39.0\n",
      "40.0\n",
      "41.0\n",
      "42.0\n",
      "43.0\n",
      "44.0\n",
      "45.0\n",
      "46.0\n",
      "47.0\n",
      "48.0\n",
      "49.0\n",
      "50.0\n",
      "51.0\n",
      "52.0\n",
      "53.0\n",
      "54.0\n",
      "55.0\n",
      "56.0\n",
      "57.0\n",
      "58.0\n",
      "59.0\n",
      "60.0\n",
      "61.0\n",
      "62.0\n",
      "63.0\n",
      "64.0\n",
      "65.0\n",
      "66.0\n",
      "67.0\n",
      "68.0\n",
      "69.0\n",
      "70.0\n",
      "71.0\n",
      "72.0\n",
      "73.0\n",
      "74.0\n",
      "75.0\n",
      "76.0\n",
      "77.0\n",
      "78.0\n",
      "79.0\n",
      "80.0\n",
      "81.0\n",
      "82.0\n",
      "83.0\n",
      "84.0\n",
      "85.0\n",
      "86.0\n",
      "87.0\n",
      "88.0\n",
      "89.0\n",
      "90.0\n",
      "91.0\n",
      "92.0\n",
      "93.0\n",
      "94.0\n",
      "95.0\n",
      "96.0\n",
      "97.0\n",
      "98.0\n",
      "99.0\n",
      "100.0\n",
      "101.0\n",
      "102.0\n",
      "103.0\n",
      "104.0\n",
      "105.0\n",
      "106.0\n",
      "107.0\n",
      "108.0\n",
      "109.0\n",
      "110.0\n",
      "111.0\n",
      "112.0\n",
      "113.0\n",
      "114.0\n",
      "115.0\n",
      "116.0\n",
      "117.0\n",
      "118.0\n",
      "119.0\n",
      "120.0\n",
      "121.0\n",
      "122.0\n",
      "123.0\n",
      "124.0\n",
      "125.0\n",
      "126.0\n",
      "127.0\n",
      "128.0\n",
      "129.0\n",
      "130.0\n",
      "131.0\n",
      "132.0\n",
      "133.0\n",
      "134.0\n",
      "135.0\n",
      "136.0\n",
      "137.0\n",
      "138.0\n",
      "139.0\n",
      "140.0\n",
      "141.0\n",
      "142.0\n",
      "143.0\n",
      "144.0\n",
      "145.0\n",
      "146.0\n",
      "147.0\n",
      "148.0\n",
      "149.0\n",
      "150.0\n",
      "151.0\n",
      "152.0\n",
      "153.0\n",
      "154.0\n"
     ]
    }
   ],
   "source": [
    "# na razie na a[0] -> zrobić fora dla wszystkich\n",
    "# ev = re.findall(r\"\\%eval (.*?)\\]\",a[0])\n",
    "# ev = [float(it) for it in ev]\n",
    "#\n",
    "# t_left = re.findall(r\"\\%clk (.*?)\\]\",a[0])\n",
    "# t_left = [time_to_sec(it) for it in t_left]\n",
    "#\n",
    "# d_t = derivative(t_left, step=2, reversed=True)\n",
    "# d_ev = [round(it,2) for it in derivative(ev, step=1, reversed=False)]\n",
    "# ev\n",
    "all_ev = []\n",
    "all_d_ev = []\n",
    "all_t_left = []\n",
    "all_d_t = []\n",
    "score = []\n",
    "\n",
    "for j in range(len(a)):\n",
    "    if j % 1000 == 0:\n",
    "        print(j / 1000)\n",
    "    # score find\n",
    "    sc = re.findall(r\"\\. (.*?)\\] }\",a[j])\n",
    "    for i in range(len(sc)):\n",
    "        sc[i] = score_name(sc[i])\n",
    "    # eval find\n",
    "    # ev = re.findall(r\"\\%eval (.*?)\\]\",a[j])\n",
    "    # for i in range(len(ev)):\n",
    "    #     try:\n",
    "    #         ev[i] = round(float(ev[i]),2)\n",
    "    #     except ValueError:\n",
    "    #         pass\n",
    "    score.append(sc)\n",
    "    # all_ev.append(ev)\n",
    "    # time find\n",
    "    t_left = re.findall(r\"\\%clk (.*?)\\]\",a[j])\n",
    "    t_left = [time_to_sec(it) for it in t_left]\n",
    "    all_t_left.append(t_left)\n",
    "    all_d_t.append(derivative(t_left, step=2, reversed=True))\n",
    "    # all_d_ev.append(derivative(ev, step=1, reversed=False))\n"
   ]
  },
  {
   "cell_type": "code",
   "execution_count": 8,
   "metadata": {
    "pycharm": {
     "name": "#%%\n"
    }
   },
   "outputs": [],
   "source": [
    "# db['Eval'] = all_ev\n",
    "# db['Eval_change'] = all_d_ev\n",
    "db['Time'] = all_t_left\n",
    "db['Time_change'] = all_d_t\n",
    "db['Score'] = score"
   ]
  },
  {
   "cell_type": "code",
   "execution_count": 39,
   "metadata": {
    "pycharm": {
     "name": "#%%\n"
    }
   },
   "outputs": [
    {
     "data": {
      "text/plain": [
       "154981"
      ]
     },
     "execution_count": 39,
     "metadata": {},
     "output_type": "execute_result"
    }
   ],
   "source": [
    "db.head(1)"
   ]
  },
  {
   "cell_type": "code",
   "execution_count": 10,
   "metadata": {
    "pycharm": {
     "name": "#%%\n"
    }
   },
   "outputs": [
    {
     "name": "stdout",
     "output_type": "stream",
     "text": [
      "0.0\n",
      "1.0\n",
      "2.0\n",
      "3.0\n",
      "4.0\n",
      "5.0\n",
      "6.0\n",
      "7.0\n",
      "8.0\n",
      "9.0\n",
      "10.0\n",
      "11.0\n",
      "12.0\n",
      "13.0\n",
      "14.0\n",
      "15.0\n",
      "16.0\n",
      "17.0\n",
      "18.0\n",
      "19.0\n",
      "20.0\n",
      "21.0\n",
      "22.0\n",
      "23.0\n",
      "24.0\n",
      "25.0\n",
      "26.0\n",
      "27.0\n",
      "28.0\n",
      "29.0\n",
      "30.0\n",
      "31.0\n",
      "32.0\n",
      "33.0\n",
      "34.0\n",
      "35.0\n",
      "36.0\n",
      "37.0\n",
      "38.0\n",
      "39.0\n",
      "40.0\n",
      "41.0\n",
      "42.0\n",
      "43.0\n",
      "44.0\n",
      "45.0\n",
      "46.0\n",
      "47.0\n",
      "48.0\n",
      "49.0\n",
      "50.0\n",
      "51.0\n",
      "52.0\n",
      "53.0\n",
      "54.0\n",
      "55.0\n",
      "56.0\n",
      "57.0\n",
      "58.0\n",
      "59.0\n",
      "60.0\n",
      "61.0\n",
      "62.0\n",
      "63.0\n",
      "64.0\n",
      "65.0\n",
      "66.0\n",
      "67.0\n",
      "68.0\n",
      "69.0\n",
      "70.0\n",
      "71.0\n",
      "72.0\n",
      "73.0\n",
      "74.0\n",
      "75.0\n",
      "76.0\n",
      "77.0\n",
      "78.0\n",
      "79.0\n",
      "80.0\n",
      "81.0\n",
      "82.0\n",
      "83.0\n",
      "84.0\n",
      "85.0\n",
      "86.0\n",
      "87.0\n",
      "88.0\n",
      "89.0\n",
      "90.0\n",
      "91.0\n",
      "92.0\n",
      "93.0\n",
      "94.0\n",
      "95.0\n",
      "96.0\n",
      "97.0\n",
      "98.0\n",
      "99.0\n",
      "100.0\n",
      "101.0\n",
      "102.0\n",
      "103.0\n",
      "104.0\n",
      "105.0\n",
      "106.0\n",
      "107.0\n",
      "108.0\n",
      "109.0\n",
      "110.0\n",
      "111.0\n",
      "112.0\n",
      "113.0\n",
      "114.0\n",
      "115.0\n",
      "116.0\n",
      "117.0\n",
      "118.0\n",
      "119.0\n",
      "120.0\n",
      "121.0\n",
      "122.0\n",
      "123.0\n",
      "124.0\n",
      "125.0\n",
      "126.0\n",
      "127.0\n",
      "128.0\n",
      "129.0\n",
      "130.0\n",
      "131.0\n",
      "132.0\n",
      "133.0\n",
      "134.0\n",
      "135.0\n",
      "136.0\n",
      "137.0\n",
      "138.0\n",
      "139.0\n",
      "140.0\n",
      "141.0\n",
      "142.0\n",
      "143.0\n",
      "144.0\n",
      "145.0\n",
      "146.0\n",
      "147.0\n",
      "148.0\n",
      "149.0\n",
      "150.0\n",
      "151.0\n",
      "152.0\n",
      "153.0\n",
      "154.0\n"
     ]
    }
   ],
   "source": [
    "# TODO: zmienić: prawdopodobieństwo wykonania ruchu danego typu\n",
    "# czyli zostawić nieblundery też, usunąć if it[0] != '0'\n",
    "# dodać informacje o wyniku gry i kolorze osoby\n",
    "# dodać numer ruchu\n",
    "\n",
    "moves = pd.DataFrame()\n",
    "for i in range(len(db)):\n",
    "    if i % 1000 == 0:\n",
    "        print(i / 1000)\n",
    "    zip_values = [ it for it in zip(db.iloc[i,-1],db.iloc[i,-2])] #  if it[0] != '0'\n",
    "    n = len(zip_values)\n",
    "    color = ['w','b'] * int(np.ceil(n/2))\n",
    "    moves = pd.concat([moves,\n",
    "                       pd.DataFrame(\n",
    "                       {'score': [it[0] for it in zip_values],\n",
    "                        'delta_time': [it[1] for it in zip_values],\n",
    "                        'WhiteElo': [int(db.iloc[i,3])] * n,\n",
    "                        'BlackElo': [int(db.iloc[i,4])] * n,\n",
    "                        'WhiteRatingDiff': [db.iloc[i,5]] * n,\n",
    "                        'TimeControl': [db.iloc[i,9]] * n,\n",
    "                        'color': color[:n],\n",
    "                        'move': [int(v) for v in ((np.arange(n, dtype='int') ) - (np.arange(n, dtype='int') )% 2 ) / 2 + 1],\n",
    "                        'Result': [db.iloc[i,2]] * n\n",
    "                        })]\n",
    "                      ,ignore_index=True)"
   ]
  },
  {
   "cell_type": "code",
   "execution_count": 11,
   "metadata": {
    "pycharm": {
     "name": "#%%\n"
    }
   },
   "outputs": [],
   "source": [
    "moves.to_csv(r'C:\\Users\\piotr\\OneDrive\\Documents\\GitHub\\Chess\\dane\\moves.csv', mode='w')"
   ]
  },
  {
   "cell_type": "code",
   "execution_count": 12,
   "metadata": {
    "pycharm": {
     "name": "#%%\n"
    }
   },
   "outputs": [],
   "source": [
    "moves.to_csv(r'C:\\Users\\piotr\\OneDrive\\Documents\\GitHub\\Chess\\dane\\moves_noindex.csv', mode='w', index=False)"
   ]
  },
  {
   "cell_type": "code",
   "execution_count": 13,
   "metadata": {
    "pycharm": {
     "name": "#%%\n"
    }
   },
   "outputs": [],
   "source": [
    "db.to_csv(r'C:\\Users\\piotr\\OneDrive\\Documents\\GitHub\\Chess\\dane\\filtered_data_wt_eval.csv', mode='w')"
   ]
  },
  {
   "cell_type": "code",
   "execution_count": 27,
   "metadata": {
    "pycharm": {
     "name": "#%%\n"
    }
   },
   "outputs": [
    {
     "data": {
      "text/plain": [
       "1722.0"
      ]
     },
     "execution_count": 27,
     "metadata": {},
     "output_type": "execute_result"
    }
   ],
   "source": [
    "db.WhiteElo.quantile(.75)"
   ]
  },
  {
   "cell_type": "code",
   "execution_count": 38,
   "metadata": {
    "pycharm": {
     "name": "#%%\n"
    }
   },
   "outputs": [
    {
     "data": {
      "text/plain": [
       "<matplotlib.legend.Legend at 0x17abd39f370>"
      ]
     },
     "execution_count": 38,
     "metadata": {},
     "output_type": "execute_result"
    },
    {
     "data": {
      "image/png": "[encoded data removed]",
      "text/plain": [
       "<Figure size 432x288 with 1 Axes>"
      ]
     },
     "metadata": {
      "needs_background": "light"
     },
     "output_type": "display_data"
    }
   ],
   "source": [
    "db.WhiteElo.hist(bins=50, density=True)\n",
    "# db.WhiteElo.plot(kind=\"kde\")\n",
    "plt.plot([db.WhiteElo.quantile(.25),db.WhiteElo.quantile(.25)],[0,0.0002], color='red')\n",
    "plt.plot([db.WhiteElo.quantile(.5),db.WhiteElo.quantile(.5)],[0,0.0002], color='red')\n",
    "plt.plot([db.WhiteElo.quantile(.75),db.WhiteElo.quantile(.75)],[0,0.0002], color='red')\n",
    "plt.text(db.WhiteElo.quantile(.25)-100, 0.00025,'  q1\\n1267',color='red')\n",
    "plt.text(db.WhiteElo.quantile(.5)-100, 0.00025,'  q2\\n1500',color='red')\n",
    "plt.text(db.WhiteElo.quantile(.75)-100, 0.00025,'  q3\\n1722',color='red')\n",
    "plt.legend(['kwartyle rozkładu:\\n1267, 1500, 1722'])"
   ]
  },
  {
   "cell_type": "code",
   "execution_count": 13,
   "metadata": {
    "pycharm": {
     "name": "#%%\n"
    }
   },
   "outputs": [
    {
     "data": {
      "text/plain": [
       "<AxesSubplot:>"
      ]
     },
     "execution_count": 13,
     "metadata": {},
     "output_type": "execute_result"
    },
    {
     "data": {
      "image/png": "[encoded data removed]",
      "text/plain": [
       "<Figure size 432x288 with 1 Axes>"
      ]
     },
     "metadata": {
      "needs_background": "light"
     },
     "output_type": "display_data"
    }
   ],
   "source": [
    "db.WhiteRatingDiff[(db.WhiteRatingDiff > -100) & (db.WhiteRatingDiff <100)].hist(bins=201)"
   ]
  },
  {
   "cell_type": "code",
   "execution_count": 14,
   "metadata": {
    "pycharm": {
     "name": "#%%\n"
    }
   },
   "outputs": [
    {
     "data": {
      "text/plain": [
       "<AxesSubplot:>"
      ]
     },
     "execution_count": 14,
     "metadata": {},
     "output_type": "execute_result"
    },
    {
     "data": {
      "image/png": "[encoded data removed]",
      "text/plain": [
       "<Figure size 432x288 with 1 Axes>"
      ]
     },
     "metadata": {
      "needs_background": "light"
     },
     "output_type": "display_data"
    }
   ],
   "source": [
    "db.Result.hist(bins=3)"
   ]
  },
  {
   "cell_type": "code",
   "execution_count": 15,
   "metadata": {
    "pycharm": {
     "name": "#%%\n"
    }
   },
   "outputs": [
    {
     "data": {
      "text/plain": [
       "3"
      ]
     },
     "execution_count": 15,
     "metadata": {},
     "output_type": "execute_result"
    }
   ],
   "source": [
    "a = 'asd1 asd alsd ;asdf'\n",
    "a.count('asd')"
   ]
  },
  {
   "cell_type": "code",
   "execution_count": 16,
   "metadata": {
    "pycharm": {
     "name": "#%%\n"
    }
   },
   "outputs": [
    {
     "name": "stdout",
     "output_type": "stream",
     "text": [
      "[0, 0.25, -0.14, -0.08, 0.28, 0.01, -0.07, -0.07, 0.23, 0.19, -0.21, 0.06, -0.2, 0.62, 0.45, 0.1, -1.03, -0.03, -0.06, 0.09, -0.07, -0.02, -0.19, 0.46, 0.11, -0.07, -0.17, 0.04, -1.05, 0.45, -0.37, -0.17, -0.12, 0.97, -0.84, 0.04, -1.0, 0.18, -0.92, 0.21, -1.79, 0.19, -0.26, 0.07, 0.04, 0.07, -1.95, 1.17, -5.16, 0.0, 0.04, 0.03, 0.02, 0.05, 0.03, 0.2]\n",
      "[0, 0.25, -0.14, -0.08, 0.06, 0.25, -0.1, 0.02, 0.1, -0.12, 0.02, 0.2, -0.04, -0.22, 0.28, 0.65, -0.59, 0.02, -0.38, 0.04, 0.03, -0.07, -0.51, 0.19, -0.39, 0.58, 0.06, 0.2, 0.12, 0.97, -0.1, 0.53, -1.95, 2.13, -2.04, 0.02, -0.11, 0.0, 0.0, -0.29, -1.71, 0.1, -2.57, 0.18, -6.71, 0.29, 0.88, 2.8, -0.42, 4.4, -57.74, 53.06, -5.38, 10.75, '#-12', '#-11', '#-11', '#-10', '#-6', '#-10', '#-10', -7.39, '#-7', '#-6', '#-2', '#-1', '#-1']\n"
     ]
    }
   ],
   "source": [
    "# 5+0 format\n",
    "format_5 = db[db['TimeControl'] == '300+0']\n",
    "for item in format_5.loc[:30,'Eval_change']:\n",
    "    print(item)"
   ]
  },
  {
   "cell_type": "code",
   "execution_count": 17,
   "metadata": {
    "pycharm": {
     "name": "#%%\n"
    }
   },
   "outputs": [
    {
     "name": "stdout",
     "output_type": "stream",
     "text": [
      "[0, 0, 2, 1, 1, 2, 1, 1, 7, 1, 2, 2, 0, 1, 1, 1, 2, 1, 1, 3, 7, 0, 3, 1, 10, 4, 9, 2, 20, 5, 7, 2, 51, 20, 7, 11, 47, 59, 50, 8, 22, 2, 0, 13, 13, 17, 7, 7, 7, 16, 5, 2, 1, 0, 1, 1]\n",
      "[0, 0, 1, 1, 0, 1, 1, 3, 5, 5, 2, 8, 8, 0, 6, 18, 2, 0, 2, 5, 11, 0, 10, 4, 7, 16, 9, 2, 5, 7, 8, 5, 14, 3, 2, 4, 3, 7, 12, 15, 4, 2, 8, 13, 20, 4, 2, 2, 3, 46, 8, 7, 23, 2, 16, 7, 4, 16, 8, 4, 5, 6, 3, 3, 22, 2, 4, 3]\n"
     ]
    }
   ],
   "source": [
    "for item in format_5.loc[:30,'Time_change']:\n",
    "    print(item)"
   ]
  },
  {
   "cell_type": "code",
   "execution_count": 18,
   "metadata": {
    "pycharm": {
     "name": "#%%\n"
    }
   },
   "outputs": [
    {
     "data": {
      "text/plain": [
       "1     [0, 0, 2, 1, 1, 2, 1, 1, 7, 1, 2, 2, 0, 1, 1, ...\n",
       "20    [0, 0, 1, 1, 0, 1, 1, 3, 5, 5, 2, 8, 8, 0, 6, ...\n",
       "Name: Time_change, dtype: object"
      ]
     },
     "execution_count": 18,
     "metadata": {},
     "output_type": "execute_result"
    }
   ],
   "source": [
    "format_5.loc[:30,'Time_change']\n"
   ]
  },
  {
   "cell_type": "code",
   "execution_count": 9,
   "metadata": {
    "pycharm": {
     "name": "#%%\n"
    }
   },
   "outputs": [
    {
     "data": {
      "text/html": [
       "<div>\n",
       "<style scoped>\n",
       "    .dataframe tbody tr th:only-of-type {\n",
       "        vertical-align: middle;\n",
       "    }\n",
       "\n",
       "    .dataframe tbody tr th {\n",
       "        vertical-align: top;\n",
       "    }\n",
       "\n",
       "    .dataframe thead th {\n",
       "        text-align: right;\n",
       "    }\n",
       "</style>\n",
       "<table border=\"1\" class=\"dataframe\">\n",
       "  <thead>\n",
       "    <tr style=\"text-align: right;\">\n",
       "      <th></th>\n",
       "      <th>score</th>\n",
       "      <th>delta_time</th>\n",
       "      <th>WhiteElo</th>\n",
       "      <th>BlackElo</th>\n",
       "      <th>WhiteRatingDiff</th>\n",
       "      <th>TimeControl</th>\n",
       "    </tr>\n",
       "  </thead>\n",
       "  <tbody>\n",
       "    <tr>\n",
       "      <th>0</th>\n",
       "      <td>0</td>\n",
       "      <td>0.0</td>\n",
       "      <td>1079.0</td>\n",
       "      <td>1071.0</td>\n",
       "      <td>-30.0</td>\n",
       "      <td>60+0</td>\n",
       "    </tr>\n",
       "    <tr>\n",
       "      <th>1</th>\n",
       "      <td>dubious move</td>\n",
       "      <td>0.0</td>\n",
       "      <td>1079.0</td>\n",
       "      <td>1071.0</td>\n",
       "      <td>-30.0</td>\n",
       "      <td>60+0</td>\n",
       "    </tr>\n",
       "    <tr>\n",
       "      <th>2</th>\n",
       "      <td>0</td>\n",
       "      <td>3.0</td>\n",
       "      <td>1079.0</td>\n",
       "      <td>1071.0</td>\n",
       "      <td>-30.0</td>\n",
       "      <td>60+0</td>\n",
       "    </tr>\n",
       "    <tr>\n",
       "      <th>3</th>\n",
       "      <td>0</td>\n",
       "      <td>0.0</td>\n",
       "      <td>1079.0</td>\n",
       "      <td>1071.0</td>\n",
       "      <td>-30.0</td>\n",
       "      <td>60+0</td>\n",
       "    </tr>\n",
       "    <tr>\n",
       "      <th>4</th>\n",
       "      <td>0</td>\n",
       "      <td>0.0</td>\n",
       "      <td>1079.0</td>\n",
       "      <td>1071.0</td>\n",
       "      <td>-30.0</td>\n",
       "      <td>60+0</td>\n",
       "    </tr>\n",
       "    <tr>\n",
       "      <th>...</th>\n",
       "      <td>...</td>\n",
       "      <td>...</td>\n",
       "      <td>...</td>\n",
       "      <td>...</td>\n",
       "      <td>...</td>\n",
       "      <td>...</td>\n",
       "    </tr>\n",
       "    <tr>\n",
       "      <th>1970710</th>\n",
       "      <td>0</td>\n",
       "      <td>4.0</td>\n",
       "      <td>1008.0</td>\n",
       "      <td>971.0</td>\n",
       "      <td>-12.0</td>\n",
       "      <td>120+1</td>\n",
       "    </tr>\n",
       "    <tr>\n",
       "      <th>1970711</th>\n",
       "      <td>0</td>\n",
       "      <td>1.0</td>\n",
       "      <td>1008.0</td>\n",
       "      <td>971.0</td>\n",
       "      <td>-12.0</td>\n",
       "      <td>120+1</td>\n",
       "    </tr>\n",
       "    <tr>\n",
       "      <th>1970712</th>\n",
       "      <td>0</td>\n",
       "      <td>0.0</td>\n",
       "      <td>1008.0</td>\n",
       "      <td>971.0</td>\n",
       "      <td>-12.0</td>\n",
       "      <td>120+1</td>\n",
       "    </tr>\n",
       "    <tr>\n",
       "      <th>1970713</th>\n",
       "      <td>blunder</td>\n",
       "      <td>0.0</td>\n",
       "      <td>1008.0</td>\n",
       "      <td>971.0</td>\n",
       "      <td>-12.0</td>\n",
       "      <td>120+1</td>\n",
       "    </tr>\n",
       "    <tr>\n",
       "      <th>1970714</th>\n",
       "      <td>0</td>\n",
       "      <td>1.0</td>\n",
       "      <td>1008.0</td>\n",
       "      <td>971.0</td>\n",
       "      <td>-12.0</td>\n",
       "      <td>120+1</td>\n",
       "    </tr>\n",
       "  </tbody>\n",
       "</table>\n",
       "<p>1970715 rows × 6 columns</p>\n",
       "</div>"
      ],
      "text/plain": [
       "                score  delta_time  WhiteElo  BlackElo  WhiteRatingDiff  \\\n",
       "0                   0         0.0    1079.0    1071.0            -30.0   \n",
       "1        dubious move         0.0    1079.0    1071.0            -30.0   \n",
       "2                   0         3.0    1079.0    1071.0            -30.0   \n",
       "3                   0         0.0    1079.0    1071.0            -30.0   \n",
       "4                   0         0.0    1079.0    1071.0            -30.0   \n",
       "...               ...         ...       ...       ...              ...   \n",
       "1970710             0         4.0    1008.0     971.0            -12.0   \n",
       "1970711             0         1.0    1008.0     971.0            -12.0   \n",
       "1970712             0         0.0    1008.0     971.0            -12.0   \n",
       "1970713       blunder         0.0    1008.0     971.0            -12.0   \n",
       "1970714             0         1.0    1008.0     971.0            -12.0   \n",
       "\n",
       "        TimeControl  \n",
       "0              60+0  \n",
       "1              60+0  \n",
       "2              60+0  \n",
       "3              60+0  \n",
       "4              60+0  \n",
       "...             ...  \n",
       "1970710       120+1  \n",
       "1970711       120+1  \n",
       "1970712       120+1  \n",
       "1970713       120+1  \n",
       "1970714       120+1  \n",
       "\n",
       "[1970715 rows x 6 columns]"
      ]
     },
     "execution_count": 9,
     "metadata": {},
     "output_type": "execute_result"
    }
   ],
   "source": [
    "moves\n",
    "\n"
   ]
  },
  {
   "cell_type": "code",
   "execution_count": 14,
   "metadata": {
    "pycharm": {
     "name": "#%%\n"
    }
   },
   "outputs": [
    {
     "data": {
      "text/html": [
       "<div>\n",
       "<style scoped>\n",
       "    .dataframe tbody tr th:only-of-type {\n",
       "        vertical-align: middle;\n",
       "    }\n",
       "\n",
       "    .dataframe tbody tr th {\n",
       "        vertical-align: top;\n",
       "    }\n",
       "\n",
       "    .dataframe thead th {\n",
       "        text-align: right;\n",
       "    }\n",
       "</style>\n",
       "<table border=\"1\" class=\"dataframe\">\n",
       "  <thead>\n",
       "    <tr style=\"text-align: right;\">\n",
       "      <th></th>\n",
       "      <th>score</th>\n",
       "      <th>delta_time</th>\n",
       "      <th>WhiteElo</th>\n",
       "      <th>BlackElo</th>\n",
       "      <th>WhiteRatingDiff</th>\n",
       "      <th>TimeControl</th>\n",
       "      <th>color</th>\n",
       "      <th>move</th>\n",
       "      <th>Result</th>\n",
       "    </tr>\n",
       "  </thead>\n",
       "  <tbody>\n",
       "    <tr>\n",
       "      <th>0</th>\n",
       "      <td>0</td>\n",
       "      <td>0.0</td>\n",
       "      <td>1079.0</td>\n",
       "      <td>1071.0</td>\n",
       "      <td>-30</td>\n",
       "      <td>60+0</td>\n",
       "      <td>w</td>\n",
       "      <td>1.0</td>\n",
       "      <td>0-1</td>\n",
       "    </tr>\n",
       "    <tr>\n",
       "      <th>1</th>\n",
       "      <td>dubious move</td>\n",
       "      <td>0.0</td>\n",
       "      <td>1079.0</td>\n",
       "      <td>1071.0</td>\n",
       "      <td>-30</td>\n",
       "      <td>60+0</td>\n",
       "      <td>b</td>\n",
       "      <td>1.0</td>\n",
       "      <td>0-1</td>\n",
       "    </tr>\n",
       "    <tr>\n",
       "      <th>2</th>\n",
       "      <td>0</td>\n",
       "      <td>3.0</td>\n",
       "      <td>1079.0</td>\n",
       "      <td>1071.0</td>\n",
       "      <td>-30</td>\n",
       "      <td>60+0</td>\n",
       "      <td>w</td>\n",
       "      <td>2.0</td>\n",
       "      <td>0-1</td>\n",
       "    </tr>\n",
       "    <tr>\n",
       "      <th>3</th>\n",
       "      <td>0</td>\n",
       "      <td>0.0</td>\n",
       "      <td>1079.0</td>\n",
       "      <td>1071.0</td>\n",
       "      <td>-30</td>\n",
       "      <td>60+0</td>\n",
       "      <td>b</td>\n",
       "      <td>2.0</td>\n",
       "      <td>0-1</td>\n",
       "    </tr>\n",
       "    <tr>\n",
       "      <th>4</th>\n",
       "      <td>0</td>\n",
       "      <td>0.0</td>\n",
       "      <td>1079.0</td>\n",
       "      <td>1071.0</td>\n",
       "      <td>-30</td>\n",
       "      <td>60+0</td>\n",
       "      <td>w</td>\n",
       "      <td>3.0</td>\n",
       "      <td>0-1</td>\n",
       "    </tr>\n",
       "    <tr>\n",
       "      <th>...</th>\n",
       "      <td>...</td>\n",
       "      <td>...</td>\n",
       "      <td>...</td>\n",
       "      <td>...</td>\n",
       "      <td>...</td>\n",
       "      <td>...</td>\n",
       "      <td>...</td>\n",
       "      <td>...</td>\n",
       "      <td>...</td>\n",
       "    </tr>\n",
       "    <tr>\n",
       "      <th>9737658</th>\n",
       "      <td>0</td>\n",
       "      <td>9.0</td>\n",
       "      <td>1208.0</td>\n",
       "      <td>1296.0</td>\n",
       "      <td>34</td>\n",
       "      <td>300+0</td>\n",
       "      <td>b</td>\n",
       "      <td>30.0</td>\n",
       "      <td>1-0</td>\n",
       "    </tr>\n",
       "    <tr>\n",
       "      <th>9737659</th>\n",
       "      <td>0</td>\n",
       "      <td>2.0</td>\n",
       "      <td>1208.0</td>\n",
       "      <td>1296.0</td>\n",
       "      <td>34</td>\n",
       "      <td>300+0</td>\n",
       "      <td>w</td>\n",
       "      <td>31.0</td>\n",
       "      <td>1-0</td>\n",
       "    </tr>\n",
       "    <tr>\n",
       "      <th>9737660</th>\n",
       "      <td>0</td>\n",
       "      <td>2.0</td>\n",
       "      <td>1208.0</td>\n",
       "      <td>1296.0</td>\n",
       "      <td>34</td>\n",
       "      <td>300+0</td>\n",
       "      <td>b</td>\n",
       "      <td>31.0</td>\n",
       "      <td>1-0</td>\n",
       "    </tr>\n",
       "    <tr>\n",
       "      <th>9737661</th>\n",
       "      <td>0</td>\n",
       "      <td>2.0</td>\n",
       "      <td>1208.0</td>\n",
       "      <td>1296.0</td>\n",
       "      <td>34</td>\n",
       "      <td>300+0</td>\n",
       "      <td>w</td>\n",
       "      <td>32.0</td>\n",
       "      <td>1-0</td>\n",
       "    </tr>\n",
       "    <tr>\n",
       "      <th>9737662</th>\n",
       "      <td>0</td>\n",
       "      <td>0.0</td>\n",
       "      <td>1208.0</td>\n",
       "      <td>1296.0</td>\n",
       "      <td>34</td>\n",
       "      <td>300+0</td>\n",
       "      <td>b</td>\n",
       "      <td>32.0</td>\n",
       "      <td>1-0</td>\n",
       "    </tr>\n",
       "  </tbody>\n",
       "</table>\n",
       "<p>9737663 rows × 9 columns</p>\n",
       "</div>"
      ],
      "text/plain": [
       "                score  delta_time  WhiteElo  BlackElo WhiteRatingDiff  \\\n",
       "0                   0         0.0    1079.0    1071.0             -30   \n",
       "1        dubious move         0.0    1079.0    1071.0             -30   \n",
       "2                   0         3.0    1079.0    1071.0             -30   \n",
       "3                   0         0.0    1079.0    1071.0             -30   \n",
       "4                   0         0.0    1079.0    1071.0             -30   \n",
       "...               ...         ...       ...       ...             ...   \n",
       "9737658             0         9.0    1208.0    1296.0              34   \n",
       "9737659             0         2.0    1208.0    1296.0              34   \n",
       "9737660             0         2.0    1208.0    1296.0              34   \n",
       "9737661             0         2.0    1208.0    1296.0              34   \n",
       "9737662             0         0.0    1208.0    1296.0              34   \n",
       "\n",
       "        TimeControl color  move Result  \n",
       "0              60+0     w   1.0    0-1  \n",
       "1              60+0     b   1.0    0-1  \n",
       "2              60+0     w   2.0    0-1  \n",
       "3              60+0     b   2.0    0-1  \n",
       "4              60+0     w   3.0    0-1  \n",
       "...             ...   ...   ...    ...  \n",
       "9737658       300+0     b  30.0    1-0  \n",
       "9737659       300+0     w  31.0    1-0  \n",
       "9737660       300+0     b  31.0    1-0  \n",
       "9737661       300+0     w  32.0    1-0  \n",
       "9737662       300+0     b  32.0    1-0  \n",
       "\n",
       "[9737663 rows x 9 columns]"
      ]
     },
     "execution_count": 14,
     "metadata": {},
     "output_type": "execute_result"
    }
   ],
   "source": [
    "moves[moves]"
   ]
  },
  {
   "cell_type": "code",
   "execution_count": 15,
   "metadata": {
    "pycharm": {
     "name": "#%%\n"
    }
   },
   "outputs": [
    {
     "name": "stderr",
     "output_type": "stream",
     "text": [
      "c:\\users\\piotr\\appdata\\local\\programs\\python\\python39\\lib\\site-packages\\IPython\\core\\interactiveshell.py:3165: DtypeWarning: Columns (4) have mixed types.Specify dtype option on import or set low_memory=False.\n",
      "  has_raised = await self.run_ast_nodes(code_ast.body, cell_name,\n"
     ]
    },
    {
     "data": {
      "text/html": [
       "<div>\n",
       "<style scoped>\n",
       "    .dataframe tbody tr th:only-of-type {\n",
       "        vertical-align: middle;\n",
       "    }\n",
       "\n",
       "    .dataframe tbody tr th {\n",
       "        vertical-align: top;\n",
       "    }\n",
       "\n",
       "    .dataframe thead th {\n",
       "        text-align: right;\n",
       "    }\n",
       "</style>\n",
       "<table border=\"1\" class=\"dataframe\">\n",
       "  <thead>\n",
       "    <tr style=\"text-align: right;\">\n",
       "      <th></th>\n",
       "      <th>score</th>\n",
       "      <th>delta_time</th>\n",
       "      <th>WhiteElo</th>\n",
       "      <th>BlackElo</th>\n",
       "      <th>WhiteRatingDiff</th>\n",
       "      <th>TimeControl</th>\n",
       "      <th>color</th>\n",
       "      <th>move</th>\n",
       "      <th>Result</th>\n",
       "    </tr>\n",
       "  </thead>\n",
       "  <tbody>\n",
       "    <tr>\n",
       "      <th>0</th>\n",
       "      <td>0</td>\n",
       "      <td>0.0</td>\n",
       "      <td>1079.0</td>\n",
       "      <td>1071.0</td>\n",
       "      <td>-30</td>\n",
       "      <td>60+0</td>\n",
       "      <td>w</td>\n",
       "      <td>1.0</td>\n",
       "      <td>0-1</td>\n",
       "    </tr>\n",
       "    <tr>\n",
       "      <th>1</th>\n",
       "      <td>dubious move</td>\n",
       "      <td>0.0</td>\n",
       "      <td>1079.0</td>\n",
       "      <td>1071.0</td>\n",
       "      <td>-30</td>\n",
       "      <td>60+0</td>\n",
       "      <td>b</td>\n",
       "      <td>1.0</td>\n",
       "      <td>0-1</td>\n",
       "    </tr>\n",
       "    <tr>\n",
       "      <th>2</th>\n",
       "      <td>0</td>\n",
       "      <td>3.0</td>\n",
       "      <td>1079.0</td>\n",
       "      <td>1071.0</td>\n",
       "      <td>-30</td>\n",
       "      <td>60+0</td>\n",
       "      <td>w</td>\n",
       "      <td>2.0</td>\n",
       "      <td>0-1</td>\n",
       "    </tr>\n",
       "    <tr>\n",
       "      <th>3</th>\n",
       "      <td>0</td>\n",
       "      <td>0.0</td>\n",
       "      <td>1079.0</td>\n",
       "      <td>1071.0</td>\n",
       "      <td>-30</td>\n",
       "      <td>60+0</td>\n",
       "      <td>b</td>\n",
       "      <td>2.0</td>\n",
       "      <td>0-1</td>\n",
       "    </tr>\n",
       "    <tr>\n",
       "      <th>4</th>\n",
       "      <td>0</td>\n",
       "      <td>0.0</td>\n",
       "      <td>1079.0</td>\n",
       "      <td>1071.0</td>\n",
       "      <td>-30</td>\n",
       "      <td>60+0</td>\n",
       "      <td>w</td>\n",
       "      <td>3.0</td>\n",
       "      <td>0-1</td>\n",
       "    </tr>\n",
       "    <tr>\n",
       "      <th>...</th>\n",
       "      <td>...</td>\n",
       "      <td>...</td>\n",
       "      <td>...</td>\n",
       "      <td>...</td>\n",
       "      <td>...</td>\n",
       "      <td>...</td>\n",
       "      <td>...</td>\n",
       "      <td>...</td>\n",
       "      <td>...</td>\n",
       "    </tr>\n",
       "    <tr>\n",
       "      <th>9737658</th>\n",
       "      <td>0</td>\n",
       "      <td>9.0</td>\n",
       "      <td>1208.0</td>\n",
       "      <td>1296.0</td>\n",
       "      <td>34</td>\n",
       "      <td>300+0</td>\n",
       "      <td>b</td>\n",
       "      <td>30.0</td>\n",
       "      <td>1-0</td>\n",
       "    </tr>\n",
       "    <tr>\n",
       "      <th>9737659</th>\n",
       "      <td>0</td>\n",
       "      <td>2.0</td>\n",
       "      <td>1208.0</td>\n",
       "      <td>1296.0</td>\n",
       "      <td>34</td>\n",
       "      <td>300+0</td>\n",
       "      <td>w</td>\n",
       "      <td>31.0</td>\n",
       "      <td>1-0</td>\n",
       "    </tr>\n",
       "    <tr>\n",
       "      <th>9737660</th>\n",
       "      <td>0</td>\n",
       "      <td>2.0</td>\n",
       "      <td>1208.0</td>\n",
       "      <td>1296.0</td>\n",
       "      <td>34</td>\n",
       "      <td>300+0</td>\n",
       "      <td>b</td>\n",
       "      <td>31.0</td>\n",
       "      <td>1-0</td>\n",
       "    </tr>\n",
       "    <tr>\n",
       "      <th>9737661</th>\n",
       "      <td>0</td>\n",
       "      <td>2.0</td>\n",
       "      <td>1208.0</td>\n",
       "      <td>1296.0</td>\n",
       "      <td>34</td>\n",
       "      <td>300+0</td>\n",
       "      <td>w</td>\n",
       "      <td>32.0</td>\n",
       "      <td>1-0</td>\n",
       "    </tr>\n",
       "    <tr>\n",
       "      <th>9737662</th>\n",
       "      <td>0</td>\n",
       "      <td>0.0</td>\n",
       "      <td>1208.0</td>\n",
       "      <td>1296.0</td>\n",
       "      <td>34</td>\n",
       "      <td>300+0</td>\n",
       "      <td>b</td>\n",
       "      <td>32.0</td>\n",
       "      <td>1-0</td>\n",
       "    </tr>\n",
       "  </tbody>\n",
       "</table>\n",
       "<p>9737663 rows × 9 columns</p>\n",
       "</div>"
      ],
      "text/plain": [
       "                score  delta_time  WhiteElo  BlackElo WhiteRatingDiff  \\\n",
       "0                   0         0.0    1079.0    1071.0             -30   \n",
       "1        dubious move         0.0    1079.0    1071.0             -30   \n",
       "2                   0         3.0    1079.0    1071.0             -30   \n",
       "3                   0         0.0    1079.0    1071.0             -30   \n",
       "4                   0         0.0    1079.0    1071.0             -30   \n",
       "...               ...         ...       ...       ...             ...   \n",
       "9737658             0         9.0    1208.0    1296.0              34   \n",
       "9737659             0         2.0    1208.0    1296.0              34   \n",
       "9737660             0         2.0    1208.0    1296.0              34   \n",
       "9737661             0         2.0    1208.0    1296.0              34   \n",
       "9737662             0         0.0    1208.0    1296.0              34   \n",
       "\n",
       "        TimeControl color  move Result  \n",
       "0              60+0     w   1.0    0-1  \n",
       "1              60+0     b   1.0    0-1  \n",
       "2              60+0     w   2.0    0-1  \n",
       "3              60+0     b   2.0    0-1  \n",
       "4              60+0     w   3.0    0-1  \n",
       "...             ...   ...   ...    ...  \n",
       "9737658       300+0     b  30.0    1-0  \n",
       "9737659       300+0     w  31.0    1-0  \n",
       "9737660       300+0     b  31.0    1-0  \n",
       "9737661       300+0     w  32.0    1-0  \n",
       "9737662       300+0     b  32.0    1-0  \n",
       "\n",
       "[9737663 rows x 9 columns]"
      ]
     },
     "execution_count": 15,
     "metadata": {},
     "output_type": "execute_result"
    }
   ],
   "source": [
    "pd.read_csv(r'C:\\Users\\piotr\\OneDrive\\Documents\\GitHub\\Chess\\dane\\moves_noindex.csv')\n"
   ]
  },
  {
   "cell_type": "code",
   "execution_count": null,
   "metadata": {
    "pycharm": {
     "name": "#%%\n"
    }
   },
   "outputs": [],
   "source": []
  }
 ],
 "metadata": {
  "kernelspec": {
   "display_name": "Python 3",
   "language": "python",
   "name": "python3"
  },
  "language_info": {
   "codemirror_mode": {
    "name": "ipython",
    "version": 3
   },
   "file_extension": ".py",
   "mimetype": "text/x-python",
   "name": "python",
   "nbconvert_exporter": "python",
   "pygments_lexer": "ipython3",
   "version": "3.9.2"
  }
 },
 "nbformat": 4,
 "nbformat_minor": 1
}
