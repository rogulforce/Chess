{
 "cells": [
  {
   "cell_type": "code",
   "execution_count": 1,
   "metadata": {
    "collapsed": true
   },
   "outputs": [],
   "source": [
    "import pandas as pd\n",
    "import re\n",
    "import numpy as np\n"
   ]
  },
  {
   "cell_type": "code",
   "execution_count": 7,
   "outputs": [
    {
     "data": {
      "text/plain": "         Unnamed: 0         score  delta_time  WhiteElo  BlackElo  \\\n0                 0             0         0.0    1079.0    1071.0   \n1                 1  dubious move         0.0    1079.0    1071.0   \n2                 2             0         3.0    1079.0    1071.0   \n3                 3             0         0.0    1079.0    1071.0   \n4                 4             0         0.0    1079.0    1071.0   \n...             ...           ...         ...       ...       ...   \n1970710     1970710             0         4.0    1008.0     971.0   \n1970711     1970711             0         1.0    1008.0     971.0   \n1970712     1970712             0         0.0    1008.0     971.0   \n1970713     1970713       blunder         0.0    1008.0     971.0   \n1970714     1970714             0         1.0    1008.0     971.0   \n\n         WhiteRatingDiff TimeControl  \n0                  -30.0        60+0  \n1                  -30.0        60+0  \n2                  -30.0        60+0  \n3                  -30.0        60+0  \n4                  -30.0        60+0  \n...                  ...         ...  \n1970710            -12.0       120+1  \n1970711            -12.0       120+1  \n1970712            -12.0       120+1  \n1970713            -12.0       120+1  \n1970714            -12.0       120+1  \n\n[1970715 rows x 7 columns]",
      "text/html": "<div>\n<style scoped>\n    .dataframe tbody tr th:only-of-type {\n        vertical-align: middle;\n    }\n\n    .dataframe tbody tr th {\n        vertical-align: top;\n    }\n\n    .dataframe thead th {\n        text-align: right;\n    }\n</style>\n<table border=\"1\" class=\"dataframe\">\n  <thead>\n    <tr style=\"text-align: right;\">\n      <th></th>\n      <th>Unnamed: 0</th>\n      <th>score</th>\n      <th>delta_time</th>\n      <th>WhiteElo</th>\n      <th>BlackElo</th>\n      <th>WhiteRatingDiff</th>\n      <th>TimeControl</th>\n    </tr>\n  </thead>\n  <tbody>\n    <tr>\n      <th>0</th>\n      <td>0</td>\n      <td>0</td>\n      <td>0.0</td>\n      <td>1079.0</td>\n      <td>1071.0</td>\n      <td>-30.0</td>\n      <td>60+0</td>\n    </tr>\n    <tr>\n      <th>1</th>\n      <td>1</td>\n      <td>dubious move</td>\n      <td>0.0</td>\n      <td>1079.0</td>\n      <td>1071.0</td>\n      <td>-30.0</td>\n      <td>60+0</td>\n    </tr>\n    <tr>\n      <th>2</th>\n      <td>2</td>\n      <td>0</td>\n      <td>3.0</td>\n      <td>1079.0</td>\n      <td>1071.0</td>\n      <td>-30.0</td>\n      <td>60+0</td>\n    </tr>\n    <tr>\n      <th>3</th>\n      <td>3</td>\n      <td>0</td>\n      <td>0.0</td>\n      <td>1079.0</td>\n      <td>1071.0</td>\n      <td>-30.0</td>\n      <td>60+0</td>\n    </tr>\n    <tr>\n      <th>4</th>\n      <td>4</td>\n      <td>0</td>\n      <td>0.0</td>\n      <td>1079.0</td>\n      <td>1071.0</td>\n      <td>-30.0</td>\n      <td>60+0</td>\n    </tr>\n    <tr>\n      <th>...</th>\n      <td>...</td>\n      <td>...</td>\n      <td>...</td>\n      <td>...</td>\n      <td>...</td>\n      <td>...</td>\n      <td>...</td>\n    </tr>\n    <tr>\n      <th>1970710</th>\n      <td>1970710</td>\n      <td>0</td>\n      <td>4.0</td>\n      <td>1008.0</td>\n      <td>971.0</td>\n      <td>-12.0</td>\n      <td>120+1</td>\n    </tr>\n    <tr>\n      <th>1970711</th>\n      <td>1970711</td>\n      <td>0</td>\n      <td>1.0</td>\n      <td>1008.0</td>\n      <td>971.0</td>\n      <td>-12.0</td>\n      <td>120+1</td>\n    </tr>\n    <tr>\n      <th>1970712</th>\n      <td>1970712</td>\n      <td>0</td>\n      <td>0.0</td>\n      <td>1008.0</td>\n      <td>971.0</td>\n      <td>-12.0</td>\n      <td>120+1</td>\n    </tr>\n    <tr>\n      <th>1970713</th>\n      <td>1970713</td>\n      <td>blunder</td>\n      <td>0.0</td>\n      <td>1008.0</td>\n      <td>971.0</td>\n      <td>-12.0</td>\n      <td>120+1</td>\n    </tr>\n    <tr>\n      <th>1970714</th>\n      <td>1970714</td>\n      <td>0</td>\n      <td>1.0</td>\n      <td>1008.0</td>\n      <td>971.0</td>\n      <td>-12.0</td>\n      <td>120+1</td>\n    </tr>\n  </tbody>\n</table>\n<p>1970715 rows × 7 columns</p>\n</div>"
     },
     "execution_count": 7,
     "metadata": {},
     "output_type": "execute_result"
    }
   ],
   "source": [
    "db= pd.read_csv(r'../dane/moves.csv')\n",
    "db"
   ],
   "metadata": {
    "collapsed": false,
    "pycharm": {
     "name": "#%%\n"
    }
   }
  },
  {
   "cell_type": "code",
   "execution_count": 11,
   "outputs": [
    {
     "data": {
      "text/plain": "<Figure size 432x288 with 1 Axes>",
      "image/png": "[encoded data removed]"
     },
     "metadata": {
      "needs_background": "light"
     },
     "output_type": "display_data"
    }
   ],
   "source": [
    "blunder_60 = db[(db['score'] == 'blunder' )&( db['TimeControl'] == '300+0') & (db['delta_time']< 100)]\n",
    "a = blunder_60['delta_time'].hist(bins = 25, density = True)"
   ],
   "metadata": {
    "collapsed": false,
    "pycharm": {
     "name": "#%%\n"
    }
   }
  },
  {
   "cell_type": "code",
   "execution_count": 10,
   "outputs": [
    {
     "data": {
      "text/plain": "<Figure size 432x288 with 1 Axes>",
      "image/png": "[encoded data removed]"
     },
     "metadata": {
      "needs_background": "light"
     },
     "output_type": "display_data"
    }
   ],
   "source": [
    "blunder_60 = db[(db['TimeControl'] == '300+0')& (db['delta_time']< 100)]\n",
    "a = blunder_60['delta_time'].hist(bins = 25, density = True)"
   ],
   "metadata": {
    "collapsed": false,
    "pycharm": {
     "name": "#%%\n"
    }
   }
  },
  {
   "cell_type": "code",
   "execution_count": 56,
   "outputs": [
    {
     "data": {
      "text/plain": "['w',\n 'b',\n 'w',\n 'b',\n 'w',\n 'b',\n 'w',\n 'b',\n 'w',\n 'b',\n 'w',\n 'b',\n 'w',\n 'b',\n 'w',\n 'b']"
     },
     "execution_count": 56,
     "metadata": {},
     "output_type": "execute_result"
    }
   ],
   "source": [
    "n = 16\n",
    "a =\n",
    "a[:n]"
   ],
   "metadata": {
    "collapsed": false,
    "pycharm": {
     "name": "#%%\n"
    }
   }
  },
  {
   "cell_type": "code",
   "execution_count": null,
   "outputs": [],
   "source": [],
   "metadata": {
    "collapsed": false,
    "pycharm": {
     "name": "#%%\n"
    }
   }
  }
 ],
 "metadata": {
  "kernelspec": {
   "display_name": "Python 3",
   "language": "python",
   "name": "python3"
  },
  "language_info": {
   "codemirror_mode": {
    "name": "ipython",
    "version": 2
   },
   "file_extension": ".py",
   "mimetype": "text/x-python",
   "name": "python",
   "nbconvert_exporter": "python",
   "pygments_lexer": "ipython2",
   "version": "2.7.6"
  }
 },
 "nbformat": 4,
 "nbformat_minor": 0
}