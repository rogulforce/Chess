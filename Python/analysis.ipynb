{
 "cells": [
  {
   "cell_type": "code",
   "execution_count": 73,
   "metadata": {},
   "outputs": [],
   "source": [
    "import random\n",
    "import pandas as pd\n",
    "import re\n",
    "import numpy as np\n",
    "import matplotlib.pyplot as plt\n",
    "import seaborn as sns\n",
    "import scipy.stats\n",
    "import scipy\n",
    "# from fitter import Fitter, get_common_distributions, get_distributions\n",
    "from math import pi, exp"
   ]
  },
  {
   "cell_type": "code",
   "execution_count": 74,
   "metadata": {
    "pycharm": {
     "name": "#%%\n"
    }
   },
   "outputs": [],
   "source": [
    "db = pd.read_csv(r'../dane/moves300600_noindex.csv')"
   ]
  },
  {
   "cell_type": "code",
   "execution_count": 68,
   "metadata": {
    "pycharm": {
     "name": "#%%\n"
    }
   },
   "outputs": [
    {
     "data": {
      "text/plain": "275994"
     },
     "execution_count": 68,
     "metadata": {},
     "output_type": "execute_result"
    }
   ],
   "source": [
    "db['game_ID'].max()"
   ]
  },
  {
   "cell_type": "code",
   "execution_count": 69,
   "metadata": {},
   "outputs": [
    {
     "data": {
      "text/plain": "     game_ID    score  delta_time  WhiteElo  BlackElo TimeControl color  move  \\\n510        9        0           0      1192      1204       300+0     w    23   \n511        9        0           9      1192      1204       300+0     b    23   \n512        9        0           2      1192      1204       300+0     w    24   \n513        9        0          18      1192      1204       300+0     b    24   \n514        9        0           7      1192      1204       300+0     w    25   \n515        9        0          10      1192      1204       300+0     b    25   \n516        9  blunder           8      1192      1204       300+0     w    26   \n517        9  blunder           8      1192      1204       300+0     b    26   \n518        9  mistake           4      1192      1204       300+0     w    27   \n519        9        0           2      1192      1204       300+0     b    27   \n520        9        0          29      1192      1204       300+0     w    28   \n\n    Result  \n510    0-1  \n511    0-1  \n512    0-1  \n513    0-1  \n514    0-1  \n515    0-1  \n516    0-1  \n517    0-1  \n518    0-1  \n519    0-1  \n520    0-1  ",
      "text/html": "<div>\n<style scoped>\n    .dataframe tbody tr th:only-of-type {\n        vertical-align: middle;\n    }\n\n    .dataframe tbody tr th {\n        vertical-align: top;\n    }\n\n    .dataframe thead th {\n        text-align: right;\n    }\n</style>\n<table border=\"1\" class=\"dataframe\">\n  <thead>\n    <tr style=\"text-align: right;\">\n      <th></th>\n      <th>game_ID</th>\n      <th>score</th>\n      <th>delta_time</th>\n      <th>WhiteElo</th>\n      <th>BlackElo</th>\n      <th>TimeControl</th>\n      <th>color</th>\n      <th>move</th>\n      <th>Result</th>\n    </tr>\n  </thead>\n  <tbody>\n    <tr>\n      <th>510</th>\n      <td>9</td>\n      <td>0</td>\n      <td>0</td>\n      <td>1192</td>\n      <td>1204</td>\n      <td>300+0</td>\n      <td>w</td>\n      <td>23</td>\n      <td>0-1</td>\n    </tr>\n    <tr>\n      <th>511</th>\n      <td>9</td>\n      <td>0</td>\n      <td>9</td>\n      <td>1192</td>\n      <td>1204</td>\n      <td>300+0</td>\n      <td>b</td>\n      <td>23</td>\n      <td>0-1</td>\n    </tr>\n    <tr>\n      <th>512</th>\n      <td>9</td>\n      <td>0</td>\n      <td>2</td>\n      <td>1192</td>\n      <td>1204</td>\n      <td>300+0</td>\n      <td>w</td>\n      <td>24</td>\n      <td>0-1</td>\n    </tr>\n    <tr>\n      <th>513</th>\n      <td>9</td>\n      <td>0</td>\n      <td>18</td>\n      <td>1192</td>\n      <td>1204</td>\n      <td>300+0</td>\n      <td>b</td>\n      <td>24</td>\n      <td>0-1</td>\n    </tr>\n    <tr>\n      <th>514</th>\n      <td>9</td>\n      <td>0</td>\n      <td>7</td>\n      <td>1192</td>\n      <td>1204</td>\n      <td>300+0</td>\n      <td>w</td>\n      <td>25</td>\n      <td>0-1</td>\n    </tr>\n    <tr>\n      <th>515</th>\n      <td>9</td>\n      <td>0</td>\n      <td>10</td>\n      <td>1192</td>\n      <td>1204</td>\n      <td>300+0</td>\n      <td>b</td>\n      <td>25</td>\n      <td>0-1</td>\n    </tr>\n    <tr>\n      <th>516</th>\n      <td>9</td>\n      <td>blunder</td>\n      <td>8</td>\n      <td>1192</td>\n      <td>1204</td>\n      <td>300+0</td>\n      <td>w</td>\n      <td>26</td>\n      <td>0-1</td>\n    </tr>\n    <tr>\n      <th>517</th>\n      <td>9</td>\n      <td>blunder</td>\n      <td>8</td>\n      <td>1192</td>\n      <td>1204</td>\n      <td>300+0</td>\n      <td>b</td>\n      <td>26</td>\n      <td>0-1</td>\n    </tr>\n    <tr>\n      <th>518</th>\n      <td>9</td>\n      <td>mistake</td>\n      <td>4</td>\n      <td>1192</td>\n      <td>1204</td>\n      <td>300+0</td>\n      <td>w</td>\n      <td>27</td>\n      <td>0-1</td>\n    </tr>\n    <tr>\n      <th>519</th>\n      <td>9</td>\n      <td>0</td>\n      <td>2</td>\n      <td>1192</td>\n      <td>1204</td>\n      <td>300+0</td>\n      <td>b</td>\n      <td>27</td>\n      <td>0-1</td>\n    </tr>\n    <tr>\n      <th>520</th>\n      <td>9</td>\n      <td>0</td>\n      <td>29</td>\n      <td>1192</td>\n      <td>1204</td>\n      <td>300+0</td>\n      <td>w</td>\n      <td>28</td>\n      <td>0-1</td>\n    </tr>\n  </tbody>\n</table>\n</div>"
     },
     "execution_count": 69,
     "metadata": {},
     "output_type": "execute_result"
    }
   ],
   "source": [
    "db.loc[510:520,[column for column in db.columns if column not in [\"WhiteRatingDiff\",'Unnamed: 0']]]"
   ]
  },
  {
   "cell_type": "code",
   "execution_count": 70,
   "metadata": {
    "pycharm": {
     "name": "#%%\n"
    }
   },
   "outputs": [
    {
     "data": {
      "text/plain": "               score   percent\nTimeControl                   \n600+0        9863104  0.562834\n300+0        7645389  0.436281\n3600+0         15519  0.000886",
      "text/html": "<div>\n<style scoped>\n    .dataframe tbody tr th:only-of-type {\n        vertical-align: middle;\n    }\n\n    .dataframe tbody tr th {\n        vertical-align: top;\n    }\n\n    .dataframe thead th {\n        text-align: right;\n    }\n</style>\n<table border=\"1\" class=\"dataframe\">\n  <thead>\n    <tr style=\"text-align: right;\">\n      <th></th>\n      <th>score</th>\n      <th>percent</th>\n    </tr>\n    <tr>\n      <th>TimeControl</th>\n      <th></th>\n      <th></th>\n    </tr>\n  </thead>\n  <tbody>\n    <tr>\n      <th>600+0</th>\n      <td>9863104</td>\n      <td>0.562834</td>\n    </tr>\n    <tr>\n      <th>300+0</th>\n      <td>7645389</td>\n      <td>0.436281</td>\n    </tr>\n    <tr>\n      <th>3600+0</th>\n      <td>15519</td>\n      <td>0.000886</td>\n    </tr>\n  </tbody>\n</table>\n</div>"
     },
     "execution_count": 70,
     "metadata": {},
     "output_type": "execute_result"
    }
   ],
   "source": [
    "a = db.groupby('TimeControl').agg({'score': 'count'})\n",
    "a['percent'] = a['score']/sum(a['score'])\n",
    "a.sort_values('percent',ascending=False).head(6)"
   ]
  },
  {
   "cell_type": "markdown",
   "metadata": {},
   "source": [
    "prawdopodobienstwo popełenienia błedu w zależności od czasu dla 300+0"
   ]
  },
  {
   "cell_type": "code",
   "execution_count": 71,
   "metadata": {
    "pycharm": {
     "name": "#%%\n"
    }
   },
   "outputs": [],
   "source": [
    "def histogram(x: list, xlabel='',ylabel='',title='',xlim=(-.5,61),ylim=None,show=False, **kwargs):\n",
    "    # the histogram of the data\n",
    "    n, bins, patches = plt.hist(x, density = True,bins= int(max(x))+1,**kwargs)\n",
    "    plt.xlabel(xlabel)\n",
    "    plt.ylabel(ylabel)\n",
    "    plt.title(title)\n",
    "#     plt.text(50, .035, r'$\\mu = 50,\\\n",
    "# \\ \\sigma = 13$')\n",
    "    if ylim:\n",
    "        plt.ylim(ylim[0],ylim[1])\n",
    "    if xlim:\n",
    "        plt.xlim(xlim[0],xlim[1])\n",
    "    plt.grid(True)\n",
    "    if show:\n",
    "        plt.show()\n",
    "    return"
   ]
  },
  {
   "cell_type": "code",
   "execution_count": 72,
   "metadata": {
    "pycharm": {
     "name": "#%%\n"
    }
   },
   "outputs": [
    {
     "ename": "KeyboardInterrupt",
     "evalue": "",
     "output_type": "error",
     "traceback": [
      "\u001B[1;31m---------------------------------------------------------------------------\u001B[0m",
      "\u001B[1;31mKeyboardInterrupt\u001B[0m                         Traceback (most recent call last)",
      "\u001B[1;32m~\\AppData\\Local\\Temp/ipykernel_17548/3522157126.py\u001B[0m in \u001B[0;36m<module>\u001B[1;34m\u001B[0m\n\u001B[1;32m----> 1\u001B[1;33m \u001B[0mblunder_300\u001B[0m \u001B[1;33m=\u001B[0m \u001B[0mdb\u001B[0m\u001B[1;33m[\u001B[0m\u001B[1;33m(\u001B[0m\u001B[0mdb\u001B[0m\u001B[1;33m[\u001B[0m\u001B[1;34m'score'\u001B[0m\u001B[1;33m]\u001B[0m \u001B[1;33m==\u001B[0m \u001B[1;34m'blunder'\u001B[0m \u001B[1;33m)\u001B[0m\u001B[1;33m&\u001B[0m\u001B[1;33m(\u001B[0m \u001B[0mdb\u001B[0m\u001B[1;33m[\u001B[0m\u001B[1;34m'TimeControl'\u001B[0m\u001B[1;33m]\u001B[0m \u001B[1;33m==\u001B[0m \u001B[1;34m'300+0'\u001B[0m\u001B[1;33m)\u001B[0m \u001B[1;33m&\u001B[0m \u001B[1;33m(\u001B[0m\u001B[0mdb\u001B[0m\u001B[1;33m[\u001B[0m\u001B[1;34m'move'\u001B[0m\u001B[1;33m]\u001B[0m \u001B[1;33m>\u001B[0m \u001B[1;36m4\u001B[0m\u001B[1;33m)\u001B[0m \u001B[1;33m&\u001B[0m \u001B[1;33m(\u001B[0m\u001B[0mdb\u001B[0m\u001B[1;33m[\u001B[0m\u001B[1;34m'delta_time'\u001B[0m\u001B[1;33m]\u001B[0m\u001B[1;33m>=\u001B[0m \u001B[1;36m0\u001B[0m\u001B[1;33m)\u001B[0m \u001B[1;33m]\u001B[0m\u001B[1;33m\u001B[0m\u001B[1;33m\u001B[0m\u001B[0m\n\u001B[0m\u001B[0;32m      2\u001B[0m \u001B[0mhistogram\u001B[0m\u001B[1;33m(\u001B[0m\u001B[0mblunder_300\u001B[0m\u001B[1;33m[\u001B[0m\u001B[1;34m'delta_time'\u001B[0m\u001B[1;33m]\u001B[0m\u001B[1;33m,\u001B[0m\u001B[0mylim\u001B[0m\u001B[1;33m=\u001B[0m\u001B[1;33m(\u001B[0m\u001B[1;36m0\u001B[0m\u001B[1;33m,\u001B[0m\u001B[1;36m0.2\u001B[0m\u001B[1;33m)\u001B[0m\u001B[1;33m)\u001B[0m\u001B[1;33m\u001B[0m\u001B[1;33m\u001B[0m\u001B[0m\n\u001B[0;32m      3\u001B[0m \u001B[0mlen\u001B[0m\u001B[1;33m(\u001B[0m\u001B[0mblunder_300\u001B[0m\u001B[1;33m)\u001B[0m\u001B[1;33m\u001B[0m\u001B[1;33m\u001B[0m\u001B[0m\n\u001B[0;32m      4\u001B[0m \u001B[1;33m\u001B[0m\u001B[0m\n",
      "\u001B[1;32mC:\\ProgramData\\Anaconda3\\envs\\Chess\\lib\\site-packages\\pandas\\core\\ops\\common.py\u001B[0m in \u001B[0;36mnew_method\u001B[1;34m(self, other)\u001B[0m\n\u001B[0;32m     67\u001B[0m         \u001B[0mother\u001B[0m \u001B[1;33m=\u001B[0m \u001B[0mitem_from_zerodim\u001B[0m\u001B[1;33m(\u001B[0m\u001B[0mother\u001B[0m\u001B[1;33m)\u001B[0m\u001B[1;33m\u001B[0m\u001B[1;33m\u001B[0m\u001B[0m\n\u001B[0;32m     68\u001B[0m \u001B[1;33m\u001B[0m\u001B[0m\n\u001B[1;32m---> 69\u001B[1;33m         \u001B[1;32mreturn\u001B[0m \u001B[0mmethod\u001B[0m\u001B[1;33m(\u001B[0m\u001B[0mself\u001B[0m\u001B[1;33m,\u001B[0m \u001B[0mother\u001B[0m\u001B[1;33m)\u001B[0m\u001B[1;33m\u001B[0m\u001B[1;33m\u001B[0m\u001B[0m\n\u001B[0m\u001B[0;32m     70\u001B[0m \u001B[1;33m\u001B[0m\u001B[0m\n\u001B[0;32m     71\u001B[0m     \u001B[1;32mreturn\u001B[0m \u001B[0mnew_method\u001B[0m\u001B[1;33m\u001B[0m\u001B[1;33m\u001B[0m\u001B[0m\n",
      "\u001B[1;32mC:\\ProgramData\\Anaconda3\\envs\\Chess\\lib\\site-packages\\pandas\\core\\arraylike.py\u001B[0m in \u001B[0;36m__and__\u001B[1;34m(self, other)\u001B[0m\n\u001B[0;32m     60\u001B[0m     \u001B[1;33m@\u001B[0m\u001B[0munpack_zerodim_and_defer\u001B[0m\u001B[1;33m(\u001B[0m\u001B[1;34m\"__and__\"\u001B[0m\u001B[1;33m)\u001B[0m\u001B[1;33m\u001B[0m\u001B[1;33m\u001B[0m\u001B[0m\n\u001B[0;32m     61\u001B[0m     \u001B[1;32mdef\u001B[0m \u001B[0m__and__\u001B[0m\u001B[1;33m(\u001B[0m\u001B[0mself\u001B[0m\u001B[1;33m,\u001B[0m \u001B[0mother\u001B[0m\u001B[1;33m)\u001B[0m\u001B[1;33m:\u001B[0m\u001B[1;33m\u001B[0m\u001B[1;33m\u001B[0m\u001B[0m\n\u001B[1;32m---> 62\u001B[1;33m         \u001B[1;32mreturn\u001B[0m \u001B[0mself\u001B[0m\u001B[1;33m.\u001B[0m\u001B[0m_logical_method\u001B[0m\u001B[1;33m(\u001B[0m\u001B[0mother\u001B[0m\u001B[1;33m,\u001B[0m \u001B[0moperator\u001B[0m\u001B[1;33m.\u001B[0m\u001B[0mand_\u001B[0m\u001B[1;33m)\u001B[0m\u001B[1;33m\u001B[0m\u001B[1;33m\u001B[0m\u001B[0m\n\u001B[0m\u001B[0;32m     63\u001B[0m \u001B[1;33m\u001B[0m\u001B[0m\n\u001B[0;32m     64\u001B[0m     \u001B[1;33m@\u001B[0m\u001B[0munpack_zerodim_and_defer\u001B[0m\u001B[1;33m(\u001B[0m\u001B[1;34m\"__rand__\"\u001B[0m\u001B[1;33m)\u001B[0m\u001B[1;33m\u001B[0m\u001B[1;33m\u001B[0m\u001B[0m\n",
      "\u001B[1;32mC:\\ProgramData\\Anaconda3\\envs\\Chess\\lib\\site-packages\\pandas\\core\\series.py\u001B[0m in \u001B[0;36m_logical_method\u001B[1;34m(self, other, op)\u001B[0m\n\u001B[0;32m   5511\u001B[0m         \u001B[0mrvalues\u001B[0m \u001B[1;33m=\u001B[0m \u001B[0mextract_array\u001B[0m\u001B[1;33m(\u001B[0m\u001B[0mother\u001B[0m\u001B[1;33m,\u001B[0m \u001B[0mextract_numpy\u001B[0m\u001B[1;33m=\u001B[0m\u001B[1;32mTrue\u001B[0m\u001B[1;33m,\u001B[0m \u001B[0mextract_range\u001B[0m\u001B[1;33m=\u001B[0m\u001B[1;32mTrue\u001B[0m\u001B[1;33m)\u001B[0m\u001B[1;33m\u001B[0m\u001B[1;33m\u001B[0m\u001B[0m\n\u001B[0;32m   5512\u001B[0m \u001B[1;33m\u001B[0m\u001B[0m\n\u001B[1;32m-> 5513\u001B[1;33m         \u001B[0mres_values\u001B[0m \u001B[1;33m=\u001B[0m \u001B[0mops\u001B[0m\u001B[1;33m.\u001B[0m\u001B[0mlogical_op\u001B[0m\u001B[1;33m(\u001B[0m\u001B[0mlvalues\u001B[0m\u001B[1;33m,\u001B[0m \u001B[0mrvalues\u001B[0m\u001B[1;33m,\u001B[0m \u001B[0mop\u001B[0m\u001B[1;33m)\u001B[0m\u001B[1;33m\u001B[0m\u001B[1;33m\u001B[0m\u001B[0m\n\u001B[0m\u001B[0;32m   5514\u001B[0m         \u001B[1;32mreturn\u001B[0m \u001B[0mself\u001B[0m\u001B[1;33m.\u001B[0m\u001B[0m_construct_result\u001B[0m\u001B[1;33m(\u001B[0m\u001B[0mres_values\u001B[0m\u001B[1;33m,\u001B[0m \u001B[0mname\u001B[0m\u001B[1;33m=\u001B[0m\u001B[0mres_name\u001B[0m\u001B[1;33m)\u001B[0m\u001B[1;33m\u001B[0m\u001B[1;33m\u001B[0m\u001B[0m\n\u001B[0;32m   5515\u001B[0m \u001B[1;33m\u001B[0m\u001B[0m\n",
      "\u001B[1;32mC:\\ProgramData\\Anaconda3\\envs\\Chess\\lib\\site-packages\\pandas\\core\\ops\\array_ops.py\u001B[0m in \u001B[0;36mlogical_op\u001B[1;34m(left, right, op)\u001B[0m\n\u001B[0;32m    380\u001B[0m         \u001B[1;32mif\u001B[0m \u001B[0misinstance\u001B[0m\u001B[1;33m(\u001B[0m\u001B[0mrvalues\u001B[0m\u001B[1;33m,\u001B[0m \u001B[0mnp\u001B[0m\u001B[1;33m.\u001B[0m\u001B[0mndarray\u001B[0m\u001B[1;33m)\u001B[0m\u001B[1;33m:\u001B[0m\u001B[1;33m\u001B[0m\u001B[1;33m\u001B[0m\u001B[0m\n\u001B[0;32m    381\u001B[0m             \u001B[0mis_other_int_dtype\u001B[0m \u001B[1;33m=\u001B[0m \u001B[0mis_integer_dtype\u001B[0m\u001B[1;33m(\u001B[0m\u001B[0mrvalues\u001B[0m\u001B[1;33m.\u001B[0m\u001B[0mdtype\u001B[0m\u001B[1;33m)\u001B[0m\u001B[1;33m\u001B[0m\u001B[1;33m\u001B[0m\u001B[0m\n\u001B[1;32m--> 382\u001B[1;33m             \u001B[0mrvalues\u001B[0m \u001B[1;33m=\u001B[0m \u001B[0mrvalues\u001B[0m \u001B[1;32mif\u001B[0m \u001B[0mis_other_int_dtype\u001B[0m \u001B[1;32melse\u001B[0m \u001B[0mfill_bool\u001B[0m\u001B[1;33m(\u001B[0m\u001B[0mrvalues\u001B[0m\u001B[1;33m,\u001B[0m \u001B[0mlvalues\u001B[0m\u001B[1;33m)\u001B[0m\u001B[1;33m\u001B[0m\u001B[1;33m\u001B[0m\u001B[0m\n\u001B[0m\u001B[0;32m    383\u001B[0m \u001B[1;33m\u001B[0m\u001B[0m\n\u001B[0;32m    384\u001B[0m         \u001B[1;32melse\u001B[0m\u001B[1;33m:\u001B[0m\u001B[1;33m\u001B[0m\u001B[1;33m\u001B[0m\u001B[0m\n",
      "\u001B[1;32mC:\\ProgramData\\Anaconda3\\envs\\Chess\\lib\\site-packages\\pandas\\core\\ops\\array_ops.py\u001B[0m in \u001B[0;36mfill_bool\u001B[1;34m(x, left)\u001B[0m\n\u001B[0;32m    359\u001B[0m \u001B[1;33m\u001B[0m\u001B[0m\n\u001B[0;32m    360\u001B[0m         \u001B[1;32mif\u001B[0m \u001B[0mleft\u001B[0m \u001B[1;32mis\u001B[0m \u001B[1;32mNone\u001B[0m \u001B[1;32mor\u001B[0m \u001B[0mis_bool_dtype\u001B[0m\u001B[1;33m(\u001B[0m\u001B[0mleft\u001B[0m\u001B[1;33m.\u001B[0m\u001B[0mdtype\u001B[0m\u001B[1;33m)\u001B[0m\u001B[1;33m:\u001B[0m\u001B[1;33m\u001B[0m\u001B[1;33m\u001B[0m\u001B[0m\n\u001B[1;32m--> 361\u001B[1;33m             \u001B[0mx\u001B[0m \u001B[1;33m=\u001B[0m \u001B[0mx\u001B[0m\u001B[1;33m.\u001B[0m\u001B[0mastype\u001B[0m\u001B[1;33m(\u001B[0m\u001B[0mbool\u001B[0m\u001B[1;33m)\u001B[0m\u001B[1;33m\u001B[0m\u001B[1;33m\u001B[0m\u001B[0m\n\u001B[0m\u001B[0;32m    362\u001B[0m         \u001B[1;32mreturn\u001B[0m \u001B[0mx\u001B[0m\u001B[1;33m\u001B[0m\u001B[1;33m\u001B[0m\u001B[0m\n\u001B[0;32m    363\u001B[0m \u001B[1;33m\u001B[0m\u001B[0m\n",
      "\u001B[1;31mKeyboardInterrupt\u001B[0m: "
     ]
    }
   ],
   "source": [
    "blunder_300 = db[(db['score'] == 'blunder' )&( db['TimeControl'] == '300+0') & (db['move'] > 4) & (db['delta_time']>= 0) ]\n",
    "histogram(blunder_300['delta_time'],ylim=(0,0.2))\n",
    "len(blunder_300)"
   ]
  },
  {
   "cell_type": "code",
   "execution_count": null,
   "metadata": {
    "pycharm": {
     "name": "#%%\n"
    }
   },
   "outputs": [],
   "source": [
    "all_300 = db[(db['TimeControl'] == '300+0') & (db['move'] > 4) & (db['delta_time']>= 0) ]\n",
    "histogram(all_300['delta_time'],ylim=(0,0.2))\n",
    "len(all_300)"
   ]
  },
  {
   "cell_type": "code",
   "execution_count": null,
   "metadata": {
    "pycharm": {
     "name": "#%%\n"
    }
   },
   "outputs": [],
   "source": [
    "# blunder_60 = db[(db['score'] == 'mistake' )&( db['TimeControl'] == '300+0') & (db['delta_time']<= 60)& (db['move'] > 4) & (db['delta_time']>= 0) ]\n",
    "# # c = blunder_60['delta_time'].hist(bins = 60, density = True)\n",
    "# histogram(blunder_60['delta_time'],bins=60,ylim=(0,0.2))\n",
    "# len(blunder_60)"
   ]
  },
  {
   "cell_type": "code",
   "execution_count": null,
   "metadata": {
    "pycharm": {
     "name": "#%%\n"
    }
   },
   "outputs": [],
   "source": [
    "# blunder_60 = db[(db['score'] == 'dubious move' )&( db['TimeControl'] == '300+0') & (db['delta_time']<= 60)& (db['move'] > 4) & (db['delta_time']>= 0) ]\n",
    "# histogram(blunder_60['delta_time'],bins=60,ylim=(0,0.2))\n",
    "# len(blunder_60)"
   ]
  },
  {
   "cell_type": "markdown",
   "metadata": {
    "pycharm": {
     "name": "#%% md\n"
    }
   },
   "source": [
    "prawdopodobienstwo popełenienia błedu w zależności od ruchu dla 300+0"
   ]
  },
  {
   "cell_type": "code",
   "execution_count": 75,
   "metadata": {
    "pycharm": {
     "name": "#%%\n"
    }
   },
   "outputs": [],
   "source": [
    "# prawdopodobieństwo popełnienia błędu\\nw konkretnym ruchu\n",
    "\n",
    "format = '600+0'\n",
    "format2='300+0'\n",
    "# wszystkie ruchy\n",
    "m = db[['TimeControl','score','move','Result']].groupby(['TimeControl','move','score']).count()\n",
    "prob = m/m.groupby(['TimeControl','move']).sum()\n",
    "prob = prob.reset_index()\n",
    "prob = prob[prob['score']=='blunder']\n",
    "prob1 = prob[prob['TimeControl']==format]\n",
    "prob2 = prob[prob['TimeControl']==format2]"
   ]
  },
  {
   "cell_type": "code",
   "execution_count": 76,
   "metadata": {
    "pycharm": {
     "name": "#%%\n"
    }
   },
   "outputs": [
    {
     "data": {
      "text/plain": "<Figure size 432x288 with 1 Axes>",
      "image/png": "[encoded data removed]"
     },
     "metadata": {
      "needs_background": "light"
     },
     "output_type": "display_data"
    }
   ],
   "source": [
    "plt.figure()\n",
    "plt.plot(prob1['move'],prob1['Result'],label=f'format: {format}')\n",
    "\n",
    "plt.plot(prob2['move'],prob2['Result'],label=f'format: {format2}')\n",
    "\n",
    "plt.legend()\n",
    "plt.xlim(0,58)\n",
    "plt.ylim(0,0.1)\n",
    "plt.xlabel('numer ruchu')\n",
    "plt.ylabel(ylabel='p')\n",
    "plt.title(f'prawdopodobieństwo popełnienia błędu\\nw konkretnym ruchu ')\n",
    "plt.savefig('graph.svg')\n",
    "plt.show()"
   ]
  },
  {
   "cell_type": "code",
   "execution_count": 79,
   "outputs": [
    {
     "name": "stdout",
     "output_type": "stream",
     "text": [
      "0.8550064335313031\n",
      "0.7155774055882649\n",
      "0.5886468582686988\n",
      "0.40775087014860834\n"
     ]
    },
    {
     "data": {
      "text/plain": "<Figure size 432x288 with 1 Axes>",
      "image/png": "[encoded data removed]"
     },
     "metadata": {
      "needs_background": "light"
     },
     "output_type": "display_data"
    }
   ],
   "source": [
    "# prawdopodobieństwo popełnienia błędu\\nw konkretnym ruchu - różne przedziały\n",
    "intervals = [\n",
    "    db[(db['WhiteElo'] <= 1267)&(db['BlackElo'] <= 1267)],\n",
    "    db[(db['WhiteElo'].between(1268,1500))&(db['BlackElo'].between(1268,1500))],\n",
    "    db[(db['WhiteElo'].between(1501,1722))&(db['BlackElo'].between(1501,1722))],\n",
    "    db[(db['WhiteElo'] > 1722)&(db['BlackElo'] > 1722)] ]\n",
    "colors = ['cornflowerblue','red','blue','orange','darkviolet','lightcoral','midnightblue','darkred']\n",
    "plt.figure()\n",
    "\n",
    "i=0\n",
    "for interval in intervals:\n",
    "    m = interval[['TimeControl','score','move','Result']].groupby(['TimeControl','move','score']).count()\n",
    "    prob = m/m.groupby(['TimeControl','move']).sum()\n",
    "    prob = prob.reset_index()\n",
    "    prob = prob[prob['score']=='blunder']\n",
    "    prob1 = prob[prob['TimeControl']==format]\n",
    "    t = 1\n",
    "    for item in prob1[prob1['move']<21]['Result']:\n",
    "        t = t*(1-item)\n",
    "    print(1 - t)\n",
    "    prob2 = prob[prob['TimeControl']==format2]\n",
    "\n",
    "    # plt.plot(prob1['move'],prob1['Result'],label=f'format: {format}',color=colors[i])\n",
    "\n",
    "    plt.plot(prob2['move'],prob2['Result'],label=f'format: {format2}',color=colors[i+1])\n",
    "    i+=2\n",
    "\n",
    "plt.legend()\n",
    "plt.xlim(0,58)\n",
    "plt.ylim(0,0.15)\n",
    "plt.xlabel('numer ruchu')\n",
    "plt.ylabel(ylabel='p')\n",
    "plt.title(f'prawdopodobieństwo popełnienia błędu\\nw konkretnym ruchu, format: {format2}')\n",
    "plt.savefig('graph.svg')\n",
    "plt.show()"
   ],
   "metadata": {
    "collapsed": false,
    "pycharm": {
     "name": "#%%\n"
    }
   }
  },
  {
   "cell_type": "code",
   "execution_count": null,
   "metadata": {
    "pycharm": {
     "name": "#%%\n"
    }
   },
   "outputs": [],
   "source": []
  },
  {
   "cell_type": "code",
   "execution_count": null,
   "outputs": [],
   "source": [
    "m2[m2['score']=='blunder'][['move','prob','Result_y']].plot(x='move',y='Result_y')\n"
   ],
   "metadata": {
    "collapsed": false,
    "pycharm": {
     "name": "#%%\n"
    }
   }
  },
  {
   "cell_type": "markdown",
   "metadata": {
    "pycharm": {
     "name": "#%% md\n"
    }
   },
   "source": [
    "prawdopodobienstwo popełenienia błedu w zależności od czasu dla 300+0"
   ]
  },
  {
   "cell_type": "code",
   "execution_count": null,
   "metadata": {
    "pycharm": {
     "name": "#%%\n"
    }
   },
   "outputs": [],
   "source": [
    "m = db[(db['TimeControl']=='300+0') & (db['delta_time']>=0)& (db['delta_time']<=60)][['score','delta_time','Result']].groupby(['delta_time','score']).count().reset_index()\n",
    "m"
   ]
  },
  {
   "cell_type": "code",
   "execution_count": null,
   "metadata": {
    "pycharm": {
     "name": "#%%\n"
    }
   },
   "outputs": [],
   "source": [
    "m2 = pd.merge(m,m.groupby('delta_time').sum().reset_index(),how='left', on='delta_time')\n",
    "m2['prob'] = m2['Result_x']/m2['Result_y']"
   ]
  },
  {
   "cell_type": "code",
   "execution_count": null,
   "metadata": {
    "pycharm": {
     "name": "#%%\n"
    }
   },
   "outputs": [],
   "source": [
    "m2[m2['score']=='blunder'][['score','delta_time','prob']]"
   ]
  },
  {
   "cell_type": "code",
   "execution_count": null,
   "metadata": {
    "pycharm": {
     "name": "#%%\n"
    }
   },
   "outputs": [],
   "source": [
    "m2[m2['score']=='blunder'][['delta_time','prob','Result_y']].plot(x='delta_time',y='prob')"
   ]
  },
  {
   "cell_type": "code",
   "execution_count": null,
   "metadata": {
    "pycharm": {
     "name": "#%%\n"
    }
   },
   "outputs": [],
   "source": [
    "m2[m2['score']=='blunder'][['delta_time','prob','Result_y']].plot(x='delta_time',y='Result_y')"
   ]
  },
  {
   "cell_type": "code",
   "execution_count": null,
   "metadata": {
    "pycharm": {
     "name": "#%%\n"
    }
   },
   "outputs": [],
   "source": [
    "db.groupby('TimeControl').size().reset_index().sort_values(by=0,ascending=False).head(10)"
   ]
  },
  {
   "cell_type": "code",
   "execution_count": null,
   "metadata": {
    "pycharm": {
     "name": "#%%\n"
    }
   },
   "outputs": [],
   "source": [
    "# fitting dist to data try\n",
    "# blunder_60['delta_time'].var()\n",
    "def lognorm_params(data):\n",
    "    ex = data.mean()\n",
    "    var = data.var()\n",
    "\n",
    "    mu = np.log(ex**2/np.sqrt(var+ex**2))\n",
    "    sigma = np.log(var/ex**2 +1)\n",
    "    return mu, sigma\n",
    "# def gamma_params(data)"
   ]
  },
  {
   "cell_type": "code",
   "execution_count": null,
   "metadata": {},
   "outputs": [],
   "source": [
    "print(lognorm_params(blunder_300['delta_time']))\n"
   ]
  },
  {
   "cell_type": "code",
   "execution_count": null,
   "metadata": {},
   "outputs": [],
   "source": [
    "blunder_600 = db[(db['score'] == 'blunder' )&( db['TimeControl'] == '600+0') & (db['move'] > 4) & (db['delta_time']>= 0) ]\n",
    "# histogram(blunder_600['delta_time'],show=True,ylim=(0,0.2))\n",
    "# len(blunder_600)\n",
    "y = blunder_600['delta_time']\n",
    "# size = len(y)\n",
    "x = np.linspace(min(y)+0.0001,max(y),1000)\n",
    "\n",
    "\n",
    "ex,var = lognorm_params(y)\n",
    "\n",
    "X=1/(x*var*np.sqrt(2*pi))*np.exp(-(np.log(x)-ex)**2/(2*var**2))\n",
    "\n",
    "plt.plot(x,X, label='lognorm')\n",
    "histogram(y,ylim=(0,0.2),xlabel='czas na wykonanie ruchu', ylabel='prawdopodobieństwo',title='blunder 600+0')\n",
    "plt.legend(loc='upper right')\n",
    "plt.show()"
   ]
  },
  {
   "cell_type": "code",
   "execution_count": null,
   "metadata": {},
   "outputs": [],
   "source": [
    "all_600 = db[( db['TimeControl'] == '600+0') & (db['move'] > 4) & (db['delta_time']>= 0) ]\n",
    "# histogram(blunder_600['delta_time'],show=True,ylim=(0,0.2))\n",
    "# len(blunder_600)\n",
    "y = all_600['delta_time']\n",
    "# size = len(y)\n",
    "x = np.linspace(min(y)+0.0001,max(y),1000)\n",
    "\n",
    "\n",
    "ex,var = lognorm_params(y)\n",
    "\n",
    "X=1/(x*var*np.sqrt(2*pi))*np.exp(-(np.log(x)-ex)**2/(2*var**2))\n",
    "\n",
    "plt.plot(x,X, label='lognorm')\n",
    "histogram(y,ylim=(0,0.2),xlabel='czas na wykonanie ruchu', ylabel='prawdopodobieństwo',title='all 600+0')\n",
    "plt.legend(loc='upper right')\n",
    "plt.show()"
   ]
  },
  {
   "cell_type": "code",
   "execution_count": null,
   "metadata": {
    "pycharm": {
     "name": "#%%\n"
    }
   },
   "outputs": [],
   "source": [
    "y = blunder_300['delta_time']\n",
    "\n",
    "# size = len(y)\n",
    "x = np.linspace(min(y)+0.0001,max(y),1000)\n",
    "\n",
    "\n",
    "ex,var = lognorm_params(y)\n",
    "\n",
    "X=1/(x*var*np.sqrt(2*pi))*np.exp(-(np.log(x)-ex)**2/(2*var**2))\n",
    "\n",
    "plt.plot(x,X, label='lognorm')\n",
    "histogram(y,ylim=(0,0.2),xlabel='czas na wykonanie ruchu', ylabel='prawdopodobieństwo',title='blunder 300+0, n={size}')\n",
    "plt.legend(loc='upper right')\n",
    "plt.show()"
   ]
  },
  {
   "cell_type": "code",
   "execution_count": null,
   "metadata": {
    "pycharm": {
     "name": "#%%\n"
    }
   },
   "outputs": [],
   "source": [
    "\n",
    "y = all_300['delta_time']\n",
    "\n",
    "size = len(y)\n",
    "x = np.linspace(min(y)+0.0001,max(y),1000)\n",
    "\n",
    "\n",
    "ex,var = lognorm_params(y)\n",
    "\n",
    "X=1/(x*var*np.sqrt(2*pi))*np.exp(-(np.log(x)-ex)**2/(2*var**2))\n",
    "\n",
    "plt.plot(x,X, label='lognorm')\n",
    "histogram(y,ylim=(0,0.2),xlabel='czas na wykonanie ruchu', ylabel='prawdopodobieństwo',title=f'all 300+0, n={size}')\n",
    "plt.legend(loc='upper right')\n",
    "plt.show()\n"
   ]
  },
  {
   "cell_type": "code",
   "execution_count": null,
   "metadata": {
    "pycharm": {
     "name": "#%%\n"
    }
   },
   "outputs": [],
   "source": [
    "# size = len(all_300['delta_time'])\n",
    "# x = np.linspace(min(all_300['delta_time'])+0.0001,max(all_300['delta_time']),1000)\n",
    "# y = all_300['delta_time']\n",
    "#\n",
    "# dist_names = ['weibull_min']\n",
    "#\n",
    "# ###\n",
    "# ex,var = lognorm_params(y)\n",
    "# ###\n",
    "# for dist_name in dist_names:\n",
    "#     dist = getattr(scipy.stats, dist_name)\n",
    "#     params = dist.fit(y)\n",
    "#     arg = params[:-2]\n",
    "#     loc = params[-2]\n",
    "#     scale = params[-1]\n",
    "#     print(params)\n",
    "#     if arg:\n",
    "#         pdf_fitted = dist.pdf(x, *arg, loc=loc, scale=scale)\n",
    "#     else:\n",
    "#         pdf_fitted = dist.pdf(x, loc=loc, scale=scale)\n",
    "#     plt.plot(x,pdf_fitted, label=dist_name)\n",
    "# histogram(y,ylim=(0,0.2),xlabel='czas na wykonanie ruchu', ylabel='prawdopodobieństwo')\n",
    "# plt.legend(loc='upper right')\n",
    "# plt.show()\n",
    "# (blunder_300['delta_time']).mean()"
   ]
  },
  {
   "cell_type": "code",
   "execution_count": null,
   "metadata": {
    "pycharm": {
     "name": "#%%\n"
    }
   },
   "outputs": [],
   "source": [
    "for item in [all_300,blunder_300,all_600,blunder_600]:\n",
    "\n",
    "    y = item['delta_time']\n",
    "\n",
    "    size = len(y)\n",
    "    x = np.linspace(min(y)+0.0001,max(y),1000)\n",
    "\n",
    "\n",
    "    ex,var = lognorm_params(y)\n",
    "\n",
    "    X=1/(x*var*np.sqrt(2*pi))*np.exp(-(np.log(x)-ex)**2/(2*var**2))\n",
    "\n",
    "    plt.plot(x,X, label='lognorm')\n",
    "    histogram(y,ylim=(0,0.2),xlabel='czas na wykonanie ruchu', ylabel='prawdopodobieństwo',title=f'format:{item.iloc[0,6]}, n={size} {\", type: blunder\" if item.iloc[0,1]==\"blunder\" else \"\"}')\n",
    "    plt.legend(loc='upper right')\n",
    "    plt.show()"
   ]
  },
  {
   "cell_type": "markdown",
   "metadata": {
    "pycharm": {
     "name": "#%% md\n"
    }
   },
   "source": [
    "porównanie\n",
    "zależność:\n",
    "x -  numer ruchu, y średni czas na wykonanie - dla wszystkich ruchów i tylko dla ruchów blunder"
   ]
  },
  {
   "cell_type": "code",
   "execution_count": null,
   "metadata": {
    "pycharm": {
     "name": "#%%\n"
    }
   },
   "outputs": [],
   "source": [
    "format = '600+0'\n",
    "a = db.groupby(['TimeControl','move']).agg({'delta_time': np.mean}).reset_index()\n",
    "\n",
    "p1 = a[a['TimeControl'] == format][['move','delta_time']]\n",
    "b = db.groupby(['TimeControl','score','move']).agg({'delta_time': np.mean}).reset_index()\n",
    "p2 = b[(b['TimeControl'] == format) & (b['score'] == 'blunder')][['move','delta_time']]\n",
    "\n",
    "plt.figure(1)\n",
    "plt.plot(p1['move'],p1['delta_time'],label='wszystkie ruchy')\n",
    "\n",
    "plt.fill_between(db[db['TimeControl']==format][['TimeControl','move','delta_time']].groupby(['TimeControl','move']).quantile(0.25).reset_index()['move'],\n",
    "                 db[db['TimeControl']==format][['TimeControl','move','delta_time']].groupby(['TimeControl','move']).quantile(0.25).reset_index()['delta_time'],\n",
    "                 db[db['TimeControl']==format][['TimeControl','move','delta_time']].groupby(['TimeControl','move']).quantile(0.75).reset_index()['delta_time'],\n",
    "                 alpha=0.2,label=\"wsz. ruchy, r.\\nmiędzykwartylowy\")\n",
    "\n",
    "plt.plot(p2['move'],p2['delta_time'],label='duży błąd')\n",
    "plt.fill_between(db[(db['TimeControl']==format) & (db['score']=='blunder')][['TimeControl','move','delta_time']].groupby(['TimeControl','move']).quantile(0.25).reset_index()['move'],\n",
    "                 db[(db['TimeControl']==format) & (db['score']=='blunder')][['TimeControl','move','delta_time']].groupby(['TimeControl','move']).quantile(0.25).reset_index()['delta_time'],\n",
    "                 db[(db['TimeControl']==format) & (db['score']=='blunder')][['TimeControl','move','delta_time']].groupby(['TimeControl','move']).quantile(0.75).reset_index()['delta_time'],\n",
    "                 alpha=0.2,label=\"duży błąd, r.\\nmiędzykwartylowy\")\n",
    "plt.legend()\n",
    "plt.xlim(0,58)\n",
    "plt.xlabel('numer ruchu')\n",
    "plt.ylabel(\"średni czas [s]\")\n",
    "plt.title(f'średni czas na wykonanie ruchu\\nw zależności od numeru ruchu, format {format}')\n",
    "plt.savefig('graph.svg')\n",
    "plt.show()"
   ]
  },
  {
   "cell_type": "code",
   "execution_count": null,
   "metadata": {
    "pycharm": {
     "name": "#%%\n"
    }
   },
   "outputs": [],
   "source": [
    "format = '600+0'\n",
    "a = db.groupby(['TimeControl','move']).agg({'delta_time': np.std}).reset_index()\n",
    "p1 = a[a['TimeControl'] == format][['move','delta_time']]\n",
    "\n",
    "b = db.groupby(['TimeControl','score','move']).agg({'delta_time': np.std}).reset_index()\n",
    "p2 = b[(b['TimeControl'] == format) & (b['score'] == 'blunder')][['move','delta_time']]\n",
    "\n",
    "plt.figure()\n",
    "plt.plot(p1['move'],p1['delta_time'],label='wszystkie ruchy')\n",
    "\n",
    "plt.plot(p2['move'],p2['delta_time'],label='duży błąd')\n",
    "\n",
    "plt.legend()\n",
    "plt.xlim(0,58)\n",
    "plt.ylim(0,23)\n",
    "plt.xlabel('numer ruchu')\n",
    "plt.ylabel(ylabel='czas [s]')\n",
    "plt.title(f'odchylenie standardowe czasu na wykonanie ruchu\\nw zależności od numeru ruchu, format {format}')\n",
    "plt.savefig('graph.svg')\n",
    "plt.show()"
   ]
  },
  {
   "cell_type": "markdown",
   "source": [
    "jak wyżej + rozbicie na ranking graczy"
   ],
   "metadata": {
    "collapsed": false,
    "pycharm": {
     "name": "#%% md\n"
    }
   }
  },
  {
   "cell_type": "code",
   "execution_count": null,
   "outputs": [],
   "source": [
    "format = '600+0'\n",
    "intervals = [\n",
    "    db[(db['WhiteElo'] <= 1267)&(db['BlackElo'] <= 1267)],\n",
    "    db[(db['WhiteElo'].between(1268,1500))&(db['BlackElo'].between(1268,1500))],\n",
    "    db[(db['WhiteElo'].between(1501,1722))&(db['BlackElo'].between(1501,1722))],\n",
    "    db[(db['WhiteElo'] > 1722)&(db['BlackElo'] > 1722)]\n",
    "]\n",
    "\n",
    "colors = ['cornflowerblue','red','blue','orange','darkviolet','lightcoral','midnightblue','darkred']\n",
    "i=0\n",
    "for interval in intervals:\n",
    "\n",
    "    a = interval.groupby(['TimeControl','move']).agg({'delta_time': np.mean}).reset_index()\n",
    "\n",
    "    p1 = a[a['TimeControl'] == format][['move','delta_time']]\n",
    "    b = interval.groupby(['TimeControl','score','move']).agg({'delta_time': np.mean}).reset_index()\n",
    "    p2 = b[(b['TimeControl'] == format) & (b['score'] == 'blunder')][['move','delta_time']]\n",
    "\n",
    "    plt.figure(1)\n",
    "    plt.plot(p1['move'],p1['delta_time'],label='ranking: (1500, 1722>',color=colors[i])\n",
    "\n",
    "    plt.plot(p2['move'],p2['delta_time'],label='duży błąd',color=colors[i+1])\n",
    "    i+=2\n",
    "plt.legend()\n",
    "plt.xlim(0,58)\n",
    "plt.xlabel('numer ruchu')\n",
    "plt.ylabel(\"średni czas [s]\")\n",
    "plt.title(f'średni czas na wykonanie ruchu\\nw zależności od numeru ruchu, format {format}')\n",
    "plt.savefig('graph.svg')\n",
    "plt.show()"
   ],
   "metadata": {
    "collapsed": false,
    "pycharm": {
     "name": "#%%\n"
    }
   }
  },
  {
   "cell_type": "markdown",
   "metadata": {
    "pycharm": {
     "name": "#%% md\n"
    }
   },
   "source": [
    "tyle ruchów na gre jest"
   ]
  },
  {
   "cell_type": "code",
   "execution_count": null,
   "metadata": {
    "pycharm": {
     "name": "#%%\n"
    }
   },
   "outputs": [],
   "source": [
    "# ruchy kwantyl rzędu .95\n",
    "db[['game_ID','move']].groupby('game_ID').max().quantile(.95)"
   ]
  },
  {
   "cell_type": "code",
   "execution_count": null,
   "metadata": {
    "pycharm": {
     "name": "#%%\n"
    }
   },
   "outputs": [],
   "source": [
    "r2/r2.sum()\n",
    "plt.figure()\n",
    "plt.plot(np.arange(1,121),r2/r2.sum())\n",
    "\n",
    "plt.plot([58,58],[0,0.01], color='red')\n",
    "\n",
    "plt.text(52, 0.013,'kwantyl 0.95\\nruch 58',color='red')\n",
    "\n",
    "\n",
    "\n",
    "plt.xlabel('liczba zagranych ruchów w grze')\n",
    "plt.ylabel('p')\n",
    "plt.title('rozkład długości gry (liczba zagranych ruchów)')\n",
    "plt.savefig('graph.svg')\n",
    "plt.show()"
   ]
  },
  {
   "cell_type": "code",
   "execution_count": null,
   "metadata": {
    "pycharm": {
     "name": "#%%\n"
    }
   },
   "outputs": [],
   "source": [
    "np.arange(1,120)"
   ]
  },
  {
   "cell_type": "code",
   "execution_count": null,
   "metadata": {
    "pycharm": {
     "name": "#%%\n"
    }
   },
   "outputs": [],
   "source": [
    "# stosunek sredniej 300+0 do 600+0\n",
    "\n",
    "format = '600+0'\n",
    "format2 = '300+0'\n",
    "a = db.groupby(['TimeControl','move']).agg({'delta_time': np.mean}).reset_index()\n",
    "\n",
    "p1 = a[(a['TimeControl'] == format) & (a['move'] < 60)][['move','delta_time']]\n",
    "p11 = a[(a['TimeControl'] == format2) & (a['move'] < 60)][['move','delta_time']]\n",
    "\n",
    "b = db.groupby(['TimeControl','score','move']).agg({'delta_time': np.mean}).reset_index()\n",
    "p2 = b[(b['TimeControl'] == format) & (b['score'] == 'blunder')& (b['move'] < 60)][['move','delta_time']]\n",
    "\n",
    "p22 = b[(b['TimeControl'] == format2) & (b['score'] == 'blunder')& (b['move'] < 60)][['move','delta_time']]\n",
    "plt.figure()\n",
    "st1 = p1.reset_index()['delta_time']/p11.reset_index()['delta_time']\n",
    "st2 = p2.reset_index()['delta_time']/p22.reset_index()['delta_time']\n",
    "plt.plot(p1['move'],st1,label='wszystkie ruchy')\n",
    "plt.plot(p2['move'],st2,label='wszystkie ruchy')\n",
    "R1 = np.polyfit(p1.reset_index().iloc[1:,1],st1.iloc[1:],1)\n",
    "R2 = np.polyfit(p2.reset_index().iloc[1:,1],st2.iloc[1:],1)\n",
    "plt.plot(p1['move'],p1['move']*R1[0]+R1[1],label=f'y={R1[0]:.3f}x+{R1[1]:.3f}',color='teal')\n",
    "plt.plot(p2['move'],p2['move']*R2[0]+R2[1],label=f'y={R2[0]:.3f}x+{R2[1]:.3f}',color='darkgoldenrod')\n",
    "\n",
    "plt.grid(True)\n",
    "plt.legend()\n",
    "plt.xlim(0,58)\n",
    "# plt.ylim(0,23)\n",
    "plt.xlabel('numer ruchu')\n",
    "plt.ylabel(ylabel='czas [s]')\n",
    "plt.title(f'stosunek średniego czasu na wykonanie ruchu formatu\\n600+0 do 300+0 w zależności od numeru ruchu.')\n",
    "plt.savefig('graph.svg')\n",
    "plt.show()\n"
   ]
  },
  {
   "cell_type": "code",
   "execution_count": null,
   "outputs": [],
   "source": [
    "format = '600+0'\n",
    "format2 = '300+0'\n",
    "a = db.groupby(['TimeControl','move']).agg({'delta_time': np.mean}).reset_index()\n",
    "\n",
    "p1 = a[(a['TimeControl'] == format) & (a['move'] < 60)][['move','delta_time']]\n",
    "p11 = a[(a['TimeControl'] == format2) & (a['move'] < 60)][['move','delta_time']]\n",
    "\n",
    "plt.figure()\n",
    "plt.plot(p1['move'],600-np.cumsum(p1['delta_time']),label=f'format: {format}')\n",
    "plt.plot(p11['move'],600-2*np.cumsum(p11['delta_time']),label=f'format: {format2}')\n",
    "# plt.plot(p2['move'],np.cumsum(p2['delta_time']),label='duży błąd')\n",
    "\n",
    "plt.legend()\n",
    "plt.xlim(0,58)\n",
    "plt.ylim(0,600)\n",
    "plt.xlabel('numer ruchu')\n",
    "plt.ylabel(ylabel='czas [s]')\n",
    "plt.title(f'średni pozostały czas w konkretnym ruchu')\n",
    "plt.savefig('graph.svg')\n",
    "plt.show()\n"
   ],
   "metadata": {
    "collapsed": false,
    "pycharm": {
     "name": "#%%\n"
    }
   }
  },
  {
   "cell_type": "code",
   "execution_count": null,
   "outputs": [],
   "source": [],
   "metadata": {
    "collapsed": false,
    "pycharm": {
     "name": "#%%\n"
    }
   }
  }
 ],
 "metadata": {
  "interpreter": {
   "hash": "254687e04be19c0b1a29203801a4af62c46341d497d3f0e7850aec614db8f292"
  },
  "kernelspec": {
   "display_name": "PyCharm (Chess)",
   "language": "python",
   "name": "pycharm-592aa57d"
  },
  "language_info": {
   "codemirror_mode": {
    "name": "ipython",
    "version": 3
   },
   "file_extension": ".py",
   "mimetype": "text/x-python",
   "name": "python",
   "nbconvert_exporter": "python",
   "pygments_lexer": "ipython3",
   "version": "3.8.11"
  }
 },
 "nbformat": 4,
 "nbformat_minor": 2
}